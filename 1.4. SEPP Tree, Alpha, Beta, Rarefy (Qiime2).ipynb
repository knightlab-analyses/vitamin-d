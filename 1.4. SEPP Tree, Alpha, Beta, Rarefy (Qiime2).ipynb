{
 "cells": [
  {
   "cell_type": "markdown",
   "metadata": {},
   "source": [
    "#### This notebook is to use Qiime2-2020.2 environment to construct phylogenetic tree, assign taxonomy, rarefaction, calculate alpha and beta diversities and generate PCoA plots"
   ]
  },
  {
   "cell_type": "code",
   "execution_count": null,
   "metadata": {},
   "outputs": [],
   "source": [
    "### 1. import files\n",
    "qiime tools import \\\n",
    "--input-path ../data/57316_mros_deblur_otus_unrare.biom \\\n",
    "--type 'FeatureTable[Frequency]' \\\n",
    "--input-format BIOMV210Format \\\n",
    "--output-path ../data/57316_mros_deblur_otus_unrare.qza\n",
    "\n",
    "qiime tools import \\\n",
    "--input-path ../Qiita_Study11274_ID57316/57316_reference-hit.seqs.fa \\\n",
    "--output-path ../data/57316_reference-hit.seqs.qza \\\n",
    "--type \"FeatureData[Sequence]\" \n",
    "\n",
    "qiime tools import \\\n",
    "  --input-path ../Qiita_Study11274_ID57316/57316_insertion_tree.relabelled.tre \\\n",
    "  --output-path ../data/57316_sepp_tree.qza \\\n",
    "  --type 'Phylogeny[Rooted]'\n",
    "    \n",
    "# filter feature table that only contains fragments that are in the insertion tree    \n",
    "qiime fragment-insertion filter-features \\\n",
    "    --i-table ../data/57316_mros_deblur_otus_unrare.qza \\\n",
    "    --i-tree ../data/57316_sepp_tree.qza \\\n",
    "    --o-filtered-table ../data/57316_filtered-table-deblur.qza \\\n",
    "    --o-removed-table ../data/57316_removed-table.qza    "
   ]
  },
  {
   "cell_type": "code",
   "execution_count": null,
   "metadata": {},
   "outputs": [],
   "source": [
    "### 2. assign taxonomy\n",
    "wget https://github.com/BenKaehler/readytowear/raw/master/data/gg_13_8/515f-806r/human-stool.qza\n",
    "wget https://github.com/BenKaehler/readytowear/raw/master/data/gg_13_8/515f-806r/ref-seqs-v4.qza\n",
    "wget https://github.com/BenKaehler/readytowear/raw/master/data/gg_13_8/515f-806r/ref-tax.qza\n",
    "\n",
    "qiime feature-classifier fit-classifier-naive-bayes \\\n",
    "--i-reference-reads ../data/ref-seqs-v4.qza \\\n",
    "--i-reference-taxonomy ../data/ref-tax.qza \\\n",
    "--i-class-weight ../data/human-stool.qza \\\n",
    "--o-classifier ../data/gg138_v4_human-stool_classifier.qza\n",
    "\n",
    "qiime feature-classifier classify-sklearn \\\n",
    "  --i-reads ../data/57316_reference-hit.seqs.qza \\\n",
    "  --i-classifier ../data/gg138_v4_human-stool_classifier.qza \\\n",
    "  --o-classification ../data/57316_bespoke-taxonomy.qza\n",
    "    \n",
    "qiime metadata tabulate \\\n",
    "  --m-input-file ../data/57316_bespoke-taxonomy.qza \\\n",
    "  --m-input-file ../data/57316_reference-hit.seqs.qza \\\n",
    "  --o-visualization ../visu/57316_bespoke-taxonomy.qzv\n",
    "    \n",
    "qiime tools export \\\n",
    "  --input-path ../data/57316_bespoke-taxonomy.qza \\\n",
    "  --output-path ../data/57316_deblur_taxonomy    "
   ]
  },
  {
   "cell_type": "code",
   "execution_count": null,
   "metadata": {},
   "outputs": [],
   "source": [
    "### 3. Alpha rarefaction \n",
    "qiime diversity alpha-rarefaction \\\n",
    "    --i-table ../data/57316_filtered-table-deblur.qza \\\n",
    "    --i-phylogeny ../data/57316_sepp_tree.qza \\\n",
    "    --p-max-depth 50000 \\\n",
    "    --m-metadata-file ../data/mapping_MrOS_add.txt \\\n",
    "    --o-visualization ../visu/57316-alpha-rarefaction.qzv  "
   ]
  },
  {
   "cell_type": "code",
   "execution_count": null,
   "metadata": {},
   "outputs": [],
   "source": [
    "### 4. Compute alpha and beta diversities (lose one sample at 11111)\n",
    "qiime diversity core-metrics-phylogenetic \\\n",
    "    --i-table ../data/57316_filtered-table-deblur.qza \\\n",
    "    --i-phylogeny ../data/57316_sepp_tree.qza \\\n",
    "    --p-sampling-depth 11111 \\\n",
    "    --m-metadata-file ../data/mapping_MrOS_add.txt \\\n",
    "    --p-n-jobs 1 \\\n",
    "    --output-dir ../data/57316-core-metrics-results\n",
    "    \n",
    "# export alpha and beta diversities\n",
    "qiime tools export \\\n",
    "  --input-path ../data/57316-core-metrics-results/faith_pd_vector.qza \\\n",
    "  --output-path ../data/57316-alpha_PD\n",
    "\n",
    "qiime tools export \\\n",
    "  --input-path ../data/57316-core-metrics-results/unweighted_unifrac_pcoa_results.qza \\\n",
    "  --output-path ../data/57316-unweighted_unifrac_pcoa_results\n",
    "\n",
    "qiime tools export \\\n",
    "  --input-path ../data/57316-core-metrics-results/unweighted_unifrac_distance_matrix.qza \\\n",
    "  --output-path ../data/57316-unweighted_unifrac_distance"
   ]
  },
  {
   "cell_type": "code",
   "execution_count": null,
   "metadata": {},
   "outputs": [],
   "source": [
    "# rarefy feature table\n",
    "qiime feature-table rarefy \\\n",
    "--i-table ../data/57316_filtered-table-deblur.qza \\\n",
    "--p-sampling-depth 11111 \\\n",
    "--o-rarefied-table ../data/57316_mros_deblur_otus_rare.qza\n",
    "\n",
    "# convert qza to biom\n",
    "qiime tools export \\\n",
    "--input-path ../data/57316_mros_deblur_otus_rare.qza \\\n",
    "--output-path ../data/57316_mros_otus_rare_exp\n",
    "\n",
    "# convert biom to txt\n",
    "biom convert -i ../data/57316_mros_otus_rare_exp/feature-table.biom \\\n",
    "  -o ../data/57316_mros_otus_rare_exp/57316_feature-table-rare.txt \\\n",
    "  --to-tsv"
   ]
  }
 ],
 "metadata": {
  "kernelspec": {
   "display_name": "Python 3",
   "language": "python",
   "name": "python3"
  },
  "language_info": {
   "codemirror_mode": {
    "name": "ipython",
    "version": 3
   },
   "file_extension": ".py",
   "mimetype": "text/x-python",
   "name": "python",
   "nbconvert_exporter": "python",
   "pygments_lexer": "ipython3",
   "version": "3.6.10"
  }
 },
 "nbformat": 4,
 "nbformat_minor": 2
}
