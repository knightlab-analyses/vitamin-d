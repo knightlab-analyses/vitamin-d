{
 "cells": [
  {
   "cell_type": "markdown",
   "metadata": {},
   "source": [
    "#### This notebook is to perform Non-Redundant Analysis on beta diversities"
   ]
  },
  {
   "cell_type": "markdown",
   "metadata": {},
   "source": [
    "##### reference: Falony G, Joossens M, Vieira-Silva S, et al. Population-level analysis of gut microbiome variation. Science 2016;352:560-4"
   ]
  },
  {
   "cell_type": "code",
   "execution_count": 1,
   "metadata": {},
   "outputs": [
    {
     "name": "stderr",
     "output_type": "stream",
     "text": [
      "Loading required package: permute\n",
      "Loading required package: lattice\n",
      "This is vegan 2.4-5\n"
     ]
    }
   ],
   "source": [
    "library(vegan)"
   ]
  },
  {
   "cell_type": "code",
   "execution_count": 2,
   "metadata": {},
   "outputs": [
    {
     "data": {
      "text/html": [
       "<ol class=list-inline>\n",
       "\t<li>598</li>\n",
       "\t<li>76</li>\n",
       "</ol>\n"
      ],
      "text/latex": [
       "\\begin{enumerate*}\n",
       "\\item 598\n",
       "\\item 76\n",
       "\\end{enumerate*}\n"
      ],
      "text/markdown": [
       "1. 598\n",
       "2. 76\n",
       "\n",
       "\n"
      ],
      "text/plain": [
       "[1] 598  76"
      ]
     },
     "metadata": {},
     "output_type": "display_data"
    }
   ],
   "source": [
    "mf = read.csv('../data/mros_mapping_alpha.txt', stringsAsFactors=FALSE, sep='\\t')\n",
    "colnames(mf)[1] = 'SampleName'\n",
    "dim(mf)"
   ]
  },
  {
   "cell_type": "code",
   "execution_count": 3,
   "metadata": {},
   "outputs": [],
   "source": [
    "pc = read.csv('../data/57316-unweighted_unifrac_pcoa_results/ordination.txt', \n",
    "              header=FALSE, sep='\\t', skip=9)"
   ]
  },
  {
   "cell_type": "code",
   "execution_count": 4,
   "metadata": {},
   "outputs": [
    {
     "data": {
      "text/html": [
       "<table>\n",
       "<thead><tr><th scope=col>V1</th><th scope=col>V2</th><th scope=col>V3</th><th scope=col>V4</th><th scope=col>V5</th><th scope=col>V6</th><th scope=col>V7</th><th scope=col>V8</th><th scope=col>V9</th><th scope=col>V10</th><th scope=col>...</th><th scope=col>V590</th><th scope=col>V591</th><th scope=col>V592</th><th scope=col>V593</th><th scope=col>V594</th><th scope=col>V595</th><th scope=col>V596</th><th scope=col>V597</th><th scope=col>V598</th><th scope=col>V599</th></tr></thead>\n",
       "<tbody>\n",
       "\t<tr><td>MN1837       </td><td>-0.133531457 </td><td> 0.05327960  </td><td>-0.003205608 </td><td>-0.02066416  </td><td>-0.021636418 </td><td> 0.0532835585</td><td>-0.04065671  </td><td>-0.033119438 </td><td>-0.03210674  </td><td>...          </td><td>0            </td><td>0            </td><td>0            </td><td>0            </td><td>0            </td><td>0            </td><td>0            </td><td>0            </td><td>0            </td><td>0            </td></tr>\n",
       "\t<tr><td>PO7410       </td><td>-0.104048548 </td><td> 0.02580699  </td><td> 0.033825454 </td><td>-0.02928451  </td><td>-0.002161169 </td><td>-0.0082535344</td><td> 0.05422238  </td><td> 0.033225205 </td><td> 0.03590459  </td><td>...          </td><td>0            </td><td>0            </td><td>0            </td><td>0            </td><td>0            </td><td>0            </td><td>0            </td><td>0            </td><td>0            </td><td>0            </td></tr>\n",
       "\t<tr><td>SD8837       </td><td>-0.146894300 </td><td> 0.03675074  </td><td>-0.013270270 </td><td> 0.03593115  </td><td>-0.009758197 </td><td>-0.0731446450</td><td>-0.01418593  </td><td> 0.008091978 </td><td>-0.02931769  </td><td>...          </td><td>0            </td><td>0            </td><td>0            </td><td>0            </td><td>0            </td><td>0            </td><td>0            </td><td>0            </td><td>0            </td><td>0            </td></tr>\n",
       "\t<tr><td>MN2250       </td><td>-0.002568892 </td><td>-0.22671990  </td><td>-0.007993474 </td><td>-0.01448977  </td><td>-0.025188834 </td><td> 0.0005290897</td><td> 0.05736937  </td><td> 0.002043613 </td><td> 0.02091412  </td><td>...          </td><td>0            </td><td>0            </td><td>0            </td><td>0            </td><td>0            </td><td>0            </td><td>0            </td><td>0            </td><td>0            </td><td>0            </td></tr>\n",
       "\t<tr><td>SD8603       </td><td> 0.145011569 </td><td> 0.04990007  </td><td> 0.075304716 </td><td>-0.03125772  </td><td>-0.057710042 </td><td> 0.0538719398</td><td>-0.04802308  </td><td> 0.021987984 </td><td>-0.03329117  </td><td>...          </td><td>0            </td><td>0            </td><td>0            </td><td>0            </td><td>0            </td><td>0            </td><td>0            </td><td>0            </td><td>0            </td><td>0            </td></tr>\n",
       "\t<tr><td>PI5263       </td><td> 0.091272545 </td><td>-0.07104446  </td><td> 0.042072948 </td><td>-0.05499325  </td><td> 0.024523785 </td><td>-0.0126305506</td><td> 0.04208949  </td><td>-0.058313770 </td><td>-0.06811748  </td><td>...          </td><td>0            </td><td>0            </td><td>0            </td><td>0            </td><td>0            </td><td>0            </td><td>0            </td><td>0            </td><td>0            </td><td>0            </td></tr>\n",
       "</tbody>\n",
       "</table>\n"
      ],
      "text/latex": [
       "\\begin{tabular}{r|lllllllllllllllllllllllllllllllllllllllllllllllllllllllllllllllllllllllllllllllllllllllllllllllllllllllllllllllllllllllllllllllllllllllllllllllllllllllllllllllllllllllllllllllllllllllllllllllllllllllllllllllllllllllllllllllllllllllllllllllllllllllllllllllllllllllllllllllllllllllllllllllllllllllllllllllllllllllllllllllllllllllllllllllllllllllllllllllllllllllllllllllllllllllllllllllllllllllllllllllllllllllllllllllllllllllllllllllllllllllllllllllllllllllllllllllllllllllllllllllllllllllllllllllllllllllllllllllllllllllllllllllllllllllllllllllllllllllllllllllllllllllllllllllllllllllllllllllllllllll}\n",
       " V1 & V2 & V3 & V4 & V5 & V6 & V7 & V8 & V9 & V10 & ... & V590 & V591 & V592 & V593 & V594 & V595 & V596 & V597 & V598 & V599\\\\\n",
       "\\hline\n",
       "\t MN1837        & -0.133531457  &  0.05327960   & -0.003205608  & -0.02066416   & -0.021636418  &  0.0532835585 & -0.04065671   & -0.033119438  & -0.03210674   & ...           & 0             & 0             & 0             & 0             & 0             & 0             & 0             & 0             & 0             & 0            \\\\\n",
       "\t PO7410        & -0.104048548  &  0.02580699   &  0.033825454  & -0.02928451   & -0.002161169  & -0.0082535344 &  0.05422238   &  0.033225205  &  0.03590459   & ...           & 0             & 0             & 0             & 0             & 0             & 0             & 0             & 0             & 0             & 0            \\\\\n",
       "\t SD8837        & -0.146894300  &  0.03675074   & -0.013270270  &  0.03593115   & -0.009758197  & -0.0731446450 & -0.01418593   &  0.008091978  & -0.02931769   & ...           & 0             & 0             & 0             & 0             & 0             & 0             & 0             & 0             & 0             & 0            \\\\\n",
       "\t MN2250        & -0.002568892  & -0.22671990   & -0.007993474  & -0.01448977   & -0.025188834  &  0.0005290897 &  0.05736937   &  0.002043613  &  0.02091412   & ...           & 0             & 0             & 0             & 0             & 0             & 0             & 0             & 0             & 0             & 0            \\\\\n",
       "\t SD8603        &  0.145011569  &  0.04990007   &  0.075304716  & -0.03125772   & -0.057710042  &  0.0538719398 & -0.04802308   &  0.021987984  & -0.03329117   & ...           & 0             & 0             & 0             & 0             & 0             & 0             & 0             & 0             & 0             & 0            \\\\\n",
       "\t PI5263        &  0.091272545  & -0.07104446   &  0.042072948  & -0.05499325   &  0.024523785  & -0.0126305506 &  0.04208949   & -0.058313770  & -0.06811748   & ...           & 0             & 0             & 0             & 0             & 0             & 0             & 0             & 0             & 0             & 0            \\\\\n",
       "\\end{tabular}\n"
      ],
      "text/markdown": [
       "\n",
       "| V1 | V2 | V3 | V4 | V5 | V6 | V7 | V8 | V9 | V10 | ... | V590 | V591 | V592 | V593 | V594 | V595 | V596 | V597 | V598 | V599 |\n",
       "|---|---|---|---|---|---|---|---|---|---|---|---|---|---|---|---|---|---|---|---|---|\n",
       "| MN1837        | -0.133531457  |  0.05327960   | -0.003205608  | -0.02066416   | -0.021636418  |  0.0532835585 | -0.04065671   | -0.033119438  | -0.03210674   | ...           | 0             | 0             | 0             | 0             | 0             | 0             | 0             | 0             | 0             | 0             |\n",
       "| PO7410        | -0.104048548  |  0.02580699   |  0.033825454  | -0.02928451   | -0.002161169  | -0.0082535344 |  0.05422238   |  0.033225205  |  0.03590459   | ...           | 0             | 0             | 0             | 0             | 0             | 0             | 0             | 0             | 0             | 0             |\n",
       "| SD8837        | -0.146894300  |  0.03675074   | -0.013270270  |  0.03593115   | -0.009758197  | -0.0731446450 | -0.01418593   |  0.008091978  | -0.02931769   | ...           | 0             | 0             | 0             | 0             | 0             | 0             | 0             | 0             | 0             | 0             |\n",
       "| MN2250        | -0.002568892  | -0.22671990   | -0.007993474  | -0.01448977   | -0.025188834  |  0.0005290897 |  0.05736937   |  0.002043613  |  0.02091412   | ...           | 0             | 0             | 0             | 0             | 0             | 0             | 0             | 0             | 0             | 0             |\n",
       "| SD8603        |  0.145011569  |  0.04990007   |  0.075304716  | -0.03125772   | -0.057710042  |  0.0538719398 | -0.04802308   |  0.021987984  | -0.03329117   | ...           | 0             | 0             | 0             | 0             | 0             | 0             | 0             | 0             | 0             | 0             |\n",
       "| PI5263        |  0.091272545  | -0.07104446   |  0.042072948  | -0.05499325   |  0.024523785  | -0.0126305506 |  0.04208949   | -0.058313770  | -0.06811748   | ...           | 0             | 0             | 0             | 0             | 0             | 0             | 0             | 0             | 0             | 0             |\n",
       "\n"
      ],
      "text/plain": [
       "  V1     V2           V3          V4           V5          V6          \n",
       "1 MN1837 -0.133531457  0.05327960 -0.003205608 -0.02066416 -0.021636418\n",
       "2 PO7410 -0.104048548  0.02580699  0.033825454 -0.02928451 -0.002161169\n",
       "3 SD8837 -0.146894300  0.03675074 -0.013270270  0.03593115 -0.009758197\n",
       "4 MN2250 -0.002568892 -0.22671990 -0.007993474 -0.01448977 -0.025188834\n",
       "5 SD8603  0.145011569  0.04990007  0.075304716 -0.03125772 -0.057710042\n",
       "6 PI5263  0.091272545 -0.07104446  0.042072948 -0.05499325  0.024523785\n",
       "  V7            V8          V9           V10         ... V590 V591 V592 V593\n",
       "1  0.0532835585 -0.04065671 -0.033119438 -0.03210674 ... 0    0    0    0   \n",
       "2 -0.0082535344  0.05422238  0.033225205  0.03590459 ... 0    0    0    0   \n",
       "3 -0.0731446450 -0.01418593  0.008091978 -0.02931769 ... 0    0    0    0   \n",
       "4  0.0005290897  0.05736937  0.002043613  0.02091412 ... 0    0    0    0   \n",
       "5  0.0538719398 -0.04802308  0.021987984 -0.03329117 ... 0    0    0    0   \n",
       "6 -0.0126305506  0.04208949 -0.058313770 -0.06811748 ... 0    0    0    0   \n",
       "  V594 V595 V596 V597 V598 V599\n",
       "1 0    0    0    0    0    0   \n",
       "2 0    0    0    0    0    0   \n",
       "3 0    0    0    0    0    0   \n",
       "4 0    0    0    0    0    0   \n",
       "5 0    0    0    0    0    0   \n",
       "6 0    0    0    0    0    0   "
      ]
     },
     "metadata": {},
     "output_type": "display_data"
    }
   ],
   "source": [
    "head(pc)"
   ]
  },
  {
   "cell_type": "code",
   "execution_count": 5,
   "metadata": {},
   "outputs": [
    {
     "data": {
      "text/html": [
       "<ol class=list-inline>\n",
       "\t<li>600</li>\n",
       "\t<li>11</li>\n",
       "</ol>\n"
      ],
      "text/latex": [
       "\\begin{enumerate*}\n",
       "\\item 600\n",
       "\\item 11\n",
       "\\end{enumerate*}\n"
      ],
      "text/markdown": [
       "1. 600\n",
       "2. 11\n",
       "\n",
       "\n"
      ],
      "text/plain": [
       "[1] 600  11"
      ]
     },
     "metadata": {},
     "output_type": "display_data"
    },
    {
     "data": {
      "text/html": [
       "<table>\n",
       "<thead><tr><th scope=col>SampleName</th><th scope=col>PC1</th><th scope=col>PC2</th><th scope=col>PC3</th><th scope=col>PC4</th><th scope=col>PC5</th><th scope=col>PC6</th><th scope=col>PC7</th><th scope=col>PC8</th><th scope=col>PC9</th><th scope=col>PC10</th></tr></thead>\n",
       "<tbody>\n",
       "\t<tr><td>MN1837       </td><td>-0.133531457 </td><td> 0.05327960  </td><td>-0.003205608 </td><td>-0.02066416  </td><td>-0.021636418 </td><td> 0.0532835585</td><td>-0.04065671  </td><td>-0.033119438 </td><td>-0.03210674  </td><td> 0.02449673  </td></tr>\n",
       "\t<tr><td>PO7410       </td><td>-0.104048548 </td><td> 0.02580699  </td><td> 0.033825454 </td><td>-0.02928451  </td><td>-0.002161169 </td><td>-0.0082535344</td><td> 0.05422238  </td><td> 0.033225205 </td><td> 0.03590459  </td><td>-0.01244039  </td></tr>\n",
       "\t<tr><td>SD8837       </td><td>-0.146894300 </td><td> 0.03675074  </td><td>-0.013270270 </td><td> 0.03593115  </td><td>-0.009758197 </td><td>-0.0731446450</td><td>-0.01418593  </td><td> 0.008091978 </td><td>-0.02931769  </td><td>-0.02090502  </td></tr>\n",
       "\t<tr><td>MN2250       </td><td>-0.002568892 </td><td>-0.22671990  </td><td>-0.007993474 </td><td>-0.01448977  </td><td>-0.025188834 </td><td> 0.0005290897</td><td> 0.05736937  </td><td> 0.002043613 </td><td> 0.02091412  </td><td> 0.02714707  </td></tr>\n",
       "\t<tr><td>SD8603       </td><td> 0.145011569 </td><td> 0.04990007  </td><td> 0.075304716 </td><td>-0.03125772  </td><td>-0.057710042 </td><td> 0.0538719398</td><td>-0.04802308  </td><td> 0.021987984 </td><td>-0.03329117  </td><td>-0.01265881  </td></tr>\n",
       "\t<tr><td>PI5263       </td><td> 0.091272545 </td><td>-0.07104446  </td><td> 0.042072948 </td><td>-0.05499325  </td><td> 0.024523785 </td><td>-0.0126305506</td><td> 0.04208949  </td><td>-0.058313770 </td><td>-0.06811748  </td><td> 0.03321333  </td></tr>\n",
       "</tbody>\n",
       "</table>\n"
      ],
      "text/latex": [
       "\\begin{tabular}{r|lllllllllll}\n",
       " SampleName & PC1 & PC2 & PC3 & PC4 & PC5 & PC6 & PC7 & PC8 & PC9 & PC10\\\\\n",
       "\\hline\n",
       "\t MN1837        & -0.133531457  &  0.05327960   & -0.003205608  & -0.02066416   & -0.021636418  &  0.0532835585 & -0.04065671   & -0.033119438  & -0.03210674   &  0.02449673  \\\\\n",
       "\t PO7410        & -0.104048548  &  0.02580699   &  0.033825454  & -0.02928451   & -0.002161169  & -0.0082535344 &  0.05422238   &  0.033225205  &  0.03590459   & -0.01244039  \\\\\n",
       "\t SD8837        & -0.146894300  &  0.03675074   & -0.013270270  &  0.03593115   & -0.009758197  & -0.0731446450 & -0.01418593   &  0.008091978  & -0.02931769   & -0.02090502  \\\\\n",
       "\t MN2250        & -0.002568892  & -0.22671990   & -0.007993474  & -0.01448977   & -0.025188834  &  0.0005290897 &  0.05736937   &  0.002043613  &  0.02091412   &  0.02714707  \\\\\n",
       "\t SD8603        &  0.145011569  &  0.04990007   &  0.075304716  & -0.03125772   & -0.057710042  &  0.0538719398 & -0.04802308   &  0.021987984  & -0.03329117   & -0.01265881  \\\\\n",
       "\t PI5263        &  0.091272545  & -0.07104446   &  0.042072948  & -0.05499325   &  0.024523785  & -0.0126305506 &  0.04208949   & -0.058313770  & -0.06811748   &  0.03321333  \\\\\n",
       "\\end{tabular}\n"
      ],
      "text/markdown": [
       "\n",
       "| SampleName | PC1 | PC2 | PC3 | PC4 | PC5 | PC6 | PC7 | PC8 | PC9 | PC10 |\n",
       "|---|---|---|---|---|---|---|---|---|---|---|\n",
       "| MN1837        | -0.133531457  |  0.05327960   | -0.003205608  | -0.02066416   | -0.021636418  |  0.0532835585 | -0.04065671   | -0.033119438  | -0.03210674   |  0.02449673   |\n",
       "| PO7410        | -0.104048548  |  0.02580699   |  0.033825454  | -0.02928451   | -0.002161169  | -0.0082535344 |  0.05422238   |  0.033225205  |  0.03590459   | -0.01244039   |\n",
       "| SD8837        | -0.146894300  |  0.03675074   | -0.013270270  |  0.03593115   | -0.009758197  | -0.0731446450 | -0.01418593   |  0.008091978  | -0.02931769   | -0.02090502   |\n",
       "| MN2250        | -0.002568892  | -0.22671990   | -0.007993474  | -0.01448977   | -0.025188834  |  0.0005290897 |  0.05736937   |  0.002043613  |  0.02091412   |  0.02714707   |\n",
       "| SD8603        |  0.145011569  |  0.04990007   |  0.075304716  | -0.03125772   | -0.057710042  |  0.0538719398 | -0.04802308   |  0.021987984  | -0.03329117   | -0.01265881   |\n",
       "| PI5263        |  0.091272545  | -0.07104446   |  0.042072948  | -0.05499325   |  0.024523785  | -0.0126305506 |  0.04208949   | -0.058313770  | -0.06811748   |  0.03321333   |\n",
       "\n"
      ],
      "text/plain": [
       "  SampleName PC1          PC2         PC3          PC4         PC5         \n",
       "1 MN1837     -0.133531457  0.05327960 -0.003205608 -0.02066416 -0.021636418\n",
       "2 PO7410     -0.104048548  0.02580699  0.033825454 -0.02928451 -0.002161169\n",
       "3 SD8837     -0.146894300  0.03675074 -0.013270270  0.03593115 -0.009758197\n",
       "4 MN2250     -0.002568892 -0.22671990 -0.007993474 -0.01448977 -0.025188834\n",
       "5 SD8603      0.145011569  0.04990007  0.075304716 -0.03125772 -0.057710042\n",
       "6 PI5263      0.091272545 -0.07104446  0.042072948 -0.05499325  0.024523785\n",
       "  PC6           PC7         PC8          PC9         PC10       \n",
       "1  0.0532835585 -0.04065671 -0.033119438 -0.03210674  0.02449673\n",
       "2 -0.0082535344  0.05422238  0.033225205  0.03590459 -0.01244039\n",
       "3 -0.0731446450 -0.01418593  0.008091978 -0.02931769 -0.02090502\n",
       "4  0.0005290897  0.05736937  0.002043613  0.02091412  0.02714707\n",
       "5  0.0538719398 -0.04802308  0.021987984 -0.03329117 -0.01265881\n",
       "6 -0.0126305506  0.04208949 -0.058313770 -0.06811748  0.03321333"
      ]
     },
     "metadata": {},
     "output_type": "display_data"
    }
   ],
   "source": [
    "pc_10 = pc[, 1:11]\n",
    "colnames(pc_10) = c('SampleName', 'PC1', 'PC2', 'PC3', 'PC4', 'PC5', 'PC6', 'PC7', 'PC8', 'PC9', 'PC10')\n",
    "dim(pc_10)\n",
    "head(pc_10)"
   ]
  },
  {
   "cell_type": "code",
   "execution_count": 6,
   "metadata": {},
   "outputs": [
    {
     "data": {
      "text/html": [
       "<table>\n",
       "<thead><tr><th scope=col>SampleName</th><th scope=col>BarcodeSequence</th><th scope=col>LinkerPrimerSequence</th><th scope=col>Experiment_Design_Description</th><th scope=col>Library_Construction_Protocol</th><th scope=col>Linker</th><th scope=col>Platform</th><th scope=col>Center_Name</th><th scope=col>Center_Project</th><th scope=col>Instrument_Model</th><th scope=col>...</th><th scope=col>ratio_catabolism</th><th scope=col>QLCOMP</th><th scope=col>M1STATIN</th><th scope=col>Antihistamine</th><th scope=col>Laxative</th><th scope=col>MIDATA</th><th scope=col>Rstarch_total</th><th scope=col>Rstarches_c</th><th scope=col>M1PPUMP</th><th scope=col>alpha_pd</th></tr></thead>\n",
       "<tbody>\n",
       "\t<tr><td>BI0023                                              </td><td>TCTGGTGACATT                                        </td><td>GGACTACHVGGGTWTCTAAT                                </td><td>16S stool samples sequenced for MrOS Vitamin D study</td><td>16S rRNA v4                                         </td><td>GT                                                  </td><td>Illumina                                            </td><td>BI                                                  </td><td>MrOS                                                </td><td>Illumina MiSeq                                      </td><td>...                                                 </td><td>0.06860465                                          </td><td>1:GOOD/EXCELLENT                                    </td><td>0: No                                               </td><td>0:No                                                </td><td>0:No                                                </td><td>1: Yes                                              </td><td>3.066569                                            </td><td>0                                                   </td><td>0: No                                               </td><td>30.02140                                            </td></tr>\n",
       "\t<tr><td>BI0056                                              </td><td>CAAGCATGCCTA                                        </td><td>GGACTACHVGGGTWTCTAAT                                </td><td>16S stool samples sequenced for MrOS Vitamin D study</td><td>16S rRNA v4                                         </td><td>GT                                                  </td><td>Illumina                                            </td><td>BI                                                  </td><td>MrOS                                                </td><td>Illumina MiSeq                                      </td><td>...                                                 </td><td>0.09974490                                          </td><td>1:GOOD/EXCELLENT                                    </td><td>0: No                                               </td><td>0:No                                                </td><td>0:No                                                </td><td>1: Yes                                              </td><td>3.038136                                            </td><td>0                                                   </td><td>1: Yes                                              </td><td>18.41498                                            </td></tr>\n",
       "\t<tr><td>BI0131                                              </td><td>CTATTTGCGACA                                        </td><td>GGACTACHVGGGTWTCTAAT                                </td><td>16S stool samples sequenced for MrOS Vitamin D study</td><td>16S rRNA v4                                         </td><td>GT                                                  </td><td>Illumina                                            </td><td>BI                                                  </td><td>MrOS                                                </td><td>Illumina MiSeq                                      </td><td>...                                                 </td><td>0.06450216                                          </td><td>1:GOOD/EXCELLENT                                    </td><td>1: Yes                                              </td><td>0:No                                                </td><td>0:No                                                </td><td>1: Yes                                              </td><td>2.840599                                            </td><td>0                                                   </td><td>0: No                                               </td><td>25.75695                                            </td></tr>\n",
       "\t<tr><td>BI0153                                              </td><td>ATCGGCGTTACA                                        </td><td>GGACTACHVGGGTWTCTAAT                                </td><td>16S stool samples sequenced for MrOS Vitamin D study</td><td>16S rRNA v4                                         </td><td>GT                                                  </td><td>Illumina                                            </td><td>BI                                                  </td><td>MrOS                                                </td><td>Illumina MiSeq                                      </td><td>...                                                 </td><td>0.07838828                                          </td><td>1:GOOD/EXCELLENT                                    </td><td>1: Yes                                              </td><td>0:No                                                </td><td>0:No                                                </td><td>1: Yes                                              </td><td>4.106798                                            </td><td>0                                                   </td><td>0: No                                               </td><td>20.16791                                            </td></tr>\n",
       "\t<tr><td>BI0215                                              </td><td>CCTCTCGTGATC                                        </td><td>GGACTACHVGGGTWTCTAAT                                </td><td>16S stool samples sequenced for MrOS Vitamin D study</td><td>16S rRNA v4                                         </td><td>GT                                                  </td><td>Illumina                                            </td><td>BI                                                  </td><td>MrOS                                                </td><td>Illumina MiSeq                                      </td><td>...                                                 </td><td>0.10969697                                          </td><td>1:GOOD/EXCELLENT                                    </td><td>0: No                                               </td><td>0:No                                                </td><td>0:No                                                </td><td>1: Yes                                              </td><td>0.971114                                            </td><td>0                                                   </td><td>0: No                                               </td><td>20.71433                                            </td></tr>\n",
       "\t<tr><td>BI0353                                              </td><td>TGCCATCTGAAT                                        </td><td>GGACTACHVGGGTWTCTAAT                                </td><td>16S stool samples sequenced for MrOS Vitamin D study</td><td>16S rRNA v4                                         </td><td>GT                                                  </td><td>Illumina                                            </td><td>BI                                                  </td><td>MrOS                                                </td><td>Illumina MiSeq                                      </td><td>...                                                 </td><td>0.09179487                                          </td><td>1:GOOD/EXCELLENT                                    </td><td>1: Yes                                              </td><td>0:No                                                </td><td>0:No                                                </td><td>1: Yes                                              </td><td>4.813568                                            </td><td>0                                                   </td><td>0: No                                               </td><td>14.17015                                            </td></tr>\n",
       "</tbody>\n",
       "</table>\n"
      ],
      "text/latex": [
       "\\begin{tabular}{r|llllllllllllllllllllllllllllllllllllllllllllllllllllllllllllllllllllllllllll}\n",
       " SampleName & BarcodeSequence & LinkerPrimerSequence & Experiment\\_Design\\_Description & Library\\_Construction\\_Protocol & Linker & Platform & Center\\_Name & Center\\_Project & Instrument\\_Model & ... & ratio\\_catabolism & QLCOMP & M1STATIN & Antihistamine & Laxative & MIDATA & Rstarch\\_total & Rstarches\\_c & M1PPUMP & alpha\\_pd\\\\\n",
       "\\hline\n",
       "\t BI0023                                               & TCTGGTGACATT                                         & GGACTACHVGGGTWTCTAAT                                 & 16S stool samples sequenced for MrOS Vitamin D study & 16S rRNA v4                                          & GT                                                   & Illumina                                             & BI                                                   & MrOS                                                 & Illumina MiSeq                                       & ...                                                  & 0.06860465                                           & 1:GOOD/EXCELLENT                                     & 0: No                                                & 0:No                                                 & 0:No                                                 & 1: Yes                                               & 3.066569                                             & 0                                                    & 0: No                                                & 30.02140                                            \\\\\n",
       "\t BI0056                                               & CAAGCATGCCTA                                         & GGACTACHVGGGTWTCTAAT                                 & 16S stool samples sequenced for MrOS Vitamin D study & 16S rRNA v4                                          & GT                                                   & Illumina                                             & BI                                                   & MrOS                                                 & Illumina MiSeq                                       & ...                                                  & 0.09974490                                           & 1:GOOD/EXCELLENT                                     & 0: No                                                & 0:No                                                 & 0:No                                                 & 1: Yes                                               & 3.038136                                             & 0                                                    & 1: Yes                                               & 18.41498                                            \\\\\n",
       "\t BI0131                                               & CTATTTGCGACA                                         & GGACTACHVGGGTWTCTAAT                                 & 16S stool samples sequenced for MrOS Vitamin D study & 16S rRNA v4                                          & GT                                                   & Illumina                                             & BI                                                   & MrOS                                                 & Illumina MiSeq                                       & ...                                                  & 0.06450216                                           & 1:GOOD/EXCELLENT                                     & 1: Yes                                               & 0:No                                                 & 0:No                                                 & 1: Yes                                               & 2.840599                                             & 0                                                    & 0: No                                                & 25.75695                                            \\\\\n",
       "\t BI0153                                               & ATCGGCGTTACA                                         & GGACTACHVGGGTWTCTAAT                                 & 16S stool samples sequenced for MrOS Vitamin D study & 16S rRNA v4                                          & GT                                                   & Illumina                                             & BI                                                   & MrOS                                                 & Illumina MiSeq                                       & ...                                                  & 0.07838828                                           & 1:GOOD/EXCELLENT                                     & 1: Yes                                               & 0:No                                                 & 0:No                                                 & 1: Yes                                               & 4.106798                                             & 0                                                    & 0: No                                                & 20.16791                                            \\\\\n",
       "\t BI0215                                               & CCTCTCGTGATC                                         & GGACTACHVGGGTWTCTAAT                                 & 16S stool samples sequenced for MrOS Vitamin D study & 16S rRNA v4                                          & GT                                                   & Illumina                                             & BI                                                   & MrOS                                                 & Illumina MiSeq                                       & ...                                                  & 0.10969697                                           & 1:GOOD/EXCELLENT                                     & 0: No                                                & 0:No                                                 & 0:No                                                 & 1: Yes                                               & 0.971114                                             & 0                                                    & 0: No                                                & 20.71433                                            \\\\\n",
       "\t BI0353                                               & TGCCATCTGAAT                                         & GGACTACHVGGGTWTCTAAT                                 & 16S stool samples sequenced for MrOS Vitamin D study & 16S rRNA v4                                          & GT                                                   & Illumina                                             & BI                                                   & MrOS                                                 & Illumina MiSeq                                       & ...                                                  & 0.09179487                                           & 1:GOOD/EXCELLENT                                     & 1: Yes                                               & 0:No                                                 & 0:No                                                 & 1: Yes                                               & 4.813568                                             & 0                                                    & 0: No                                                & 14.17015                                            \\\\\n",
       "\\end{tabular}\n"
      ],
      "text/markdown": [
       "\n",
       "| SampleName | BarcodeSequence | LinkerPrimerSequence | Experiment_Design_Description | Library_Construction_Protocol | Linker | Platform | Center_Name | Center_Project | Instrument_Model | ... | ratio_catabolism | QLCOMP | M1STATIN | Antihistamine | Laxative | MIDATA | Rstarch_total | Rstarches_c | M1PPUMP | alpha_pd |\n",
       "|---|---|---|---|---|---|---|---|---|---|---|---|---|---|---|---|---|---|---|---|---|\n",
       "| BI0023                                               | TCTGGTGACATT                                         | GGACTACHVGGGTWTCTAAT                                 | 16S stool samples sequenced for MrOS Vitamin D study | 16S rRNA v4                                          | GT                                                   | Illumina                                             | BI                                                   | MrOS                                                 | Illumina MiSeq                                       | ...                                                  | 0.06860465                                           | 1:GOOD/EXCELLENT                                     | 0: No                                                | 0:No                                                 | 0:No                                                 | 1: Yes                                               | 3.066569                                             | 0                                                    | 0: No                                                | 30.02140                                             |\n",
       "| BI0056                                               | CAAGCATGCCTA                                         | GGACTACHVGGGTWTCTAAT                                 | 16S stool samples sequenced for MrOS Vitamin D study | 16S rRNA v4                                          | GT                                                   | Illumina                                             | BI                                                   | MrOS                                                 | Illumina MiSeq                                       | ...                                                  | 0.09974490                                           | 1:GOOD/EXCELLENT                                     | 0: No                                                | 0:No                                                 | 0:No                                                 | 1: Yes                                               | 3.038136                                             | 0                                                    | 1: Yes                                               | 18.41498                                             |\n",
       "| BI0131                                               | CTATTTGCGACA                                         | GGACTACHVGGGTWTCTAAT                                 | 16S stool samples sequenced for MrOS Vitamin D study | 16S rRNA v4                                          | GT                                                   | Illumina                                             | BI                                                   | MrOS                                                 | Illumina MiSeq                                       | ...                                                  | 0.06450216                                           | 1:GOOD/EXCELLENT                                     | 1: Yes                                               | 0:No                                                 | 0:No                                                 | 1: Yes                                               | 2.840599                                             | 0                                                    | 0: No                                                | 25.75695                                             |\n",
       "| BI0153                                               | ATCGGCGTTACA                                         | GGACTACHVGGGTWTCTAAT                                 | 16S stool samples sequenced for MrOS Vitamin D study | 16S rRNA v4                                          | GT                                                   | Illumina                                             | BI                                                   | MrOS                                                 | Illumina MiSeq                                       | ...                                                  | 0.07838828                                           | 1:GOOD/EXCELLENT                                     | 1: Yes                                               | 0:No                                                 | 0:No                                                 | 1: Yes                                               | 4.106798                                             | 0                                                    | 0: No                                                | 20.16791                                             |\n",
       "| BI0215                                               | CCTCTCGTGATC                                         | GGACTACHVGGGTWTCTAAT                                 | 16S stool samples sequenced for MrOS Vitamin D study | 16S rRNA v4                                          | GT                                                   | Illumina                                             | BI                                                   | MrOS                                                 | Illumina MiSeq                                       | ...                                                  | 0.10969697                                           | 1:GOOD/EXCELLENT                                     | 0: No                                                | 0:No                                                 | 0:No                                                 | 1: Yes                                               | 0.971114                                             | 0                                                    | 0: No                                                | 20.71433                                             |\n",
       "| BI0353                                               | TGCCATCTGAAT                                         | GGACTACHVGGGTWTCTAAT                                 | 16S stool samples sequenced for MrOS Vitamin D study | 16S rRNA v4                                          | GT                                                   | Illumina                                             | BI                                                   | MrOS                                                 | Illumina MiSeq                                       | ...                                                  | 0.09179487                                           | 1:GOOD/EXCELLENT                                     | 1: Yes                                               | 0:No                                                 | 0:No                                                 | 1: Yes                                               | 4.813568                                             | 0                                                    | 0: No                                                | 14.17015                                             |\n",
       "\n"
      ],
      "text/plain": [
       "  SampleName BarcodeSequence LinkerPrimerSequence\n",
       "1 BI0023     TCTGGTGACATT    GGACTACHVGGGTWTCTAAT\n",
       "2 BI0056     CAAGCATGCCTA    GGACTACHVGGGTWTCTAAT\n",
       "3 BI0131     CTATTTGCGACA    GGACTACHVGGGTWTCTAAT\n",
       "4 BI0153     ATCGGCGTTACA    GGACTACHVGGGTWTCTAAT\n",
       "5 BI0215     CCTCTCGTGATC    GGACTACHVGGGTWTCTAAT\n",
       "6 BI0353     TGCCATCTGAAT    GGACTACHVGGGTWTCTAAT\n",
       "  Experiment_Design_Description                       \n",
       "1 16S stool samples sequenced for MrOS Vitamin D study\n",
       "2 16S stool samples sequenced for MrOS Vitamin D study\n",
       "3 16S stool samples sequenced for MrOS Vitamin D study\n",
       "4 16S stool samples sequenced for MrOS Vitamin D study\n",
       "5 16S stool samples sequenced for MrOS Vitamin D study\n",
       "6 16S stool samples sequenced for MrOS Vitamin D study\n",
       "  Library_Construction_Protocol Linker Platform Center_Name Center_Project\n",
       "1 16S rRNA v4                   GT     Illumina BI          MrOS          \n",
       "2 16S rRNA v4                   GT     Illumina BI          MrOS          \n",
       "3 16S rRNA v4                   GT     Illumina BI          MrOS          \n",
       "4 16S rRNA v4                   GT     Illumina BI          MrOS          \n",
       "5 16S rRNA v4                   GT     Illumina BI          MrOS          \n",
       "6 16S rRNA v4                   GT     Illumina BI          MrOS          \n",
       "  Instrument_Model ... ratio_catabolism QLCOMP           M1STATIN Antihistamine\n",
       "1 Illumina MiSeq   ... 0.06860465       1:GOOD/EXCELLENT 0: No    0:No         \n",
       "2 Illumina MiSeq   ... 0.09974490       1:GOOD/EXCELLENT 0: No    0:No         \n",
       "3 Illumina MiSeq   ... 0.06450216       1:GOOD/EXCELLENT 1: Yes   0:No         \n",
       "4 Illumina MiSeq   ... 0.07838828       1:GOOD/EXCELLENT 1: Yes   0:No         \n",
       "5 Illumina MiSeq   ... 0.10969697       1:GOOD/EXCELLENT 0: No    0:No         \n",
       "6 Illumina MiSeq   ... 0.09179487       1:GOOD/EXCELLENT 1: Yes   0:No         \n",
       "  Laxative MIDATA Rstarch_total Rstarches_c M1PPUMP alpha_pd\n",
       "1 0:No     1: Yes 3.066569      0           0: No   30.02140\n",
       "2 0:No     1: Yes 3.038136      0           1: Yes  18.41498\n",
       "3 0:No     1: Yes 2.840599      0           0: No   25.75695\n",
       "4 0:No     1: Yes 4.106798      0           0: No   20.16791\n",
       "5 0:No     1: Yes 0.971114      0           0: No   20.71433\n",
       "6 0:No     1: Yes 4.813568      0           0: No   14.17015"
      ]
     },
     "metadata": {},
     "output_type": "display_data"
    }
   ],
   "source": [
    "head(mf)"
   ]
  },
  {
   "cell_type": "code",
   "execution_count": 7,
   "metadata": {},
   "outputs": [
    {
     "data": {
      "text/html": [
       "<ol class=list-inline>\n",
       "\t<li>598</li>\n",
       "\t<li>86</li>\n",
       "</ol>\n"
      ],
      "text/latex": [
       "\\begin{enumerate*}\n",
       "\\item 598\n",
       "\\item 86\n",
       "\\end{enumerate*}\n"
      ],
      "text/markdown": [
       "1. 598\n",
       "2. 86\n",
       "\n",
       "\n"
      ],
      "text/plain": [
       "[1] 598  86"
      ]
     },
     "metadata": {},
     "output_type": "display_data"
    }
   ],
   "source": [
    "dat = merge(mf, pc_10, by='SampleName')\n",
    "dim(dat)"
   ]
  },
  {
   "cell_type": "code",
   "execution_count": 8,
   "metadata": {},
   "outputs": [
    {
     "data": {
      "text/html": [
       "<table>\n",
       "<thead><tr><th scope=col>SampleName</th><th scope=col>BarcodeSequence</th><th scope=col>LinkerPrimerSequence</th><th scope=col>Experiment_Design_Description</th><th scope=col>Library_Construction_Protocol</th><th scope=col>Linker</th><th scope=col>Platform</th><th scope=col>Center_Name</th><th scope=col>Center_Project</th><th scope=col>Instrument_Model</th><th scope=col>...</th><th scope=col>PC1</th><th scope=col>PC2</th><th scope=col>PC3</th><th scope=col>PC4</th><th scope=col>PC5</th><th scope=col>PC6</th><th scope=col>PC7</th><th scope=col>PC8</th><th scope=col>PC9</th><th scope=col>PC10</th></tr></thead>\n",
       "<tbody>\n",
       "\t<tr><td>BI0023                                              </td><td>TCTGGTGACATT                                        </td><td>GGACTACHVGGGTWTCTAAT                                </td><td>16S stool samples sequenced for MrOS Vitamin D study</td><td>16S rRNA v4                                         </td><td>GT                                                  </td><td>Illumina                                            </td><td>BI                                                  </td><td>MrOS                                                </td><td>Illumina MiSeq                                      </td><td>...                                                 </td><td>-0.15870452                                         </td><td>-0.01480991                                         </td><td>-0.005788181                                        </td><td>-0.04267825                                         </td><td>-0.03769555                                         </td><td> 0.009479865                                        </td><td> 0.005969159                                        </td><td> 0.012702531                                        </td><td> 0.0008294639                                       </td><td> 0.010636704                                        </td></tr>\n",
       "\t<tr><td>BI0056                                              </td><td>CAAGCATGCCTA                                        </td><td>GGACTACHVGGGTWTCTAAT                                </td><td>16S stool samples sequenced for MrOS Vitamin D study</td><td>16S rRNA v4                                         </td><td>GT                                                  </td><td>Illumina                                            </td><td>BI                                                  </td><td>MrOS                                                </td><td>Illumina MiSeq                                      </td><td>...                                                 </td><td> 0.07529741                                         </td><td> 0.05921861                                         </td><td> 0.033102841                                        </td><td> 0.02035540                                         </td><td>-0.01650065                                         </td><td> 0.104634753                                        </td><td>-0.013954711                                        </td><td>-0.048627349                                        </td><td>-0.0194575556                                       </td><td>-0.004452301                                        </td></tr>\n",
       "\t<tr><td>BI0131                                              </td><td>CTATTTGCGACA                                        </td><td>GGACTACHVGGGTWTCTAAT                                </td><td>16S stool samples sequenced for MrOS Vitamin D study</td><td>16S rRNA v4                                         </td><td>GT                                                  </td><td>Illumina                                            </td><td>BI                                                  </td><td>MrOS                                                </td><td>Illumina MiSeq                                      </td><td>...                                                 </td><td>-0.13709577                                         </td><td> 0.05340269                                         </td><td>-0.021794242                                        </td><td> 0.03197722                                         </td><td> 0.06027262                                         </td><td> 0.008521882                                        </td><td> 0.023954296                                        </td><td> 0.023358225                                        </td><td>-0.0435745044                                       </td><td> 0.011175481                                        </td></tr>\n",
       "\t<tr><td>BI0153                                              </td><td>ATCGGCGTTACA                                        </td><td>GGACTACHVGGGTWTCTAAT                                </td><td>16S stool samples sequenced for MrOS Vitamin D study</td><td>16S rRNA v4                                         </td><td>GT                                                  </td><td>Illumina                                            </td><td>BI                                                  </td><td>MrOS                                                </td><td>Illumina MiSeq                                      </td><td>...                                                 </td><td> 0.07459318                                         </td><td> 0.05532015                                         </td><td> 0.097104856                                        </td><td>-0.04405146                                         </td><td>-0.03816155                                         </td><td> 0.031185150                                        </td><td>-0.049900726                                        </td><td>-0.023614343                                        </td><td>-0.0118421195                                       </td><td>-0.012454801                                        </td></tr>\n",
       "\t<tr><td>BI0215                                              </td><td>CCTCTCGTGATC                                        </td><td>GGACTACHVGGGTWTCTAAT                                </td><td>16S stool samples sequenced for MrOS Vitamin D study</td><td>16S rRNA v4                                         </td><td>GT                                                  </td><td>Illumina                                            </td><td>BI                                                  </td><td>MrOS                                                </td><td>Illumina MiSeq                                      </td><td>...                                                 </td><td> 0.01281818                                         </td><td> 0.06910522                                         </td><td> 0.109706305                                        </td><td> 0.01606270                                         </td><td>-0.03519252                                         </td><td>-0.028549097                                        </td><td>-0.033290507                                        </td><td> 0.001909255                                        </td><td>-0.0333130293                                       </td><td>-0.012871073                                        </td></tr>\n",
       "\t<tr><td>BI0353                                              </td><td>TGCCATCTGAAT                                        </td><td>GGACTACHVGGGTWTCTAAT                                </td><td>16S stool samples sequenced for MrOS Vitamin D study</td><td>16S rRNA v4                                         </td><td>GT                                                  </td><td>Illumina                                            </td><td>BI                                                  </td><td>MrOS                                                </td><td>Illumina MiSeq                                      </td><td>...                                                 </td><td> 0.19299082                                         </td><td> 0.05934948                                         </td><td> 0.053165874                                        </td><td>-0.02829054                                         </td><td> 0.11218668                                         </td><td> 0.035367370                                        </td><td>-0.045593063                                        </td><td>-0.015399748                                        </td><td> 0.0060626503                                       </td><td>-0.041390872                                        </td></tr>\n",
       "</tbody>\n",
       "</table>\n"
      ],
      "text/latex": [
       "\\begin{tabular}{r|llllllllllllllllllllllllllllllllllllllllllllllllllllllllllllllllllllllllllllllllllllll}\n",
       " SampleName & BarcodeSequence & LinkerPrimerSequence & Experiment\\_Design\\_Description & Library\\_Construction\\_Protocol & Linker & Platform & Center\\_Name & Center\\_Project & Instrument\\_Model & ... & PC1 & PC2 & PC3 & PC4 & PC5 & PC6 & PC7 & PC8 & PC9 & PC10\\\\\n",
       "\\hline\n",
       "\t BI0023                                               & TCTGGTGACATT                                         & GGACTACHVGGGTWTCTAAT                                 & 16S stool samples sequenced for MrOS Vitamin D study & 16S rRNA v4                                          & GT                                                   & Illumina                                             & BI                                                   & MrOS                                                 & Illumina MiSeq                                       & ...                                                  & -0.15870452                                          & -0.01480991                                          & -0.005788181                                         & -0.04267825                                          & -0.03769555                                          &  0.009479865                                         &  0.005969159                                         &  0.012702531                                         &  0.0008294639                                        &  0.010636704                                        \\\\\n",
       "\t BI0056                                               & CAAGCATGCCTA                                         & GGACTACHVGGGTWTCTAAT                                 & 16S stool samples sequenced for MrOS Vitamin D study & 16S rRNA v4                                          & GT                                                   & Illumina                                             & BI                                                   & MrOS                                                 & Illumina MiSeq                                       & ...                                                  &  0.07529741                                          &  0.05921861                                          &  0.033102841                                         &  0.02035540                                          & -0.01650065                                          &  0.104634753                                         & -0.013954711                                         & -0.048627349                                         & -0.0194575556                                        & -0.004452301                                        \\\\\n",
       "\t BI0131                                               & CTATTTGCGACA                                         & GGACTACHVGGGTWTCTAAT                                 & 16S stool samples sequenced for MrOS Vitamin D study & 16S rRNA v4                                          & GT                                                   & Illumina                                             & BI                                                   & MrOS                                                 & Illumina MiSeq                                       & ...                                                  & -0.13709577                                          &  0.05340269                                          & -0.021794242                                         &  0.03197722                                          &  0.06027262                                          &  0.008521882                                         &  0.023954296                                         &  0.023358225                                         & -0.0435745044                                        &  0.011175481                                        \\\\\n",
       "\t BI0153                                               & ATCGGCGTTACA                                         & GGACTACHVGGGTWTCTAAT                                 & 16S stool samples sequenced for MrOS Vitamin D study & 16S rRNA v4                                          & GT                                                   & Illumina                                             & BI                                                   & MrOS                                                 & Illumina MiSeq                                       & ...                                                  &  0.07459318                                          &  0.05532015                                          &  0.097104856                                         & -0.04405146                                          & -0.03816155                                          &  0.031185150                                         & -0.049900726                                         & -0.023614343                                         & -0.0118421195                                        & -0.012454801                                        \\\\\n",
       "\t BI0215                                               & CCTCTCGTGATC                                         & GGACTACHVGGGTWTCTAAT                                 & 16S stool samples sequenced for MrOS Vitamin D study & 16S rRNA v4                                          & GT                                                   & Illumina                                             & BI                                                   & MrOS                                                 & Illumina MiSeq                                       & ...                                                  &  0.01281818                                          &  0.06910522                                          &  0.109706305                                         &  0.01606270                                          & -0.03519252                                          & -0.028549097                                         & -0.033290507                                         &  0.001909255                                         & -0.0333130293                                        & -0.012871073                                        \\\\\n",
       "\t BI0353                                               & TGCCATCTGAAT                                         & GGACTACHVGGGTWTCTAAT                                 & 16S stool samples sequenced for MrOS Vitamin D study & 16S rRNA v4                                          & GT                                                   & Illumina                                             & BI                                                   & MrOS                                                 & Illumina MiSeq                                       & ...                                                  &  0.19299082                                          &  0.05934948                                          &  0.053165874                                         & -0.02829054                                          &  0.11218668                                          &  0.035367370                                         & -0.045593063                                         & -0.015399748                                         &  0.0060626503                                        & -0.041390872                                        \\\\\n",
       "\\end{tabular}\n"
      ],
      "text/markdown": [
       "\n",
       "| SampleName | BarcodeSequence | LinkerPrimerSequence | Experiment_Design_Description | Library_Construction_Protocol | Linker | Platform | Center_Name | Center_Project | Instrument_Model | ... | PC1 | PC2 | PC3 | PC4 | PC5 | PC6 | PC7 | PC8 | PC9 | PC10 |\n",
       "|---|---|---|---|---|---|---|---|---|---|---|---|---|---|---|---|---|---|---|---|---|\n",
       "| BI0023                                               | TCTGGTGACATT                                         | GGACTACHVGGGTWTCTAAT                                 | 16S stool samples sequenced for MrOS Vitamin D study | 16S rRNA v4                                          | GT                                                   | Illumina                                             | BI                                                   | MrOS                                                 | Illumina MiSeq                                       | ...                                                  | -0.15870452                                          | -0.01480991                                          | -0.005788181                                         | -0.04267825                                          | -0.03769555                                          |  0.009479865                                         |  0.005969159                                         |  0.012702531                                         |  0.0008294639                                        |  0.010636704                                         |\n",
       "| BI0056                                               | CAAGCATGCCTA                                         | GGACTACHVGGGTWTCTAAT                                 | 16S stool samples sequenced for MrOS Vitamin D study | 16S rRNA v4                                          | GT                                                   | Illumina                                             | BI                                                   | MrOS                                                 | Illumina MiSeq                                       | ...                                                  |  0.07529741                                          |  0.05921861                                          |  0.033102841                                         |  0.02035540                                          | -0.01650065                                          |  0.104634753                                         | -0.013954711                                         | -0.048627349                                         | -0.0194575556                                        | -0.004452301                                         |\n",
       "| BI0131                                               | CTATTTGCGACA                                         | GGACTACHVGGGTWTCTAAT                                 | 16S stool samples sequenced for MrOS Vitamin D study | 16S rRNA v4                                          | GT                                                   | Illumina                                             | BI                                                   | MrOS                                                 | Illumina MiSeq                                       | ...                                                  | -0.13709577                                          |  0.05340269                                          | -0.021794242                                         |  0.03197722                                          |  0.06027262                                          |  0.008521882                                         |  0.023954296                                         |  0.023358225                                         | -0.0435745044                                        |  0.011175481                                         |\n",
       "| BI0153                                               | ATCGGCGTTACA                                         | GGACTACHVGGGTWTCTAAT                                 | 16S stool samples sequenced for MrOS Vitamin D study | 16S rRNA v4                                          | GT                                                   | Illumina                                             | BI                                                   | MrOS                                                 | Illumina MiSeq                                       | ...                                                  |  0.07459318                                          |  0.05532015                                          |  0.097104856                                         | -0.04405146                                          | -0.03816155                                          |  0.031185150                                         | -0.049900726                                         | -0.023614343                                         | -0.0118421195                                        | -0.012454801                                         |\n",
       "| BI0215                                               | CCTCTCGTGATC                                         | GGACTACHVGGGTWTCTAAT                                 | 16S stool samples sequenced for MrOS Vitamin D study | 16S rRNA v4                                          | GT                                                   | Illumina                                             | BI                                                   | MrOS                                                 | Illumina MiSeq                                       | ...                                                  |  0.01281818                                          |  0.06910522                                          |  0.109706305                                         |  0.01606270                                          | -0.03519252                                          | -0.028549097                                         | -0.033290507                                         |  0.001909255                                         | -0.0333130293                                        | -0.012871073                                         |\n",
       "| BI0353                                               | TGCCATCTGAAT                                         | GGACTACHVGGGTWTCTAAT                                 | 16S stool samples sequenced for MrOS Vitamin D study | 16S rRNA v4                                          | GT                                                   | Illumina                                             | BI                                                   | MrOS                                                 | Illumina MiSeq                                       | ...                                                  |  0.19299082                                          |  0.05934948                                          |  0.053165874                                         | -0.02829054                                          |  0.11218668                                          |  0.035367370                                         | -0.045593063                                         | -0.015399748                                         |  0.0060626503                                        | -0.041390872                                         |\n",
       "\n"
      ],
      "text/plain": [
       "  SampleName BarcodeSequence LinkerPrimerSequence\n",
       "1 BI0023     TCTGGTGACATT    GGACTACHVGGGTWTCTAAT\n",
       "2 BI0056     CAAGCATGCCTA    GGACTACHVGGGTWTCTAAT\n",
       "3 BI0131     CTATTTGCGACA    GGACTACHVGGGTWTCTAAT\n",
       "4 BI0153     ATCGGCGTTACA    GGACTACHVGGGTWTCTAAT\n",
       "5 BI0215     CCTCTCGTGATC    GGACTACHVGGGTWTCTAAT\n",
       "6 BI0353     TGCCATCTGAAT    GGACTACHVGGGTWTCTAAT\n",
       "  Experiment_Design_Description                       \n",
       "1 16S stool samples sequenced for MrOS Vitamin D study\n",
       "2 16S stool samples sequenced for MrOS Vitamin D study\n",
       "3 16S stool samples sequenced for MrOS Vitamin D study\n",
       "4 16S stool samples sequenced for MrOS Vitamin D study\n",
       "5 16S stool samples sequenced for MrOS Vitamin D study\n",
       "6 16S stool samples sequenced for MrOS Vitamin D study\n",
       "  Library_Construction_Protocol Linker Platform Center_Name Center_Project\n",
       "1 16S rRNA v4                   GT     Illumina BI          MrOS          \n",
       "2 16S rRNA v4                   GT     Illumina BI          MrOS          \n",
       "3 16S rRNA v4                   GT     Illumina BI          MrOS          \n",
       "4 16S rRNA v4                   GT     Illumina BI          MrOS          \n",
       "5 16S rRNA v4                   GT     Illumina BI          MrOS          \n",
       "6 16S rRNA v4                   GT     Illumina BI          MrOS          \n",
       "  Instrument_Model ... PC1         PC2         PC3          PC4        \n",
       "1 Illumina MiSeq   ... -0.15870452 -0.01480991 -0.005788181 -0.04267825\n",
       "2 Illumina MiSeq   ...  0.07529741  0.05921861  0.033102841  0.02035540\n",
       "3 Illumina MiSeq   ... -0.13709577  0.05340269 -0.021794242  0.03197722\n",
       "4 Illumina MiSeq   ...  0.07459318  0.05532015  0.097104856 -0.04405146\n",
       "5 Illumina MiSeq   ...  0.01281818  0.06910522  0.109706305  0.01606270\n",
       "6 Illumina MiSeq   ...  0.19299082  0.05934948  0.053165874 -0.02829054\n",
       "  PC5         PC6          PC7          PC8          PC9           PC10        \n",
       "1 -0.03769555  0.009479865  0.005969159  0.012702531  0.0008294639  0.010636704\n",
       "2 -0.01650065  0.104634753 -0.013954711 -0.048627349 -0.0194575556 -0.004452301\n",
       "3  0.06027262  0.008521882  0.023954296  0.023358225 -0.0435745044  0.011175481\n",
       "4 -0.03816155  0.031185150 -0.049900726 -0.023614343 -0.0118421195 -0.012454801\n",
       "5 -0.03519252 -0.028549097 -0.033290507  0.001909255 -0.0333130293 -0.012871073\n",
       "6  0.11218668  0.035367370 -0.045593063 -0.015399748  0.0060626503 -0.041390872"
      ]
     },
     "metadata": {},
     "output_type": "display_data"
    }
   ],
   "source": [
    "head(dat)"
   ]
  },
  {
   "cell_type": "code",
   "execution_count": 9,
   "metadata": {},
   "outputs": [],
   "source": [
    "# not include correlated variables\n",
    "# convert categorial to factors\n",
    "vars_cat = c('Sex','GIERACE', 'SITE', 'TUDRAMT', 'TURSMOKE', 'M1ADEPR', 'M1VITMND', 'M1ANTIB', 'M1PROBI', \n",
    "               'OHSEAS', 'QLCOMP', 'VDstatus', 'M1STATIN', 'Antihistamine', 'Laxative', 'M1PPUMP')\n",
    "dat[vars_cat] = lapply(dat[vars_cat], factor)\n",
    "\n",
    "# convert continuous to numeric\n",
    "vars_cts = c('Latitude', 'Longitude', 'Age', 'BMI', 'PASCORE', 'DTVITD', 'Rstarch_total',\n",
    "             'OHV1D3', 'OHV24D3', 'OHVD3')\n",
    "vars_pcs = c('PC1', 'PC2', 'PC3', 'PC4', 'PC5', 'PC6', 'PC7', 'PC8', 'PC9', 'PC10')"
   ]
  },
  {
   "cell_type": "code",
   "execution_count": 10,
   "metadata": {},
   "outputs": [
    {
     "data": {
      "text/html": [
       "16"
      ],
      "text/latex": [
       "16"
      ],
      "text/markdown": [
       "16"
      ],
      "text/plain": [
       "[1] 16"
      ]
     },
     "metadata": {},
     "output_type": "display_data"
    },
    {
     "data": {
      "text/html": [
       "10"
      ],
      "text/latex": [
       "10"
      ],
      "text/markdown": [
       "10"
      ],
      "text/plain": [
       "[1] 10"
      ]
     },
     "metadata": {},
     "output_type": "display_data"
    },
    {
     "data": {
      "text/html": [
       "10"
      ],
      "text/latex": [
       "10"
      ],
      "text/markdown": [
       "10"
      ],
      "text/plain": [
       "[1] 10"
      ]
     },
     "metadata": {},
     "output_type": "display_data"
    }
   ],
   "source": [
    "length(vars_cat)\n",
    "length(vars_cts)\n",
    "length(vars_pcs)"
   ]
  },
  {
   "cell_type": "code",
   "execution_count": 11,
   "metadata": {},
   "outputs": [
    {
     "data": {
      "text/html": [
       "<ol class=list-inline>\n",
       "\t<li>544</li>\n",
       "\t<li>26</li>\n",
       "</ol>\n"
      ],
      "text/latex": [
       "\\begin{enumerate*}\n",
       "\\item 544\n",
       "\\item 26\n",
       "\\end{enumerate*}\n"
      ],
      "text/markdown": [
       "1. 544\n",
       "2. 26\n",
       "\n",
       "\n"
      ],
      "text/plain": [
       "[1] 544  26"
      ]
     },
     "metadata": {},
     "output_type": "display_data"
    },
    {
     "data": {
      "text/html": [
       "<ol class=list-inline>\n",
       "\t<li>544</li>\n",
       "\t<li>10</li>\n",
       "</ol>\n"
      ],
      "text/latex": [
       "\\begin{enumerate*}\n",
       "\\item 544\n",
       "\\item 10\n",
       "\\end{enumerate*}\n"
      ],
      "text/markdown": [
       "1. 544\n",
       "2. 10\n",
       "\n",
       "\n"
      ],
      "text/plain": [
       "[1] 544  10"
      ]
     },
     "metadata": {},
     "output_type": "display_data"
    }
   ],
   "source": [
    "dat = dat[c(vars_cat, vars_cts, vars_pcs)]\n",
    "dat = dat[complete.cases(dat), ]\n",
    "X = dat[c(vars_cat, vars_cts)]\n",
    "Y = dat[, vars_pcs]\n",
    "\n",
    "dim(X)\n",
    "dim(Y)"
   ]
  },
  {
   "cell_type": "code",
   "execution_count": 12,
   "metadata": {},
   "outputs": [
    {
     "data": {
      "text/plain": [
       "   Sex                    GIERACE             SITE    \n",
       " male:544   1:WHITE           :482   Birmingham : 64  \n",
       "            2:AFRICAN AMERICAN: 19   Minneapolis: 83  \n",
       "            3:ASIAN           : 22   Palo Alto  : 63  \n",
       "            4:HISPANIC        : 12   Pittsburgh : 92  \n",
       "            5:OTHER           :  9   Portland   :120  \n",
       "                                     San Diego  :122  \n",
       "                                                      \n",
       "                            TUDRAMT                TURSMOKE     M1ADEPR   \n",
       " .                              :  2   0:NO            :213   0: No :498  \n",
       " 0:None drinker                 :214   1:PAST          :260   1: Yes: 46  \n",
       " 1: Less than one drink per week: 71   2:CURRENT       :  8               \n",
       " 2: 1-2drinks per week          : 58   M:Not Applicable: 63               \n",
       " 3: 3-5 drinks per week         : 77                                      \n",
       " 4: 6-13 drinks per week        : 95                                      \n",
       " 5: 14 or more drinks per week  : 27                                      \n",
       "   M1VITMND     M1ANTIB      M1PROBI                       OHSEAS   \n",
       " 0: No :136   0: No :506   0: No :519   1:WINTER              :  6  \n",
       " 1: Yes:408   1: Yes: 38   1: Yes: 25   2:SPRING              :208  \n",
       "                                        3:SUMMER              :205  \n",
       "                                        4:FALL                :125  \n",
       "                                        Missing:Not collected :  0  \n",
       "                                                                    \n",
       "                                                                    \n",
       "              QLCOMP                      VDstatus     M1STATIN   Antihistamine\n",
       " 0:PR/VPOOR/FAIR : 61                         :  0   0: No :242   0:No :489    \n",
       " 1:GOOD/EXCELLENT:483   deficiency            : 38   1: Yes:302   1:Yes: 55    \n",
       "                        Missing:Not collected :  0                             \n",
       "                        sufficiency           :506                             \n",
       "                                                                               \n",
       "                                                                               \n",
       "                                                                               \n",
       "  Laxative     M1PPUMP       Latitude       Longitude           Age       \n",
       " 0:No :459   0: No :435   Min.   :32.72   Min.   :-122.7   Min.   :78.00  \n",
       " 1:Yes: 85   1: Yes:109   1st Qu.:33.52   1st Qu.:-122.1   1st Qu.:81.00  \n",
       "                          Median :40.44   Median :-117.2   Median :83.00  \n",
       "                          Mean   :39.36   Mean   :-105.5   Mean   :84.19  \n",
       "                          3rd Qu.:44.98   3rd Qu.: -86.8   3rd Qu.:87.00  \n",
       "                          Max.   :45.52   Max.   : -80.0   Max.   :98.00  \n",
       "                                                                          \n",
       "      BMI           PASCORE          DTVITD        Rstarch_total   \n",
       " Min.   :17.60   Min.   :  0.0   Min.   :  0.429   Min.   : 0.100  \n",
       " 1st Qu.:24.56   1st Qu.: 72.5   1st Qu.: 80.055   1st Qu.: 1.276  \n",
       " Median :26.73   Median :117.5   Median :129.280   Median : 2.343  \n",
       " Mean   :27.06   Mean   :123.9   Mean   :166.436   Mean   : 2.674  \n",
       " 3rd Qu.:29.01   3rd Qu.:168.0   3rd Qu.:215.045   3rd Qu.: 3.597  \n",
       " Max.   :42.93   Max.   :359.1   Max.   :982.830   Max.   :12.386  \n",
       "                                                                   \n",
       "     OHV1D3           OHV24D3           OHVD3       \n",
       " Min.   :0.01070   Min.   : 0.300   Min.   :  7.80  \n",
       " 1st Qu.:0.04410   1st Qu.: 2.180   1st Qu.: 27.40  \n",
       " Median :0.05550   Median : 3.195   Median : 33.65  \n",
       " Mean   :0.05779   Mean   : 3.436   Mean   : 35.28  \n",
       " 3rd Qu.:0.06625   3rd Qu.: 4.232   3rd Qu.: 41.90  \n",
       " Max.   :0.15600   Max.   :14.070   Max.   :104.00  \n",
       "                                                    "
      ]
     },
     "metadata": {},
     "output_type": "display_data"
    }
   ],
   "source": [
    "summary(X)"
   ]
  },
  {
   "cell_type": "code",
   "execution_count": 13,
   "metadata": {},
   "outputs": [],
   "source": [
    "mod0 <- rda(Y ~ 1., X)  # Model with intercept only\n",
    "mod1 <- rda(Y ~ ., X)  # Model with all explanatory variables"
   ]
  },
  {
   "cell_type": "code",
   "execution_count": 14,
   "metadata": {},
   "outputs": [
    {
     "name": "stdout",
     "output_type": "stream",
     "text": [
      "Step: R2.adj= 0 \n",
      "Call: Y ~ 1 \n",
      " \n",
      "                  R2.adjusted\n",
      "<All variables>  0.0997835049\n",
      "+ OHV1D3         0.0227598169\n",
      "+ GIERACE        0.0206617346\n",
      "+ SITE           0.0152037164\n",
      "+ TUDRAMT        0.0094803526\n",
      "+ Rstarch_total  0.0091336336\n",
      "+ M1ADEPR        0.0086206587\n",
      "+ Latitude       0.0081716601\n",
      "+ M1ANTIB        0.0069702776\n",
      "+ PASCORE        0.0054277786\n",
      "+ OHV24D3        0.0054195461\n",
      "+ Longitude      0.0052167161\n",
      "+ M1STATIN       0.0038320033\n",
      "+ BMI            0.0034740466\n",
      "+ Age            0.0028211844\n",
      "+ M1PPUMP        0.0027347415\n",
      "+ OHSEAS         0.0025765679\n",
      "+ QLCOMP         0.0016974487\n",
      "+ TURSMOKE       0.0015505424\n",
      "+ Laxative       0.0012644556\n",
      "+ DTVITD         0.0005320111\n",
      "+ OHVD3          0.0003209906\n",
      "<none>           0.0000000000\n",
      "+ Sex            0.0000000000\n",
      "+ M1VITMND      -0.0005112961\n",
      "+ Antihistamine -0.0006122305\n",
      "+ M1PROBI       -0.0008778197\n",
      "+ VDstatus      -0.0010457447\n",
      "\n",
      "         Df     AIC      F Pr(>F)   \n",
      "+ OHV1D3  1 -1628.7 13.646  0.002 **\n",
      "---\n",
      "Signif. codes:  0 ‘***’ 0.001 ‘**’ 0.01 ‘*’ 0.05 ‘.’ 0.1 ‘ ’ 1\n",
      "\n",
      "Step: R2.adj= 0.02275982 \n",
      "Call: Y ~ OHV1D3 \n",
      " \n",
      "                R2.adjusted\n",
      "<All variables>  0.09978350\n",
      "+ GIERACE        0.04255134\n",
      "+ SITE           0.03684361\n",
      "+ Rstarch_total  0.03346993\n",
      "+ Latitude       0.03126079\n",
      "+ M1ADEPR        0.02955479\n",
      "+ OHVD3          0.02908945\n",
      "+ TUDRAMT        0.02802776\n",
      "+ M1ANTIB        0.02799497\n",
      "+ M1STATIN       0.02739362\n",
      "+ Age            0.02721839\n",
      "+ Longitude      0.02709975\n",
      "+ M1PPUMP        0.02628806\n",
      "+ OHSEAS         0.02609064\n",
      "+ OHV24D3        0.02576866\n",
      "+ PASCORE        0.02562753\n",
      "+ TURSMOKE       0.02448325\n",
      "+ Laxative       0.02435812\n",
      "+ BMI            0.02419413\n",
      "+ M1VITMND       0.02407771\n",
      "+ QLCOMP         0.02382966\n",
      "+ DTVITD         0.02346056\n",
      "+ M1PROBI        0.02290637\n",
      "<none>           0.02275982\n",
      "+ Sex            0.02275982\n",
      "+ Antihistamine  0.02211853\n",
      "+ VDstatus       0.02204181\n",
      "\n",
      "          Df     AIC      F Pr(>F)   \n",
      "+ GIERACE  4 -1635.9 3.8009  0.002 **\n",
      "---\n",
      "Signif. codes:  0 ‘***’ 0.001 ‘**’ 0.01 ‘*’ 0.05 ‘.’ 0.1 ‘ ’ 1\n",
      "\n",
      "Step: R2.adj= 0.04255134 \n",
      "Call: Y ~ OHV1D3 + GIERACE \n",
      " \n",
      "                R2.adjusted\n",
      "<All variables>  0.09978350\n",
      "+ SITE           0.05483419\n",
      "+ M1ADEPR        0.05073048\n",
      "+ Rstarch_total  0.04991214\n",
      "+ OHVD3          0.04938813\n",
      "+ Longitude      0.04919521\n",
      "+ Latitude       0.04845830\n",
      "+ M1ANTIB        0.04786858\n",
      "+ M1STATIN       0.04705378\n",
      "+ M1PPUMP        0.04679661\n",
      "+ OHSEAS         0.04647171\n",
      "+ Age            0.04638921\n",
      "+ PASCORE        0.04595491\n",
      "+ OHV24D3        0.04565498\n",
      "+ BMI            0.04526098\n",
      "+ TUDRAMT        0.04502006\n",
      "+ Laxative       0.04448811\n",
      "+ TURSMOKE       0.04370565\n",
      "+ M1VITMND       0.04363074\n",
      "+ QLCOMP         0.04361117\n",
      "+ DTVITD         0.04339446\n",
      "+ M1PROBI        0.04285685\n",
      "<none>           0.04255134\n",
      "+ Sex            0.04255134\n",
      "+ Antihistamine  0.04190968\n",
      "+ VDstatus       0.04151558\n",
      "\n",
      "       Df   AIC      F Pr(>F)   \n",
      "+ SITE  5 -1638 2.3983  0.002 **\n",
      "---\n",
      "Signif. codes:  0 ‘***’ 0.001 ‘**’ 0.01 ‘*’ 0.05 ‘.’ 0.1 ‘ ’ 1\n",
      "\n",
      "Step: R2.adj= 0.05483419 \n",
      "Call: Y ~ OHV1D3 + GIERACE + SITE \n",
      " \n",
      "                R2.adjusted\n",
      "<All variables>  0.09978350\n",
      "+ M1ADEPR        0.06231652\n",
      "+ OHVD3          0.06194431\n",
      "+ Rstarch_total  0.06078422\n",
      "+ PASCORE        0.05964648\n",
      "+ M1ANTIB        0.05898068\n",
      "+ M1STATIN       0.05896183\n",
      "+ M1PPUMP        0.05890899\n",
      "+ OHV24D3        0.05851341\n",
      "+ Age            0.05810968\n",
      "+ Laxative       0.05761544\n",
      "+ OHSEAS         0.05726103\n",
      "+ BMI            0.05662843\n",
      "+ M1VITMND       0.05641294\n",
      "+ DTVITD         0.05596787\n",
      "+ QLCOMP         0.05596003\n",
      "+ TURSMOKE       0.05567082\n",
      "+ M1PROBI        0.05523962\n",
      "<none>           0.05483419\n",
      "+ Sex            0.05483419\n",
      "+ Latitude       0.05483419\n",
      "+ Longitude      0.05483419\n",
      "+ TUDRAMT        0.05480953\n",
      "+ Antihistamine  0.05431250\n",
      "+ VDstatus       0.05382753\n",
      "\n",
      "          Df     AIC      F Pr(>F)   \n",
      "+ M1ADEPR  1 -1641.3 5.2531  0.004 **\n",
      "---\n",
      "Signif. codes:  0 ‘***’ 0.001 ‘**’ 0.01 ‘*’ 0.05 ‘.’ 0.1 ‘ ’ 1\n",
      "\n",
      "Step: R2.adj= 0.06231652 \n",
      "Call: Y ~ OHV1D3 + GIERACE + SITE + M1ADEPR \n",
      " \n",
      "                R2.adjusted\n",
      "<All variables>  0.09978350\n",
      "+ OHVD3          0.06835272\n",
      "+ Rstarch_total  0.06787060\n",
      "+ PASCORE        0.06684976\n",
      "+ M1ANTIB        0.06657602\n",
      "+ M1STATIN       0.06619214\n",
      "+ M1PPUMP        0.06592605\n",
      "+ OHV24D3        0.06568981\n",
      "+ Age            0.06559672\n",
      "+ Laxative       0.06492549\n",
      "+ BMI            0.06449637\n",
      "+ OHSEAS         0.06418678\n",
      "+ M1VITMND       0.06384656\n",
      "+ QLCOMP         0.06339695\n",
      "+ DTVITD         0.06327463\n",
      "+ TURSMOKE       0.06307225\n",
      "+ M1PROBI        0.06289977\n",
      "<none>           0.06231652\n",
      "+ Sex            0.06231652\n",
      "+ Latitude       0.06231652\n",
      "+ Longitude      0.06231652\n",
      "+ TUDRAMT        0.06182185\n",
      "+ Antihistamine  0.06159730\n",
      "+ VDstatus       0.06130343\n",
      "\n",
      "        Df     AIC      F Pr(>F)   \n",
      "+ OHVD3  1 -1643.9 4.4469  0.004 **\n",
      "---\n",
      "Signif. codes:  0 ‘***’ 0.001 ‘**’ 0.01 ‘*’ 0.05 ‘.’ 0.1 ‘ ’ 1\n",
      "\n",
      "Step: R2.adj= 0.06835272 \n",
      "Call: Y ~ OHV1D3 + GIERACE + SITE + M1ADEPR + OHVD3 \n",
      " \n",
      "                R2.adjusted\n",
      "<All variables>  0.09978350\n",
      "+ Rstarch_total  0.07387378\n",
      "+ M1STATIN       0.07355372\n",
      "+ PASCORE        0.07288234\n",
      "+ M1ANTIB        0.07276895\n",
      "+ M1PPUMP        0.07211222\n",
      "+ Age            0.07171579\n",
      "+ Laxative       0.07105911\n",
      "+ BMI            0.07079915\n",
      "+ OHSEAS         0.07005546\n",
      "+ OHV24D3        0.06981065\n",
      "+ QLCOMP         0.06951660\n",
      "+ DTVITD         0.06924368\n",
      "+ TURSMOKE       0.06917383\n",
      "+ M1PROBI        0.06889998\n",
      "<none>           0.06835272\n",
      "+ Sex            0.06835272\n",
      "+ Latitude       0.06835272\n",
      "+ Longitude      0.06835272\n",
      "+ M1VITMND       0.06816772\n",
      "+ TUDRAMT        0.06801187\n",
      "+ VDstatus       0.06785330\n",
      "+ Antihistamine  0.06762827\n",
      "\n",
      "                Df     AIC      F Pr(>F)   \n",
      "+ Rstarch_total  1 -1646.1 4.1655  0.006 **\n",
      "---\n",
      "Signif. codes:  0 ‘***’ 0.001 ‘**’ 0.01 ‘*’ 0.05 ‘.’ 0.1 ‘ ’ 1\n",
      "\n",
      "Step: R2.adj= 0.07387378 \n",
      "Call: Y ~ OHV1D3 + GIERACE + SITE + M1ADEPR + OHVD3 + Rstarch_total \n",
      " \n",
      "                R2.adjusted\n",
      "<All variables>  0.09978350\n",
      "+ M1STATIN       0.07908093\n",
      "+ PASCORE        0.07840199\n",
      "+ M1ANTIB        0.07818538\n",
      "+ M1PPUMP        0.07784040\n",
      "+ Age            0.07746057\n",
      "+ Laxative       0.07662085\n",
      "+ BMI            0.07641274\n",
      "+ OHV24D3        0.07548328\n",
      "+ OHSEAS         0.07529832\n",
      "+ QLCOMP         0.07505726\n",
      "+ TURSMOKE       0.07497866\n",
      "+ DTVITD         0.07489444\n",
      "+ M1PROBI        0.07460330\n",
      "<none>           0.07387378\n",
      "+ Sex            0.07387378\n",
      "+ Latitude       0.07387378\n",
      "+ Longitude      0.07387378\n",
      "+ M1VITMND       0.07370140\n",
      "+ VDstatus       0.07345035\n",
      "+ TUDRAMT        0.07337762\n",
      "+ Antihistamine  0.07315255\n",
      "\n",
      "           Df     AIC      F Pr(>F)   \n",
      "+ M1STATIN  1 -1648.2 3.9968  0.006 **\n",
      "---\n",
      "Signif. codes:  0 ‘***’ 0.001 ‘**’ 0.01 ‘*’ 0.05 ‘.’ 0.1 ‘ ’ 1\n",
      "\n",
      "Step: R2.adj= 0.07908093 \n",
      "Call: Y ~ OHV1D3 + GIERACE + SITE + M1ADEPR + OHVD3 + Rstarch_total +      M1STATIN \n",
      " \n",
      "                R2.adjusted\n",
      "<All variables>  0.09978350\n",
      "+ M1ANTIB        0.08343188\n",
      "+ PASCORE        0.08296457\n",
      "+ M1PPUMP        0.08276608\n",
      "+ Age            0.08257868\n",
      "+ Laxative       0.08176608\n",
      "+ BMI            0.08114514\n",
      "+ OHSEAS         0.08095648\n",
      "+ OHV24D3        0.08071479\n",
      "+ DTVITD         0.08024049\n",
      "+ TURSMOKE       0.08004070\n",
      "+ QLCOMP         0.07988411\n",
      "+ M1PROBI        0.07970608\n",
      "<none>           0.07908093\n",
      "+ Sex            0.07908093\n",
      "+ Latitude       0.07908093\n",
      "+ Longitude      0.07908093\n",
      "+ M1VITMND       0.07879330\n",
      "+ VDstatus       0.07869266\n",
      "+ Antihistamine  0.07840857\n",
      "+ TUDRAMT        0.07839063\n",
      "\n",
      "          Df     AIC      F Pr(>F)   \n",
      "+ M1ANTIB  1 -1649.8 3.5112  0.008 **\n",
      "---\n",
      "Signif. codes:  0 ‘***’ 0.001 ‘**’ 0.01 ‘*’ 0.05 ‘.’ 0.1 ‘ ’ 1\n",
      "\n",
      "Step: R2.adj= 0.08343188 \n",
      "Call: Y ~ OHV1D3 + GIERACE + SITE + M1ADEPR + OHVD3 + Rstarch_total +      M1STATIN + M1ANTIB \n",
      " \n",
      "                R2.adjusted\n",
      "<All variables>  0.09978350\n",
      "+ PASCORE        0.08724611\n",
      "+ M1PPUMP        0.08712206\n",
      "+ Age            0.08675809\n",
      "+ Laxative       0.08609047\n",
      "+ OHSEAS         0.08564523\n",
      "+ BMI            0.08511126\n",
      "+ OHV24D3        0.08492785\n",
      "+ DTVITD         0.08458448\n",
      "+ TURSMOKE       0.08448648\n",
      "+ QLCOMP         0.08424447\n",
      "<none>           0.08343188\n",
      "+ Sex            0.08343188\n",
      "+ Latitude       0.08343188\n",
      "+ Longitude      0.08343188\n",
      "+ M1PROBI        0.08338889\n",
      "+ TUDRAMT        0.08329591\n",
      "+ M1VITMND       0.08293873\n",
      "+ VDstatus       0.08293581\n",
      "+ Antihistamine  0.08263098\n",
      "\n",
      "          Df     AIC      F Pr(>F)  \n",
      "+ PASCORE  1 -1651.1 3.2064  0.018 *\n",
      "---\n",
      "Signif. codes:  0 ‘***’ 0.001 ‘**’ 0.01 ‘*’ 0.05 ‘.’ 0.1 ‘ ’ 1\n",
      "\n",
      "Step: R2.adj= 0.08724611 \n",
      "Call: Y ~ OHV1D3 + GIERACE + SITE + M1ADEPR + OHVD3 + Rstarch_total +      M1STATIN + M1ANTIB + PASCORE \n",
      " \n",
      "                R2.adjusted\n",
      "<All variables>  0.09978350\n",
      "+ Age            0.09140957\n",
      "+ M1PPUMP        0.09085398\n",
      "+ OHSEAS         0.08939355\n",
      "+ Laxative       0.08932145\n",
      "+ BMI            0.08864046\n",
      "+ OHV24D3        0.08861470\n",
      "+ DTVITD         0.08838389\n",
      "+ TURSMOKE       0.08814492\n",
      "+ QLCOMP         0.08774748\n",
      "<none>           0.08724611\n",
      "+ Sex            0.08724611\n",
      "+ Latitude       0.08724611\n",
      "+ Longitude      0.08724611\n",
      "+ M1PROBI        0.08699407\n",
      "+ VDstatus       0.08673110\n",
      "+ M1VITMND       0.08660802\n",
      "+ TUDRAMT        0.08647057\n",
      "+ Antihistamine  0.08646009\n",
      "\n",
      "      Df     AIC      F Pr(>F)   \n",
      "+ Age  1 -1652.7 3.4149   0.01 **\n",
      "---\n",
      "Signif. codes:  0 ‘***’ 0.001 ‘**’ 0.01 ‘*’ 0.05 ‘.’ 0.1 ‘ ’ 1\n",
      "\n",
      "Step: R2.adj= 0.09140957 \n",
      "Call: Y ~ OHV1D3 + GIERACE + SITE + M1ADEPR + OHVD3 + Rstarch_total +      M1STATIN + M1ANTIB + PASCORE + Age \n",
      " \n",
      "                R2.adjusted\n",
      "<All variables>  0.09978350\n",
      "+ M1PPUMP        0.09512197\n",
      "+ OHSEAS         0.09433929\n",
      "+ Laxative       0.09377285\n",
      "+ OHV24D3        0.09312311\n",
      "+ DTVITD         0.09250264\n",
      "+ QLCOMP         0.09227750\n",
      "+ TURSMOKE       0.09208541\n",
      "+ BMI            0.09200620\n",
      "<none>           0.09140957\n",
      "+ Sex            0.09140957\n",
      "+ Latitude       0.09140957\n",
      "+ Longitude      0.09140957\n",
      "+ M1PROBI        0.09081209\n",
      "+ VDstatus       0.09079706\n",
      "+ M1VITMND       0.09072126\n",
      "+ Antihistamine  0.09067505\n",
      "+ TUDRAMT        0.09040158\n",
      "\n",
      "          Df     AIC     F Pr(>F)  \n",
      "+ M1PPUMP  1 -1653.9 3.158   0.02 *\n",
      "---\n",
      "Signif. codes:  0 ‘***’ 0.001 ‘**’ 0.01 ‘*’ 0.05 ‘.’ 0.1 ‘ ’ 1\n",
      "\n",
      "Step: R2.adj= 0.09512197 \n",
      "Call: Y ~ OHV1D3 + GIERACE + SITE + M1ADEPR + OHVD3 + Rstarch_total +      M1STATIN + M1ANTIB + PASCORE + Age + M1PPUMP \n",
      " \n",
      "                R2.adjusted\n",
      "<All variables>  0.09978350\n",
      "+ OHSEAS         0.09757801\n",
      "+ Laxative       0.09699778\n",
      "+ OHV24D3        0.09652836\n",
      "+ QLCOMP         0.09604641\n",
      "+ TURSMOKE       0.09593342\n",
      "+ DTVITD         0.09575239\n",
      "+ BMI            0.09573966\n",
      "<none>           0.09512197\n",
      "+ Sex            0.09512197\n",
      "+ Latitude       0.09512197\n",
      "+ Longitude      0.09512197\n",
      "+ M1PROBI        0.09460068\n",
      "+ VDstatus       0.09453638\n",
      "+ Antihistamine  0.09452402\n",
      "+ M1VITMND       0.09442128\n",
      "+ TUDRAMT        0.09397293\n",
      "\n",
      "         Df     AIC      F Pr(>F)\n",
      "+ OHSEAS  3 -1652.5 1.4763  0.116\n",
      "\n"
     ]
    }
   ],
   "source": [
    "step.res <- ordiR2step(mod0, mod1, perm.max = 1000)"
   ]
  },
  {
   "cell_type": "code",
   "execution_count": 17,
   "metadata": {},
   "outputs": [
    {
     "data": {
      "text/html": [
       "<table>\n",
       "<thead><tr><th></th><th scope=col>R2.adj</th><th scope=col>Df</th><th scope=col>AIC</th><th scope=col>F</th><th scope=col>Pr(&gt;F)</th></tr></thead>\n",
       "<tbody>\n",
       "\t<tr><th scope=row>+ OHV1D3</th><td>0.02275982</td><td> 1        </td><td>-1628.737 </td><td>13.646411 </td><td>0.002     </td></tr>\n",
       "\t<tr><th scope=row>+ GIERACE</th><td>0.04255134</td><td> 4        </td><td>-1635.897 </td><td> 3.800935 </td><td>0.002     </td></tr>\n",
       "\t<tr><th scope=row>+ SITE</th><td>0.05483419</td><td> 5        </td><td>-1638.000 </td><td> 2.398310 </td><td>0.002     </td></tr>\n",
       "\t<tr><th scope=row>+ M1ADEPR</th><td>0.06231652</td><td> 1        </td><td>-1641.345 </td><td> 5.253118 </td><td>0.004     </td></tr>\n",
       "\t<tr><th scope=row>+ OHVD3</th><td>0.06835272</td><td> 1        </td><td>-1643.882 </td><td> 4.446864 </td><td>0.004     </td></tr>\n",
       "\t<tr><th scope=row>+ Rstarch_total</th><td>0.07387378</td><td> 1        </td><td>-1646.141 </td><td> 4.165531 </td><td>0.006     </td></tr>\n",
       "\t<tr><th scope=row>+ M1STATIN</th><td>0.07908093</td><td> 1        </td><td>-1648.236 </td><td> 3.996779 </td><td>0.006     </td></tr>\n",
       "\t<tr><th scope=row>+ M1ANTIB</th><td>0.08343188</td><td> 1        </td><td>-1649.841 </td><td> 3.511161 </td><td>0.008     </td></tr>\n",
       "\t<tr><th scope=row>+ PASCORE</th><td>0.08724611</td><td> 1        </td><td>-1651.141 </td><td> 3.206415 </td><td>0.018     </td></tr>\n",
       "\t<tr><th scope=row>+ Age</th><td>0.09140957</td><td> 1        </td><td>-1652.661 </td><td> 3.414888 </td><td>0.010     </td></tr>\n",
       "\t<tr><th scope=row>+ M1PPUMP</th><td>0.09512197</td><td> 1        </td><td>-1653.924 </td><td> 3.157993 </td><td>0.020     </td></tr>\n",
       "\t<tr><th scope=row>&lt;All variables&gt;</th><td>0.09978350</td><td>NA        </td><td>       NA </td><td>       NA </td><td>   NA     </td></tr>\n",
       "</tbody>\n",
       "</table>\n"
      ],
      "text/latex": [
       "\\begin{tabular}{r|lllll}\n",
       "  & R2.adj & Df & AIC & F & Pr(>F)\\\\\n",
       "\\hline\n",
       "\t+ OHV1D3 & 0.02275982 &  1         & -1628.737  & 13.646411  & 0.002     \\\\\n",
       "\t+ GIERACE & 0.04255134 &  4         & -1635.897  &  3.800935  & 0.002     \\\\\n",
       "\t+ SITE & 0.05483419 &  5         & -1638.000  &  2.398310  & 0.002     \\\\\n",
       "\t+ M1ADEPR & 0.06231652 &  1         & -1641.345  &  5.253118  & 0.004     \\\\\n",
       "\t+ OHVD3 & 0.06835272 &  1         & -1643.882  &  4.446864  & 0.004     \\\\\n",
       "\t+ Rstarch\\_total & 0.07387378 &  1         & -1646.141  &  4.165531  & 0.006     \\\\\n",
       "\t+ M1STATIN & 0.07908093 &  1         & -1648.236  &  3.996779  & 0.006     \\\\\n",
       "\t+ M1ANTIB & 0.08343188 &  1         & -1649.841  &  3.511161  & 0.008     \\\\\n",
       "\t+ PASCORE & 0.08724611 &  1         & -1651.141  &  3.206415  & 0.018     \\\\\n",
       "\t+ Age & 0.09140957 &  1         & -1652.661  &  3.414888  & 0.010     \\\\\n",
       "\t+ M1PPUMP & 0.09512197 &  1         & -1653.924  &  3.157993  & 0.020     \\\\\n",
       "\t<All variables> & 0.09978350 & NA         &        NA  &        NA  &    NA     \\\\\n",
       "\\end{tabular}\n"
      ],
      "text/markdown": [
       "\n",
       "| <!--/--> | R2.adj | Df | AIC | F | Pr(>F) |\n",
       "|---|---|---|---|---|---|\n",
       "| + OHV1D3 | 0.02275982 |  1         | -1628.737  | 13.646411  | 0.002      |\n",
       "| + GIERACE | 0.04255134 |  4         | -1635.897  |  3.800935  | 0.002      |\n",
       "| + SITE | 0.05483419 |  5         | -1638.000  |  2.398310  | 0.002      |\n",
       "| + M1ADEPR | 0.06231652 |  1         | -1641.345  |  5.253118  | 0.004      |\n",
       "| + OHVD3 | 0.06835272 |  1         | -1643.882  |  4.446864  | 0.004      |\n",
       "| + Rstarch_total | 0.07387378 |  1         | -1646.141  |  4.165531  | 0.006      |\n",
       "| + M1STATIN | 0.07908093 |  1         | -1648.236  |  3.996779  | 0.006      |\n",
       "| + M1ANTIB | 0.08343188 |  1         | -1649.841  |  3.511161  | 0.008      |\n",
       "| + PASCORE | 0.08724611 |  1         | -1651.141  |  3.206415  | 0.018      |\n",
       "| + Age | 0.09140957 |  1         | -1652.661  |  3.414888  | 0.010      |\n",
       "| + M1PPUMP | 0.09512197 |  1         | -1653.924  |  3.157993  | 0.020      |\n",
       "| <All variables> | 0.09978350 | NA         |        NA  |        NA  |    NA      |\n",
       "\n"
      ],
      "text/plain": [
       "                R2.adj     Df AIC       F         Pr(>F)\n",
       "+ OHV1D3        0.02275982  1 -1628.737 13.646411 0.002 \n",
       "+ GIERACE       0.04255134  4 -1635.897  3.800935 0.002 \n",
       "+ SITE          0.05483419  5 -1638.000  2.398310 0.002 \n",
       "+ M1ADEPR       0.06231652  1 -1641.345  5.253118 0.004 \n",
       "+ OHVD3         0.06835272  1 -1643.882  4.446864 0.004 \n",
       "+ Rstarch_total 0.07387378  1 -1646.141  4.165531 0.006 \n",
       "+ M1STATIN      0.07908093  1 -1648.236  3.996779 0.006 \n",
       "+ M1ANTIB       0.08343188  1 -1649.841  3.511161 0.008 \n",
       "+ PASCORE       0.08724611  1 -1651.141  3.206415 0.018 \n",
       "+ Age           0.09140957  1 -1652.661  3.414888 0.010 \n",
       "+ M1PPUMP       0.09512197  1 -1653.924  3.157993 0.020 \n",
       "<All variables> 0.09978350 NA        NA        NA    NA "
      ]
     },
     "metadata": {},
     "output_type": "display_data"
    }
   ],
   "source": [
    "table = step.res$anova\n",
    "table"
   ]
  },
  {
   "cell_type": "code",
   "execution_count": 18,
   "metadata": {},
   "outputs": [],
   "source": [
    "table$ES.RDA = c(table$R2.adj[1], table$R2.adj[2]-table$R2.adj[1], \n",
    "                 table$R2.adj[3]-table$R2.adj[2], table$R2.adj[4]-table$R2.adj[3],\n",
    "                 table$R2.adj[5]-table$R2.adj[4], table$R2.adj[6]-table$R2.adj[5],\n",
    "                 table$R2.adj[7]-table$R2.adj[6], table$R2.adj[8]-table$R2.adj[7],\n",
    "                 table$R2.adj[9]-table$R2.adj[8], table$R2.adj[10]-table$R2.adj[9],\n",
    "                 table$R2.adj[11]-table$R2.adj[10], table$R2.adj[12]-table$R2.adj[11])\n",
    "table = table[-12, ]"
   ]
  },
  {
   "cell_type": "code",
   "execution_count": 19,
   "metadata": {},
   "outputs": [
    {
     "data": {
      "text/plain": [
       "rda(formula = Y ~ OHV1D3 + GIERACE + SITE + M1ADEPR + OHVD3 + \n",
       "    Rstarch_total + M1STATIN + M1ANTIB + PASCORE + Age + M1PPUMP, \n",
       "    data = X)"
      ]
     },
     "metadata": {},
     "output_type": "display_data"
    }
   ],
   "source": [
    "step.res$call"
   ]
  },
  {
   "cell_type": "code",
   "execution_count": 20,
   "metadata": {
    "scrolled": true
   },
   "outputs": [
    {
     "data": {
      "text/html": [
       "<table>\n",
       "<thead><tr><th></th><th scope=col>R2.adj</th><th scope=col>Df</th><th scope=col>AIC</th><th scope=col>F</th><th scope=col>Pr(&gt;F)</th><th scope=col>ES.RDA</th></tr></thead>\n",
       "<tbody>\n",
       "\t<tr><th scope=row>+ OHV1D3</th><td>0.02275982 </td><td>1          </td><td>-1628.737  </td><td>13.646411  </td><td>0.002      </td><td>0.022759817</td></tr>\n",
       "\t<tr><th scope=row>+ GIERACE</th><td>0.04255134 </td><td>4          </td><td>-1635.897  </td><td> 3.800935  </td><td>0.002      </td><td>0.019791521</td></tr>\n",
       "\t<tr><th scope=row>+ SITE</th><td>0.05483419 </td><td>5          </td><td>-1638.000  </td><td> 2.398310  </td><td>0.002      </td><td>0.012282855</td></tr>\n",
       "\t<tr><th scope=row>+ M1ADEPR</th><td>0.06231652 </td><td>1          </td><td>-1641.345  </td><td> 5.253118  </td><td>0.004      </td><td>0.007482324</td></tr>\n",
       "\t<tr><th scope=row>+ OHVD3</th><td>0.06835272 </td><td>1          </td><td>-1643.882  </td><td> 4.446864  </td><td>0.004      </td><td>0.006036205</td></tr>\n",
       "\t<tr><th scope=row>+ Rstarch_total</th><td>0.07387378 </td><td>1          </td><td>-1646.141  </td><td> 4.165531  </td><td>0.006      </td><td>0.005521057</td></tr>\n",
       "\t<tr><th scope=row>+ M1STATIN</th><td>0.07908093 </td><td>1          </td><td>-1648.236  </td><td> 3.996779  </td><td>0.006      </td><td>0.005207154</td></tr>\n",
       "\t<tr><th scope=row>+ M1ANTIB</th><td>0.08343188 </td><td>1          </td><td>-1649.841  </td><td> 3.511161  </td><td>0.008      </td><td>0.004350946</td></tr>\n",
       "\t<tr><th scope=row>+ PASCORE</th><td>0.08724611 </td><td>1          </td><td>-1651.141  </td><td> 3.206415  </td><td>0.018      </td><td>0.003814231</td></tr>\n",
       "\t<tr><th scope=row>+ Age</th><td>0.09140957 </td><td>1          </td><td>-1652.661  </td><td> 3.414888  </td><td>0.010      </td><td>0.004163462</td></tr>\n",
       "\t<tr><th scope=row>+ M1PPUMP</th><td>0.09512197 </td><td>1          </td><td>-1653.924  </td><td> 3.157993  </td><td>0.020      </td><td>0.003712397</td></tr>\n",
       "</tbody>\n",
       "</table>\n"
      ],
      "text/latex": [
       "\\begin{tabular}{r|llllll}\n",
       "  & R2.adj & Df & AIC & F & Pr(>F) & ES.RDA\\\\\n",
       "\\hline\n",
       "\t+ OHV1D3 & 0.02275982  & 1           & -1628.737   & 13.646411   & 0.002       & 0.022759817\\\\\n",
       "\t+ GIERACE & 0.04255134  & 4           & -1635.897   &  3.800935   & 0.002       & 0.019791521\\\\\n",
       "\t+ SITE & 0.05483419  & 5           & -1638.000   &  2.398310   & 0.002       & 0.012282855\\\\\n",
       "\t+ M1ADEPR & 0.06231652  & 1           & -1641.345   &  5.253118   & 0.004       & 0.007482324\\\\\n",
       "\t+ OHVD3 & 0.06835272  & 1           & -1643.882   &  4.446864   & 0.004       & 0.006036205\\\\\n",
       "\t+ Rstarch\\_total & 0.07387378  & 1           & -1646.141   &  4.165531   & 0.006       & 0.005521057\\\\\n",
       "\t+ M1STATIN & 0.07908093  & 1           & -1648.236   &  3.996779   & 0.006       & 0.005207154\\\\\n",
       "\t+ M1ANTIB & 0.08343188  & 1           & -1649.841   &  3.511161   & 0.008       & 0.004350946\\\\\n",
       "\t+ PASCORE & 0.08724611  & 1           & -1651.141   &  3.206415   & 0.018       & 0.003814231\\\\\n",
       "\t+ Age & 0.09140957  & 1           & -1652.661   &  3.414888   & 0.010       & 0.004163462\\\\\n",
       "\t+ M1PPUMP & 0.09512197  & 1           & -1653.924   &  3.157993   & 0.020       & 0.003712397\\\\\n",
       "\\end{tabular}\n"
      ],
      "text/markdown": [
       "\n",
       "| <!--/--> | R2.adj | Df | AIC | F | Pr(>F) | ES.RDA |\n",
       "|---|---|---|---|---|---|---|\n",
       "| + OHV1D3 | 0.02275982  | 1           | -1628.737   | 13.646411   | 0.002       | 0.022759817 |\n",
       "| + GIERACE | 0.04255134  | 4           | -1635.897   |  3.800935   | 0.002       | 0.019791521 |\n",
       "| + SITE | 0.05483419  | 5           | -1638.000   |  2.398310   | 0.002       | 0.012282855 |\n",
       "| + M1ADEPR | 0.06231652  | 1           | -1641.345   |  5.253118   | 0.004       | 0.007482324 |\n",
       "| + OHVD3 | 0.06835272  | 1           | -1643.882   |  4.446864   | 0.004       | 0.006036205 |\n",
       "| + Rstarch_total | 0.07387378  | 1           | -1646.141   |  4.165531   | 0.006       | 0.005521057 |\n",
       "| + M1STATIN | 0.07908093  | 1           | -1648.236   |  3.996779   | 0.006       | 0.005207154 |\n",
       "| + M1ANTIB | 0.08343188  | 1           | -1649.841   |  3.511161   | 0.008       | 0.004350946 |\n",
       "| + PASCORE | 0.08724611  | 1           | -1651.141   |  3.206415   | 0.018       | 0.003814231 |\n",
       "| + Age | 0.09140957  | 1           | -1652.661   |  3.414888   | 0.010       | 0.004163462 |\n",
       "| + M1PPUMP | 0.09512197  | 1           | -1653.924   |  3.157993   | 0.020       | 0.003712397 |\n",
       "\n"
      ],
      "text/plain": [
       "                R2.adj     Df AIC       F         Pr(>F) ES.RDA     \n",
       "+ OHV1D3        0.02275982 1  -1628.737 13.646411 0.002  0.022759817\n",
       "+ GIERACE       0.04255134 4  -1635.897  3.800935 0.002  0.019791521\n",
       "+ SITE          0.05483419 5  -1638.000  2.398310 0.002  0.012282855\n",
       "+ M1ADEPR       0.06231652 1  -1641.345  5.253118 0.004  0.007482324\n",
       "+ OHVD3         0.06835272 1  -1643.882  4.446864 0.004  0.006036205\n",
       "+ Rstarch_total 0.07387378 1  -1646.141  4.165531 0.006  0.005521057\n",
       "+ M1STATIN      0.07908093 1  -1648.236  3.996779 0.006  0.005207154\n",
       "+ M1ANTIB       0.08343188 1  -1649.841  3.511161 0.008  0.004350946\n",
       "+ PASCORE       0.08724611 1  -1651.141  3.206415 0.018  0.003814231\n",
       "+ Age           0.09140957 1  -1652.661  3.414888 0.010  0.004163462\n",
       "+ M1PPUMP       0.09512197 1  -1653.924  3.157993 0.020  0.003712397"
      ]
     },
     "metadata": {},
     "output_type": "display_data"
    }
   ],
   "source": [
    "table"
   ]
  },
  {
   "cell_type": "code",
   "execution_count": 21,
   "metadata": {},
   "outputs": [],
   "source": [
    "rownames(table) = c('1,25-(OH)2D', 'Race', 'Site', 'Antidepressent Use',\n",
    "                    '25(OH)D', 'Total Starch Intake',  'Oral Antibiotic Use',  \n",
    "                    'Physical Activity Score', 'Age',  'PPI')"
   ]
  },
  {
   "cell_type": "code",
   "execution_count": 22,
   "metadata": {},
   "outputs": [],
   "source": [
    "# export\n",
    "write.table(table, file='../data/RDA_beta_table.txt', sep='\\t', col.names=NA)"
   ]
  },
  {
   "cell_type": "code",
   "execution_count": 28,
   "metadata": {},
   "outputs": [
    {
     "data": {
      "text/html": [
       "<strong>pdf:</strong> 2"
      ],
      "text/latex": [
       "\\textbf{pdf:} 2"
      ],
      "text/markdown": [
       "**pdf:** 2"
      ],
      "text/plain": [
       "pdf \n",
       "  2 "
      ]
     },
     "metadata": {},
     "output_type": "display_data"
    }
   ],
   "source": [
    "library(ggplot2)\n",
    "pdf('../figures/RDA_beta_uw.pdf')\n",
    "covariates = rownames(table)\n",
    "ggplot(table, aes(x=reorder(covariates, ES.RDA), y=ES.RDA, fill=covariates)) +\n",
    "  labs(x = 'Non-redundant Covariants', y = 'Effect Size (Unweighted UniFrac)') +\n",
    "  geom_bar(stat='identity') +\n",
    "  scale_x_discrete(labels = c('PPI', 'Age', 'Physical Activity Score', 'Oral Antibiotic Use', 'Statin Use',\n",
    "                              'Total Starch Intake', '25(OH)D', 'Antidepressant Use', 'Site', 'Race', expression('1,25(OH)'[2]*'D'))) +\n",
    "  theme(axis.text=element_text(size=14, face='bold'), \n",
    "       axis.title=element_text(size=17,face=\"bold\"), \n",
    "       legend.position=\"none\") + \n",
    "  coord_flip()\n",
    "dev.off()"
   ]
  },
  {
   "cell_type": "code",
   "execution_count": null,
   "metadata": {},
   "outputs": [],
   "source": []
  }
 ],
 "metadata": {
  "kernelspec": {
   "display_name": "R",
   "language": "R",
   "name": "ir"
  },
  "language_info": {
   "codemirror_mode": "r",
   "file_extension": ".r",
   "mimetype": "text/x-r-source",
   "name": "R",
   "pygments_lexer": "r",
   "version": "3.6.1"
  }
 },
 "nbformat": 4,
 "nbformat_minor": 2
}
