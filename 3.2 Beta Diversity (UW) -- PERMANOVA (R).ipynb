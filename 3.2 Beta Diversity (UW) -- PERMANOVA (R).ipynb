{
 "cells": [
  {
   "cell_type": "markdown",
   "metadata": {
    "collapsed": true
   },
   "source": [
    "### This notebook is to perform permanova tests on unweighted UniFrac "
   ]
  },
  {
   "cell_type": "code",
   "execution_count": 1,
   "metadata": {},
   "outputs": [
    {
     "name": "stderr",
     "output_type": "stream",
     "text": [
      "Loading required package: permute\n",
      "Loading required package: lattice\n",
      "This is vegan 2.4-5\n"
     ]
    }
   ],
   "source": [
    "library(vegan)"
   ]
  },
  {
   "cell_type": "code",
   "execution_count": 2,
   "metadata": {},
   "outputs": [
    {
     "data": {
      "text/html": [
       "<ol class=list-inline>\n",
       "\t<li>598</li>\n",
       "\t<li>598</li>\n",
       "</ol>\n"
      ],
      "text/latex": [
       "\\begin{enumerate*}\n",
       "\\item 598\n",
       "\\item 598\n",
       "\\end{enumerate*}\n"
      ],
      "text/markdown": [
       "1. 598\n",
       "2. 598\n",
       "\n",
       "\n"
      ],
      "text/plain": [
       "[1] 598 598"
      ]
     },
     "metadata": {},
     "output_type": "display_data"
    },
    {
     "data": {
      "text/html": [
       "<table>\n",
       "<thead><tr><th></th><th scope=col>BI0023</th><th scope=col>BI0056</th><th scope=col>BI0131</th><th scope=col>BI0153</th><th scope=col>BI0215</th><th scope=col>BI0353</th><th scope=col>BI0371</th><th scope=col>BI0372</th><th scope=col>BI0380</th><th scope=col>BI0389</th><th scope=col>...</th><th scope=col>SD8954</th><th scope=col>SD8964</th><th scope=col>SD8966</th><th scope=col>SD8972</th><th scope=col>SD8973</th><th scope=col>SD8985</th><th scope=col>SD8996</th><th scope=col>SD8999</th><th scope=col>SD9003</th><th scope=col>SD9009</th></tr></thead>\n",
       "<tbody>\n",
       "\t<tr><th scope=row>BI0023</th><td>0.0000000</td><td>0.6245465</td><td>0.6323849</td><td>0.6235357</td><td>0.6147781</td><td>0.7078241</td><td>0.5917858</td><td>0.5895216</td><td>0.6134408</td><td>0.6471675</td><td>...      </td><td>0.6750175</td><td>0.6229290</td><td>0.7379669</td><td>0.5982671</td><td>0.6239778</td><td>0.6280840</td><td>0.5927045</td><td>0.6448856</td><td>0.6196252</td><td>0.6039170</td></tr>\n",
       "\t<tr><th scope=row>BI0056</th><td>0.6245465</td><td>0.0000000</td><td>0.6300860</td><td>0.5519605</td><td>0.5360343</td><td>0.5886402</td><td>0.5693538</td><td>0.5691121</td><td>0.5374655</td><td>0.5467627</td><td>...      </td><td>0.6098173</td><td>0.5377385</td><td>0.6330715</td><td>0.5831272</td><td>0.6807027</td><td>0.5858193</td><td>0.5357579</td><td>0.6691168</td><td>0.6007265</td><td>0.5719265</td></tr>\n",
       "\t<tr><th scope=row>BI0131</th><td>0.6323849</td><td>0.6300860</td><td>0.0000000</td><td>0.6627618</td><td>0.6095493</td><td>0.7039820</td><td>0.5945366</td><td>0.6610717</td><td>0.6036974</td><td>0.6893908</td><td>...      </td><td>0.7227956</td><td>0.6636062</td><td>0.7548688</td><td>0.5980627</td><td>0.6580462</td><td>0.6588437</td><td>0.6033691</td><td>0.6808554</td><td>0.6481556</td><td>0.6378880</td></tr>\n",
       "\t<tr><th scope=row>BI0153</th><td>0.6235357</td><td>0.5519605</td><td>0.6627618</td><td>0.0000000</td><td>0.5244397</td><td>0.5882720</td><td>0.5838237</td><td>0.5535887</td><td>0.6090343</td><td>0.5659780</td><td>...      </td><td>0.6017073</td><td>0.5328367</td><td>0.6601968</td><td>0.6051792</td><td>0.6686439</td><td>0.5598385</td><td>0.5474499</td><td>0.6563953</td><td>0.6353719</td><td>0.5753318</td></tr>\n",
       "\t<tr><th scope=row>BI0215</th><td>0.6147781</td><td>0.5360343</td><td>0.6095493</td><td>0.5244397</td><td>0.0000000</td><td>0.6012903</td><td>0.5501058</td><td>0.5695800</td><td>0.5789912</td><td>0.5850750</td><td>...      </td><td>0.6107255</td><td>0.5225161</td><td>0.6702062</td><td>0.5606040</td><td>0.6644103</td><td>0.5452202</td><td>0.5350452</td><td>0.6506254</td><td>0.6067142</td><td>0.5535459</td></tr>\n",
       "\t<tr><th scope=row>BI0353</th><td>0.7078241</td><td>0.5886402</td><td>0.7039820</td><td>0.5882720</td><td>0.6012903</td><td>0.0000000</td><td>0.6487110</td><td>0.6201986</td><td>0.6507914</td><td>0.5800674</td><td>...      </td><td>0.6395931</td><td>0.5474678</td><td>0.6704416</td><td>0.6381706</td><td>0.7340164</td><td>0.6377380</td><td>0.5788083</td><td>0.7279034</td><td>0.6755469</td><td>0.6411187</td></tr>\n",
       "</tbody>\n",
       "</table>\n"
      ],
      "text/latex": [
       "\\begin{tabular}{r|llllllllllllllllllllllllllllllllllllllllllllllllllllllllllllllllllllllllllllllllllllllllllllllllllllllllllllllllllllllllllllllllllllllllllllllllllllllllllllllllllllllllllllllllllllllllllllllllllllllllllllllllllllllllllllllllllllllllllllllllllllllllllllllllllllllllllllllllllllllllllllllllllllllllllllllllllllllllllllllllllllllllllllllllllllllllllllllllllllllllllllllllllllllllllllllllllllllllllllllllllllllllllllllllllllllllllllllllllllllllllllllllllllllllllllllllllllllllllllllllllllllllllllllllllllllllllllllllllllllllllllllllllllllllllllllllllllllllllllllllllllllllllllllllllllllllllllllllllllll}\n",
       "  & BI0023 & BI0056 & BI0131 & BI0153 & BI0215 & BI0353 & BI0371 & BI0372 & BI0380 & BI0389 & ... & SD8954 & SD8964 & SD8966 & SD8972 & SD8973 & SD8985 & SD8996 & SD8999 & SD9003 & SD9009\\\\\n",
       "\\hline\n",
       "\tBI0023 & 0.0000000 & 0.6245465 & 0.6323849 & 0.6235357 & 0.6147781 & 0.7078241 & 0.5917858 & 0.5895216 & 0.6134408 & 0.6471675 & ...       & 0.6750175 & 0.6229290 & 0.7379669 & 0.5982671 & 0.6239778 & 0.6280840 & 0.5927045 & 0.6448856 & 0.6196252 & 0.6039170\\\\\n",
       "\tBI0056 & 0.6245465 & 0.0000000 & 0.6300860 & 0.5519605 & 0.5360343 & 0.5886402 & 0.5693538 & 0.5691121 & 0.5374655 & 0.5467627 & ...       & 0.6098173 & 0.5377385 & 0.6330715 & 0.5831272 & 0.6807027 & 0.5858193 & 0.5357579 & 0.6691168 & 0.6007265 & 0.5719265\\\\\n",
       "\tBI0131 & 0.6323849 & 0.6300860 & 0.0000000 & 0.6627618 & 0.6095493 & 0.7039820 & 0.5945366 & 0.6610717 & 0.6036974 & 0.6893908 & ...       & 0.7227956 & 0.6636062 & 0.7548688 & 0.5980627 & 0.6580462 & 0.6588437 & 0.6033691 & 0.6808554 & 0.6481556 & 0.6378880\\\\\n",
       "\tBI0153 & 0.6235357 & 0.5519605 & 0.6627618 & 0.0000000 & 0.5244397 & 0.5882720 & 0.5838237 & 0.5535887 & 0.6090343 & 0.5659780 & ...       & 0.6017073 & 0.5328367 & 0.6601968 & 0.6051792 & 0.6686439 & 0.5598385 & 0.5474499 & 0.6563953 & 0.6353719 & 0.5753318\\\\\n",
       "\tBI0215 & 0.6147781 & 0.5360343 & 0.6095493 & 0.5244397 & 0.0000000 & 0.6012903 & 0.5501058 & 0.5695800 & 0.5789912 & 0.5850750 & ...       & 0.6107255 & 0.5225161 & 0.6702062 & 0.5606040 & 0.6644103 & 0.5452202 & 0.5350452 & 0.6506254 & 0.6067142 & 0.5535459\\\\\n",
       "\tBI0353 & 0.7078241 & 0.5886402 & 0.7039820 & 0.5882720 & 0.6012903 & 0.0000000 & 0.6487110 & 0.6201986 & 0.6507914 & 0.5800674 & ...       & 0.6395931 & 0.5474678 & 0.6704416 & 0.6381706 & 0.7340164 & 0.6377380 & 0.5788083 & 0.7279034 & 0.6755469 & 0.6411187\\\\\n",
       "\\end{tabular}\n"
      ],
      "text/markdown": [
       "\n",
       "| <!--/--> | BI0023 | BI0056 | BI0131 | BI0153 | BI0215 | BI0353 | BI0371 | BI0372 | BI0380 | BI0389 | ... | SD8954 | SD8964 | SD8966 | SD8972 | SD8973 | SD8985 | SD8996 | SD8999 | SD9003 | SD9009 |\n",
       "|---|---|---|---|---|---|---|---|---|---|---|---|---|---|---|---|---|---|---|---|---|---|\n",
       "| BI0023 | 0.0000000 | 0.6245465 | 0.6323849 | 0.6235357 | 0.6147781 | 0.7078241 | 0.5917858 | 0.5895216 | 0.6134408 | 0.6471675 | ...       | 0.6750175 | 0.6229290 | 0.7379669 | 0.5982671 | 0.6239778 | 0.6280840 | 0.5927045 | 0.6448856 | 0.6196252 | 0.6039170 |\n",
       "| BI0056 | 0.6245465 | 0.0000000 | 0.6300860 | 0.5519605 | 0.5360343 | 0.5886402 | 0.5693538 | 0.5691121 | 0.5374655 | 0.5467627 | ...       | 0.6098173 | 0.5377385 | 0.6330715 | 0.5831272 | 0.6807027 | 0.5858193 | 0.5357579 | 0.6691168 | 0.6007265 | 0.5719265 |\n",
       "| BI0131 | 0.6323849 | 0.6300860 | 0.0000000 | 0.6627618 | 0.6095493 | 0.7039820 | 0.5945366 | 0.6610717 | 0.6036974 | 0.6893908 | ...       | 0.7227956 | 0.6636062 | 0.7548688 | 0.5980627 | 0.6580462 | 0.6588437 | 0.6033691 | 0.6808554 | 0.6481556 | 0.6378880 |\n",
       "| BI0153 | 0.6235357 | 0.5519605 | 0.6627618 | 0.0000000 | 0.5244397 | 0.5882720 | 0.5838237 | 0.5535887 | 0.6090343 | 0.5659780 | ...       | 0.6017073 | 0.5328367 | 0.6601968 | 0.6051792 | 0.6686439 | 0.5598385 | 0.5474499 | 0.6563953 | 0.6353719 | 0.5753318 |\n",
       "| BI0215 | 0.6147781 | 0.5360343 | 0.6095493 | 0.5244397 | 0.0000000 | 0.6012903 | 0.5501058 | 0.5695800 | 0.5789912 | 0.5850750 | ...       | 0.6107255 | 0.5225161 | 0.6702062 | 0.5606040 | 0.6644103 | 0.5452202 | 0.5350452 | 0.6506254 | 0.6067142 | 0.5535459 |\n",
       "| BI0353 | 0.7078241 | 0.5886402 | 0.7039820 | 0.5882720 | 0.6012903 | 0.0000000 | 0.6487110 | 0.6201986 | 0.6507914 | 0.5800674 | ...       | 0.6395931 | 0.5474678 | 0.6704416 | 0.6381706 | 0.7340164 | 0.6377380 | 0.5788083 | 0.7279034 | 0.6755469 | 0.6411187 |\n",
       "\n"
      ],
      "text/plain": [
       "       BI0023    BI0056    BI0131    BI0153    BI0215    BI0353    BI0371   \n",
       "BI0023 0.0000000 0.6245465 0.6323849 0.6235357 0.6147781 0.7078241 0.5917858\n",
       "BI0056 0.6245465 0.0000000 0.6300860 0.5519605 0.5360343 0.5886402 0.5693538\n",
       "BI0131 0.6323849 0.6300860 0.0000000 0.6627618 0.6095493 0.7039820 0.5945366\n",
       "BI0153 0.6235357 0.5519605 0.6627618 0.0000000 0.5244397 0.5882720 0.5838237\n",
       "BI0215 0.6147781 0.5360343 0.6095493 0.5244397 0.0000000 0.6012903 0.5501058\n",
       "BI0353 0.7078241 0.5886402 0.7039820 0.5882720 0.6012903 0.0000000 0.6487110\n",
       "       BI0372    BI0380    BI0389    ... SD8954    SD8964    SD8966   \n",
       "BI0023 0.5895216 0.6134408 0.6471675 ... 0.6750175 0.6229290 0.7379669\n",
       "BI0056 0.5691121 0.5374655 0.5467627 ... 0.6098173 0.5377385 0.6330715\n",
       "BI0131 0.6610717 0.6036974 0.6893908 ... 0.7227956 0.6636062 0.7548688\n",
       "BI0153 0.5535887 0.6090343 0.5659780 ... 0.6017073 0.5328367 0.6601968\n",
       "BI0215 0.5695800 0.5789912 0.5850750 ... 0.6107255 0.5225161 0.6702062\n",
       "BI0353 0.6201986 0.6507914 0.5800674 ... 0.6395931 0.5474678 0.6704416\n",
       "       SD8972    SD8973    SD8985    SD8996    SD8999    SD9003    SD9009   \n",
       "BI0023 0.5982671 0.6239778 0.6280840 0.5927045 0.6448856 0.6196252 0.6039170\n",
       "BI0056 0.5831272 0.6807027 0.5858193 0.5357579 0.6691168 0.6007265 0.5719265\n",
       "BI0131 0.5980627 0.6580462 0.6588437 0.6033691 0.6808554 0.6481556 0.6378880\n",
       "BI0153 0.6051792 0.6686439 0.5598385 0.5474499 0.6563953 0.6353719 0.5753318\n",
       "BI0215 0.5606040 0.6644103 0.5452202 0.5350452 0.6506254 0.6067142 0.5535459\n",
       "BI0353 0.6381706 0.7340164 0.6377380 0.5788083 0.7279034 0.6755469 0.6411187"
      ]
     },
     "metadata": {},
     "output_type": "display_data"
    }
   ],
   "source": [
    "distance = read.table(file='../data/57316-unweighted_unifrac_distance/distance-matrix.tsv',\n",
    "                      sep='\\t', header=TRUE, row.names=1)\n",
    "distance <- distance[ , order(colnames(distance))]\n",
    "distance <- distance[ order(rownames(distance)), ]\n",
    "distance[] <- lapply(distance, as.numeric)\n",
    "dim(distance)\n",
    "head(distance)"
   ]
  },
  {
   "cell_type": "code",
   "execution_count": 3,
   "metadata": {},
   "outputs": [
    {
     "data": {
      "text/html": [
       "<ol class=list-inline>\n",
       "\t<li>598</li>\n",
       "\t<li>76</li>\n",
       "</ol>\n"
      ],
      "text/latex": [
       "\\begin{enumerate*}\n",
       "\\item 598\n",
       "\\item 76\n",
       "\\end{enumerate*}\n"
      ],
      "text/markdown": [
       "1. 598\n",
       "2. 76\n",
       "\n",
       "\n"
      ],
      "text/plain": [
       "[1] 598  76"
      ]
     },
     "metadata": {},
     "output_type": "display_data"
    },
    {
     "data": {
      "text/html": [
       "<table>\n",
       "<thead><tr><th scope=col>SampleName</th><th scope=col>BarcodeSequence</th><th scope=col>LinkerPrimerSequence</th><th scope=col>Experiment_Design_Description</th><th scope=col>Library_Construction_Protocol</th><th scope=col>Linker</th><th scope=col>Platform</th><th scope=col>Center_Name</th><th scope=col>Center_Project</th><th scope=col>Instrument_Model</th><th scope=col>...</th><th scope=col>ratio_catabolism</th><th scope=col>QLCOMP</th><th scope=col>M1STATIN</th><th scope=col>Antihistamine</th><th scope=col>Laxative</th><th scope=col>MIDATA</th><th scope=col>Rstarch_total</th><th scope=col>Rstarches_c</th><th scope=col>M1PPUMP</th><th scope=col>alpha_pd</th></tr></thead>\n",
       "<tbody>\n",
       "\t<tr><td>BI0023                                              </td><td>TCTGGTGACATT                                        </td><td>GGACTACHVGGGTWTCTAAT                                </td><td>16S stool samples sequenced for MrOS Vitamin D study</td><td>16S rRNA v4                                         </td><td>GT                                                  </td><td>Illumina                                            </td><td>BI                                                  </td><td>MrOS                                                </td><td>Illumina MiSeq                                      </td><td>...                                                 </td><td>0.06860465                                          </td><td>1:GOOD/EXCELLENT                                    </td><td>0: No                                               </td><td>0:No                                                </td><td>0:No                                                </td><td>1: Yes                                              </td><td>3.066569                                            </td><td>0                                                   </td><td>0: No                                               </td><td>30.02140                                            </td></tr>\n",
       "\t<tr><td>BI0056                                              </td><td>CAAGCATGCCTA                                        </td><td>GGACTACHVGGGTWTCTAAT                                </td><td>16S stool samples sequenced for MrOS Vitamin D study</td><td>16S rRNA v4                                         </td><td>GT                                                  </td><td>Illumina                                            </td><td>BI                                                  </td><td>MrOS                                                </td><td>Illumina MiSeq                                      </td><td>...                                                 </td><td>0.09974490                                          </td><td>1:GOOD/EXCELLENT                                    </td><td>0: No                                               </td><td>0:No                                                </td><td>0:No                                                </td><td>1: Yes                                              </td><td>3.038136                                            </td><td>0                                                   </td><td>1: Yes                                              </td><td>18.41498                                            </td></tr>\n",
       "\t<tr><td>BI0131                                              </td><td>CTATTTGCGACA                                        </td><td>GGACTACHVGGGTWTCTAAT                                </td><td>16S stool samples sequenced for MrOS Vitamin D study</td><td>16S rRNA v4                                         </td><td>GT                                                  </td><td>Illumina                                            </td><td>BI                                                  </td><td>MrOS                                                </td><td>Illumina MiSeq                                      </td><td>...                                                 </td><td>0.06450216                                          </td><td>1:GOOD/EXCELLENT                                    </td><td>1: Yes                                              </td><td>0:No                                                </td><td>0:No                                                </td><td>1: Yes                                              </td><td>2.840599                                            </td><td>0                                                   </td><td>0: No                                               </td><td>25.75695                                            </td></tr>\n",
       "\t<tr><td>BI0153                                              </td><td>ATCGGCGTTACA                                        </td><td>GGACTACHVGGGTWTCTAAT                                </td><td>16S stool samples sequenced for MrOS Vitamin D study</td><td>16S rRNA v4                                         </td><td>GT                                                  </td><td>Illumina                                            </td><td>BI                                                  </td><td>MrOS                                                </td><td>Illumina MiSeq                                      </td><td>...                                                 </td><td>0.07838828                                          </td><td>1:GOOD/EXCELLENT                                    </td><td>1: Yes                                              </td><td>0:No                                                </td><td>0:No                                                </td><td>1: Yes                                              </td><td>4.106798                                            </td><td>0                                                   </td><td>0: No                                               </td><td>20.16791                                            </td></tr>\n",
       "\t<tr><td>BI0215                                              </td><td>CCTCTCGTGATC                                        </td><td>GGACTACHVGGGTWTCTAAT                                </td><td>16S stool samples sequenced for MrOS Vitamin D study</td><td>16S rRNA v4                                         </td><td>GT                                                  </td><td>Illumina                                            </td><td>BI                                                  </td><td>MrOS                                                </td><td>Illumina MiSeq                                      </td><td>...                                                 </td><td>0.10969697                                          </td><td>1:GOOD/EXCELLENT                                    </td><td>0: No                                               </td><td>0:No                                                </td><td>0:No                                                </td><td>1: Yes                                              </td><td>0.971114                                            </td><td>0                                                   </td><td>0: No                                               </td><td>20.71433                                            </td></tr>\n",
       "\t<tr><td>BI0353                                              </td><td>TGCCATCTGAAT                                        </td><td>GGACTACHVGGGTWTCTAAT                                </td><td>16S stool samples sequenced for MrOS Vitamin D study</td><td>16S rRNA v4                                         </td><td>GT                                                  </td><td>Illumina                                            </td><td>BI                                                  </td><td>MrOS                                                </td><td>Illumina MiSeq                                      </td><td>...                                                 </td><td>0.09179487                                          </td><td>1:GOOD/EXCELLENT                                    </td><td>1: Yes                                              </td><td>0:No                                                </td><td>0:No                                                </td><td>1: Yes                                              </td><td>4.813568                                            </td><td>0                                                   </td><td>0: No                                               </td><td>14.17015                                            </td></tr>\n",
       "</tbody>\n",
       "</table>\n"
      ],
      "text/latex": [
       "\\begin{tabular}{r|llllllllllllllllllllllllllllllllllllllllllllllllllllllllllllllllllllllllllll}\n",
       " SampleName & BarcodeSequence & LinkerPrimerSequence & Experiment\\_Design\\_Description & Library\\_Construction\\_Protocol & Linker & Platform & Center\\_Name & Center\\_Project & Instrument\\_Model & ... & ratio\\_catabolism & QLCOMP & M1STATIN & Antihistamine & Laxative & MIDATA & Rstarch\\_total & Rstarches\\_c & M1PPUMP & alpha\\_pd\\\\\n",
       "\\hline\n",
       "\t BI0023                                               & TCTGGTGACATT                                         & GGACTACHVGGGTWTCTAAT                                 & 16S stool samples sequenced for MrOS Vitamin D study & 16S rRNA v4                                          & GT                                                   & Illumina                                             & BI                                                   & MrOS                                                 & Illumina MiSeq                                       & ...                                                  & 0.06860465                                           & 1:GOOD/EXCELLENT                                     & 0: No                                                & 0:No                                                 & 0:No                                                 & 1: Yes                                               & 3.066569                                             & 0                                                    & 0: No                                                & 30.02140                                            \\\\\n",
       "\t BI0056                                               & CAAGCATGCCTA                                         & GGACTACHVGGGTWTCTAAT                                 & 16S stool samples sequenced for MrOS Vitamin D study & 16S rRNA v4                                          & GT                                                   & Illumina                                             & BI                                                   & MrOS                                                 & Illumina MiSeq                                       & ...                                                  & 0.09974490                                           & 1:GOOD/EXCELLENT                                     & 0: No                                                & 0:No                                                 & 0:No                                                 & 1: Yes                                               & 3.038136                                             & 0                                                    & 1: Yes                                               & 18.41498                                            \\\\\n",
       "\t BI0131                                               & CTATTTGCGACA                                         & GGACTACHVGGGTWTCTAAT                                 & 16S stool samples sequenced for MrOS Vitamin D study & 16S rRNA v4                                          & GT                                                   & Illumina                                             & BI                                                   & MrOS                                                 & Illumina MiSeq                                       & ...                                                  & 0.06450216                                           & 1:GOOD/EXCELLENT                                     & 1: Yes                                               & 0:No                                                 & 0:No                                                 & 1: Yes                                               & 2.840599                                             & 0                                                    & 0: No                                                & 25.75695                                            \\\\\n",
       "\t BI0153                                               & ATCGGCGTTACA                                         & GGACTACHVGGGTWTCTAAT                                 & 16S stool samples sequenced for MrOS Vitamin D study & 16S rRNA v4                                          & GT                                                   & Illumina                                             & BI                                                   & MrOS                                                 & Illumina MiSeq                                       & ...                                                  & 0.07838828                                           & 1:GOOD/EXCELLENT                                     & 1: Yes                                               & 0:No                                                 & 0:No                                                 & 1: Yes                                               & 4.106798                                             & 0                                                    & 0: No                                                & 20.16791                                            \\\\\n",
       "\t BI0215                                               & CCTCTCGTGATC                                         & GGACTACHVGGGTWTCTAAT                                 & 16S stool samples sequenced for MrOS Vitamin D study & 16S rRNA v4                                          & GT                                                   & Illumina                                             & BI                                                   & MrOS                                                 & Illumina MiSeq                                       & ...                                                  & 0.10969697                                           & 1:GOOD/EXCELLENT                                     & 0: No                                                & 0:No                                                 & 0:No                                                 & 1: Yes                                               & 0.971114                                             & 0                                                    & 0: No                                                & 20.71433                                            \\\\\n",
       "\t BI0353                                               & TGCCATCTGAAT                                         & GGACTACHVGGGTWTCTAAT                                 & 16S stool samples sequenced for MrOS Vitamin D study & 16S rRNA v4                                          & GT                                                   & Illumina                                             & BI                                                   & MrOS                                                 & Illumina MiSeq                                       & ...                                                  & 0.09179487                                           & 1:GOOD/EXCELLENT                                     & 1: Yes                                               & 0:No                                                 & 0:No                                                 & 1: Yes                                               & 4.813568                                             & 0                                                    & 0: No                                                & 14.17015                                            \\\\\n",
       "\\end{tabular}\n"
      ],
      "text/markdown": [
       "\n",
       "| SampleName | BarcodeSequence | LinkerPrimerSequence | Experiment_Design_Description | Library_Construction_Protocol | Linker | Platform | Center_Name | Center_Project | Instrument_Model | ... | ratio_catabolism | QLCOMP | M1STATIN | Antihistamine | Laxative | MIDATA | Rstarch_total | Rstarches_c | M1PPUMP | alpha_pd |\n",
       "|---|---|---|---|---|---|---|---|---|---|---|---|---|---|---|---|---|---|---|---|---|\n",
       "| BI0023                                               | TCTGGTGACATT                                         | GGACTACHVGGGTWTCTAAT                                 | 16S stool samples sequenced for MrOS Vitamin D study | 16S rRNA v4                                          | GT                                                   | Illumina                                             | BI                                                   | MrOS                                                 | Illumina MiSeq                                       | ...                                                  | 0.06860465                                           | 1:GOOD/EXCELLENT                                     | 0: No                                                | 0:No                                                 | 0:No                                                 | 1: Yes                                               | 3.066569                                             | 0                                                    | 0: No                                                | 30.02140                                             |\n",
       "| BI0056                                               | CAAGCATGCCTA                                         | GGACTACHVGGGTWTCTAAT                                 | 16S stool samples sequenced for MrOS Vitamin D study | 16S rRNA v4                                          | GT                                                   | Illumina                                             | BI                                                   | MrOS                                                 | Illumina MiSeq                                       | ...                                                  | 0.09974490                                           | 1:GOOD/EXCELLENT                                     | 0: No                                                | 0:No                                                 | 0:No                                                 | 1: Yes                                               | 3.038136                                             | 0                                                    | 1: Yes                                               | 18.41498                                             |\n",
       "| BI0131                                               | CTATTTGCGACA                                         | GGACTACHVGGGTWTCTAAT                                 | 16S stool samples sequenced for MrOS Vitamin D study | 16S rRNA v4                                          | GT                                                   | Illumina                                             | BI                                                   | MrOS                                                 | Illumina MiSeq                                       | ...                                                  | 0.06450216                                           | 1:GOOD/EXCELLENT                                     | 1: Yes                                               | 0:No                                                 | 0:No                                                 | 1: Yes                                               | 2.840599                                             | 0                                                    | 0: No                                                | 25.75695                                             |\n",
       "| BI0153                                               | ATCGGCGTTACA                                         | GGACTACHVGGGTWTCTAAT                                 | 16S stool samples sequenced for MrOS Vitamin D study | 16S rRNA v4                                          | GT                                                   | Illumina                                             | BI                                                   | MrOS                                                 | Illumina MiSeq                                       | ...                                                  | 0.07838828                                           | 1:GOOD/EXCELLENT                                     | 1: Yes                                               | 0:No                                                 | 0:No                                                 | 1: Yes                                               | 4.106798                                             | 0                                                    | 0: No                                                | 20.16791                                             |\n",
       "| BI0215                                               | CCTCTCGTGATC                                         | GGACTACHVGGGTWTCTAAT                                 | 16S stool samples sequenced for MrOS Vitamin D study | 16S rRNA v4                                          | GT                                                   | Illumina                                             | BI                                                   | MrOS                                                 | Illumina MiSeq                                       | ...                                                  | 0.10969697                                           | 1:GOOD/EXCELLENT                                     | 0: No                                                | 0:No                                                 | 0:No                                                 | 1: Yes                                               | 0.971114                                             | 0                                                    | 0: No                                                | 20.71433                                             |\n",
       "| BI0353                                               | TGCCATCTGAAT                                         | GGACTACHVGGGTWTCTAAT                                 | 16S stool samples sequenced for MrOS Vitamin D study | 16S rRNA v4                                          | GT                                                   | Illumina                                             | BI                                                   | MrOS                                                 | Illumina MiSeq                                       | ...                                                  | 0.09179487                                           | 1:GOOD/EXCELLENT                                     | 1: Yes                                               | 0:No                                                 | 0:No                                                 | 1: Yes                                               | 4.813568                                             | 0                                                    | 0: No                                                | 14.17015                                             |\n",
       "\n"
      ],
      "text/plain": [
       "  SampleName BarcodeSequence LinkerPrimerSequence\n",
       "1 BI0023     TCTGGTGACATT    GGACTACHVGGGTWTCTAAT\n",
       "2 BI0056     CAAGCATGCCTA    GGACTACHVGGGTWTCTAAT\n",
       "3 BI0131     CTATTTGCGACA    GGACTACHVGGGTWTCTAAT\n",
       "4 BI0153     ATCGGCGTTACA    GGACTACHVGGGTWTCTAAT\n",
       "5 BI0215     CCTCTCGTGATC    GGACTACHVGGGTWTCTAAT\n",
       "6 BI0353     TGCCATCTGAAT    GGACTACHVGGGTWTCTAAT\n",
       "  Experiment_Design_Description                       \n",
       "1 16S stool samples sequenced for MrOS Vitamin D study\n",
       "2 16S stool samples sequenced for MrOS Vitamin D study\n",
       "3 16S stool samples sequenced for MrOS Vitamin D study\n",
       "4 16S stool samples sequenced for MrOS Vitamin D study\n",
       "5 16S stool samples sequenced for MrOS Vitamin D study\n",
       "6 16S stool samples sequenced for MrOS Vitamin D study\n",
       "  Library_Construction_Protocol Linker Platform Center_Name Center_Project\n",
       "1 16S rRNA v4                   GT     Illumina BI          MrOS          \n",
       "2 16S rRNA v4                   GT     Illumina BI          MrOS          \n",
       "3 16S rRNA v4                   GT     Illumina BI          MrOS          \n",
       "4 16S rRNA v4                   GT     Illumina BI          MrOS          \n",
       "5 16S rRNA v4                   GT     Illumina BI          MrOS          \n",
       "6 16S rRNA v4                   GT     Illumina BI          MrOS          \n",
       "  Instrument_Model ... ratio_catabolism QLCOMP           M1STATIN Antihistamine\n",
       "1 Illumina MiSeq   ... 0.06860465       1:GOOD/EXCELLENT 0: No    0:No         \n",
       "2 Illumina MiSeq   ... 0.09974490       1:GOOD/EXCELLENT 0: No    0:No         \n",
       "3 Illumina MiSeq   ... 0.06450216       1:GOOD/EXCELLENT 1: Yes   0:No         \n",
       "4 Illumina MiSeq   ... 0.07838828       1:GOOD/EXCELLENT 1: Yes   0:No         \n",
       "5 Illumina MiSeq   ... 0.10969697       1:GOOD/EXCELLENT 0: No    0:No         \n",
       "6 Illumina MiSeq   ... 0.09179487       1:GOOD/EXCELLENT 1: Yes   0:No         \n",
       "  Laxative MIDATA Rstarch_total Rstarches_c M1PPUMP alpha_pd\n",
       "1 0:No     1: Yes 3.066569      0           0: No   30.02140\n",
       "2 0:No     1: Yes 3.038136      0           1: Yes  18.41498\n",
       "3 0:No     1: Yes 2.840599      0           0: No   25.75695\n",
       "4 0:No     1: Yes 4.106798      0           0: No   20.16791\n",
       "5 0:No     1: Yes 0.971114      0           0: No   20.71433\n",
       "6 0:No     1: Yes 4.813568      0           0: No   14.17015"
      ]
     },
     "metadata": {},
     "output_type": "display_data"
    }
   ],
   "source": [
    "mf = read.csv('../data/mros_mapping_alpha.txt', sep='\\t')\n",
    "colnames(mf)[1] = 'SampleName'\n",
    "dim(mf)\n",
    "head(mf)"
   ]
  },
  {
   "cell_type": "code",
   "execution_count": 4,
   "metadata": {
    "scrolled": true
   },
   "outputs": [
    {
     "data": {
      "text/plain": [
       "   SampleName      BarcodeSequence           LinkerPrimerSequence\n",
       " BI0023 :  1   AACAAGCAGAAC:  1    GGACTACHVGGGTWTCTAAT:598      \n",
       " BI0056 :  1   AACACAAGGAGT:  1                                  \n",
       " BI0131 :  1   AACAGCCGGTCA:  1                                  \n",
       " BI0153 :  1   AACCGACAGCGT:  1                                  \n",
       " BI0215 :  1   AACCGCGGTCAA:  1                                  \n",
       " BI0353 :  1   AACCGTTCCAGA:  1                                  \n",
       " (Other):592   (Other)     :592                                  \n",
       "                                      Experiment_Design_Description\n",
       " 16S stool samples sequenced for MrOS Vitamin D study:598          \n",
       "                                                                   \n",
       "                                                                   \n",
       "                                                                   \n",
       "                                                                   \n",
       "                                                                   \n",
       "                                                                   \n",
       " Library_Construction_Protocol Linker       Platform   Center_Name\n",
       " 16S rRNA v4:598               GT:598   Illumina:598   BI: 75     \n",
       "                                                       MN: 91     \n",
       "                                                       PA: 86     \n",
       "                                                       PI: 92     \n",
       "                                                       PO:121     \n",
       "                                                       SD:133     \n",
       "                                                                  \n",
       " Center_Project       Instrument_Model           Title     Anonymized_Name\n",
       " MrOS:598       Illumina MiSeq:598     MrOS_VitaminD:598   BI0023 :  1    \n",
       "                                                           BI0056 :  1    \n",
       "                                                           BI0131 :  1    \n",
       "                                                           BI0153 :  1    \n",
       "                                                           BI0215 :  1    \n",
       "                                                           BI0353 :  1    \n",
       "                                                           (Other):592    \n",
       "             Scientific_Name           Taxon_ID   Sample_Type      Geo_Loc_Name\n",
       " human gut metagenome:598    Not applicable:598   stool:598   Birmingham : 75  \n",
       "                                                              Minneapolis: 91  \n",
       "                                                              Palo Alto  : 86  \n",
       "                                                              Pittsburgh : 92  \n",
       "                                                              Portland   :121  \n",
       "                                                              San Diego  :133  \n",
       "                                                                               \n",
       "          Elevation         Env_Biome                     Env_Feature \n",
       " Not applicable:598   urban biome:598   human-associated habitat:598  \n",
       "                                                                      \n",
       "                                                                      \n",
       "                                                                      \n",
       "                                                                      \n",
       "                                                                      \n",
       "                                                                      \n",
       " Env_Material    Env_Package     Latitude       Longitude     \n",
       " feces:598    human-gut:598   Min.   :32.72   Min.   :-122.7  \n",
       "                              1st Qu.:33.52   1st Qu.:-122.1  \n",
       "                              Median :40.44   Median :-117.2  \n",
       "                              Mean   :39.14   Mean   :-105.8  \n",
       "                              3rd Qu.:44.98   3rd Qu.: -86.8  \n",
       "                              Max.   :45.52   Max.   : -80.0  \n",
       "                                                              \n",
       "     Collection_Timestamp        DNA_Extracted  Physical_Specimen_Location\n",
       " Not applicable:598       Not applicable:598   Not applicable:598         \n",
       "                                                                          \n",
       "                                                                          \n",
       "                                                                          \n",
       "                                                                          \n",
       "                                                                          \n",
       "                                                                          \n",
       " Physical_Specimen_Remaining      Age        Age_Units         Host_Subject_ID\n",
       " Not applicable:598          Min.   :78.00   years:598   Not applicable:598   \n",
       "                             1st Qu.:81.00                                    \n",
       "                             Median :83.00                                    \n",
       "                             Mean   :84.24                                    \n",
       "                             3rd Qu.:87.00                                    \n",
       "                             Max.   :98.00                                    \n",
       "                                                                              \n",
       "          Host_Taxid    Host_Scientific_Name Host_Common_Name Life_Stage \n",
       " Not applicable:598   Homo sapiens:598       human:598        adult:598  \n",
       "                                                                         \n",
       "                                                                         \n",
       "                                                                         \n",
       "                                                                         \n",
       "                                                                         \n",
       "                                                                         \n",
       "   Sex          Height      Height_Units     Weight       Weight_Units\n",
       " male:598   Min.   :153.8   cm:598       Min.   : 51.40   kg:598      \n",
       "            1st Qu.:167.3                1st Qu.: 71.00               \n",
       "            Median :172.1                Median : 79.00               \n",
       "            Mean   :172.1                Mean   : 80.21               \n",
       "            3rd Qu.:176.8                3rd Qu.: 87.50               \n",
       "            Max.   :194.7                Max.   :127.60               \n",
       "                                                                      \n",
       "      BMI              Body_Habitat        Body_Site         Body_Product\n",
       " Min.   :17.60   UBERON:feces:598   UBERON:feces:598   UBERON:feces:598  \n",
       " 1st Qu.:24.52                                                           \n",
       " Median :26.73                                                           \n",
       " Mean   :27.02                                                           \n",
       " 3rd Qu.:28.98                                                           \n",
       " Max.   :42.93                                                           \n",
       "                                                                         \n",
       "               GIERACE             SITE    \n",
       " 1:WHITE           :520   Birmingham : 75  \n",
       " 2:AFRICAN AMERICAN: 24   Minneapolis: 91  \n",
       " 3:ASIAN           : 33   Palo Alto  : 86  \n",
       " 4:HISPANIC        : 12   Pittsburgh : 92  \n",
       " 5:OTHER           :  9   Portland   :121  \n",
       "                          San Diego  :133  \n",
       "                                           \n",
       "                            TUDRAMT       PASCORE                   TURSMOKE  \n",
       " .                              :  2   Min.   :  0.00   0:NO            :230  \n",
       " 0:None drinker                 :229   1st Qu.: 70.39   1:PAST          :288  \n",
       " 1: Less than one drink per week: 78   Median :117.09   2:CURRENT       :  9  \n",
       " 2: 1-2drinks per week          : 66   Mean   :122.60   M:Not Applicable: 71  \n",
       " 3: 3-5 drinks per week         : 90   3rd Qu.:165.89                         \n",
       " 4: 6-13 drinks per week        :106   Max.   :359.14                         \n",
       " 5: 14 or more drinks per week  : 27                                          \n",
       "     DTVITD          M1ADEPR      M1VITMND     M1ANTIB      M1PROBI   \n",
       " Min.   :  0.429   0: No :545   0: No :154   0: No :557   0: No :572  \n",
       " 1st Qu.: 78.140   1: Yes: 53   1: Yes:444   1: Yes: 41   1: Yes: 26  \n",
       " Median :128.230                                                      \n",
       " Mean   :164.595                                                      \n",
       " 3rd Qu.:211.795                                                      \n",
       " Max.   :982.830                                                      \n",
       " NA's   :15                                                           \n",
       "     OHV1D3           OHV24D3           OHVD3            OHVD2        \n",
       " Min.   :0.01070   Min.   : 0.300   Min.   :  7.80   Min.   : 0.0000  \n",
       " 1st Qu.:0.04412   1st Qu.: 2.167   1st Qu.: 27.40   1st Qu.: 0.0000  \n",
       " Median :0.05550   Median : 3.185   Median : 33.60   Median : 0.0000  \n",
       " Mean   :0.05780   Mean   : 3.431   Mean   : 35.22   Mean   : 0.7705  \n",
       " 3rd Qu.:0.06635   3rd Qu.: 4.237   3rd Qu.: 41.85   3rd Qu.: 0.0000  \n",
       " Max.   :0.15600   Max.   :14.070   Max.   :104.00   Max.   :59.0000  \n",
       " NA's   :32        NA's   :32       NA's   :43       NA's   :32       \n",
       "     OHV1D2                          OHV1D2CT                     OHVD2CT   \n",
       " Min.   :0.00000   0: No                 :  4   0: No                 :119  \n",
       " 1st Qu.:0.00000   1: Yes                :562   1: Yes                :447  \n",
       " Median :0.00000   Missing:Not collected : 32   Missing:Not collected : 32  \n",
       " Mean   :0.00018                                                            \n",
       " 3rd Qu.:0.00000                                                            \n",
       " Max.   :0.03780                                                            \n",
       " NA's   :32                                                                 \n",
       "    OHVDTOT          OHV1DTOT                          OHSEAS   \n",
       " Min.   :  7.80   Min.   :0.01070   1:WINTER              :  6  \n",
       " 1st Qu.: 28.10   1st Qu.:0.04430   2:SPRING              :210  \n",
       " Median : 34.10   Median :0.05550   3:SUMMER              :220  \n",
       " Mean   : 36.01   Mean   :0.05798   4:FALL                :130  \n",
       " 3rd Qu.: 42.30   3rd Qu.:0.06648   Missing:Not collected : 32  \n",
       " Max.   :104.00   Max.   :0.15600                               \n",
       " NA's   :43       NA's   :32                                    \n",
       "                   VDstatus             Description  ratio_activation \n",
       "                       : 11   Orwoll.BI0023.BI:  1   Min.   :0.00040  \n",
       " deficiency            : 40   Orwoll.BI0056.BI:  1   1st Qu.:0.00132  \n",
       " Missing:Not collected : 32   Orwoll.BI0131.BI:  1   Median :0.00166  \n",
       " sufficiency           :515   Orwoll.BI0153.BI:  1   Mean   :0.00177  \n",
       "                              Orwoll.BI0215.BI:  1   3rd Qu.:0.00208  \n",
       "                              Orwoll.BI0353.BI:  1   Max.   :0.00673  \n",
       "                              (Other)         :592   NA's   :43       \n",
       " ratio_catabolism               QLCOMP      M1STATIN   Antihistamine\n",
       " Min.   :0.01879   0:PR/VPOOR/FAIR : 66   0: No :263   0:No :539    \n",
       " 1st Qu.:0.07416   1:GOOD/EXCELLENT:532   1: Yes:335   1:Yes: 59    \n",
       " Median :0.09284                                                    \n",
       " Mean   :0.09480                                                    \n",
       " 3rd Qu.:0.11305                                                    \n",
       " Max.   :0.19779                                                    \n",
       " NA's   :43                                                         \n",
       "  Laxative      MIDATA    Rstarch_total     Rstarches_c       M1PPUMP   \n",
       " 0:No :505   1: Yes:598   Min.   : 0.100   Min.   :0.0000   0: No :482  \n",
       " 1:Yes: 93                1st Qu.: 1.250   1st Qu.:0.0000   1: Yes:116  \n",
       "                          Median : 2.358   Median :0.0000               \n",
       "                          Mean   : 2.680   Mean   :0.1286               \n",
       "                          3rd Qu.: 3.601   3rd Qu.:0.0000               \n",
       "                          Max.   :12.386   Max.   :1.0000               \n",
       "                          NA's   :15       NA's   :15                   \n",
       "    alpha_pd     \n",
       " Min.   : 5.367  \n",
       " 1st Qu.:17.413  \n",
       " Median :21.754  \n",
       " Mean   :22.470  \n",
       " 3rd Qu.:27.560  \n",
       " Max.   :45.017  \n",
       "                 "
      ]
     },
     "metadata": {},
     "output_type": "display_data"
    }
   ],
   "source": [
    "summary(mf)"
   ]
  },
  {
   "cell_type": "markdown",
   "metadata": {},
   "source": [
    "#### categorical variables"
   ]
  },
  {
   "cell_type": "code",
   "execution_count": 5,
   "metadata": {},
   "outputs": [
    {
     "data": {
      "text/plain": [
       "\n",
       "Call:\n",
       "adonis(formula = distance ~ GIERACE, data = mf) \n",
       "\n",
       "Permutation: free\n",
       "Number of permutations: 999\n",
       "\n",
       "Terms added sequentially (first to last)\n",
       "\n",
       "           Df SumsOfSqs MeanSqs F.Model      R2 Pr(>F)    \n",
       "GIERACE     4     1.411 0.35275  1.6981 0.01132  0.001 ***\n",
       "Residuals 593   123.184 0.20773         0.98868           \n",
       "Total     597   124.595                 1.00000           \n",
       "---\n",
       "Signif. codes:  0 ‘***’ 0.001 ‘**’ 0.01 ‘*’ 0.05 ‘.’ 0.1 ‘ ’ 1"
      ]
     },
     "metadata": {},
     "output_type": "display_data"
    },
    {
     "data": {
      "text/html": [
       "0.001"
      ],
      "text/latex": [
       "0.001"
      ],
      "text/markdown": [
       "0.001"
      ],
      "text/plain": [
       "[1] 0.001"
      ]
     },
     "metadata": {},
     "output_type": "display_data"
    }
   ],
   "source": [
    "# GIERACE\n",
    "set.seed(3120)\n",
    "(GIERACE = adonis(distance ~ GIERACE, data=mf))\n",
    "(GIERACE.pval = GIERACE$aov.tab$P[1])"
   ]
  },
  {
   "cell_type": "code",
   "execution_count": 6,
   "metadata": {},
   "outputs": [
    {
     "data": {
      "text/plain": [
       "\n",
       "Call:\n",
       "adonis(formula = distance ~ SITE, data = mf) \n",
       "\n",
       "Permutation: free\n",
       "Number of permutations: 999\n",
       "\n",
       "Terms added sequentially (first to last)\n",
       "\n",
       "           Df SumsOfSqs MeanSqs F.Model      R2 Pr(>F)    \n",
       "SITE        5     1.587 0.31732  1.5271 0.01273  0.001 ***\n",
       "Residuals 592   123.008 0.20778         0.98727           \n",
       "Total     597   124.595                 1.00000           \n",
       "---\n",
       "Signif. codes:  0 ‘***’ 0.001 ‘**’ 0.01 ‘*’ 0.05 ‘.’ 0.1 ‘ ’ 1"
      ]
     },
     "metadata": {},
     "output_type": "display_data"
    },
    {
     "data": {
      "text/html": [
       "0.001"
      ],
      "text/latex": [
       "0.001"
      ],
      "text/markdown": [
       "0.001"
      ],
      "text/plain": [
       "[1] 0.001"
      ]
     },
     "metadata": {},
     "output_type": "display_data"
    }
   ],
   "source": [
    "# SITE\n",
    "set.seed(3120)\n",
    "(SITE = adonis(distance ~ SITE, data=mf))\n",
    "(SITE.pval = SITE$aov.tab$P[1])"
   ]
  },
  {
   "cell_type": "code",
   "execution_count": 7,
   "metadata": {},
   "outputs": [
    {
     "data": {
      "text/plain": [
       "\n",
       "Call:\n",
       "adonis(formula = distance ~ TUDRAMT, data = mf) \n",
       "\n",
       "Permutation: free\n",
       "Number of permutations: 999\n",
       "\n",
       "Terms added sequentially (first to last)\n",
       "\n",
       "           Df SumsOfSqs MeanSqs F.Model      R2 Pr(>F)  \n",
       "TUDRAMT     6     1.447 0.24119  1.1575 0.01161  0.019 *\n",
       "Residuals 591   123.148 0.20837         0.98839         \n",
       "Total     597   124.595                 1.00000         \n",
       "---\n",
       "Signif. codes:  0 ‘***’ 0.001 ‘**’ 0.01 ‘*’ 0.05 ‘.’ 0.1 ‘ ’ 1"
      ]
     },
     "metadata": {},
     "output_type": "display_data"
    },
    {
     "data": {
      "text/html": [
       "0.019"
      ],
      "text/latex": [
       "0.019"
      ],
      "text/markdown": [
       "0.019"
      ],
      "text/plain": [
       "[1] 0.019"
      ]
     },
     "metadata": {},
     "output_type": "display_data"
    }
   ],
   "source": [
    "# TUDRAMT\n",
    "set.seed(3120)\n",
    "(TUDRAMT = adonis(distance ~ TUDRAMT, data=mf))\n",
    "(TUDRAMT.pval = TUDRAMT$aov.tab$P[1])"
   ]
  },
  {
   "cell_type": "code",
   "execution_count": 8,
   "metadata": {},
   "outputs": [
    {
     "data": {
      "text/plain": [
       "\n",
       "Call:\n",
       "adonis(formula = distance ~ TURSMOKE, data = mf) \n",
       "\n",
       "Permutation: free\n",
       "Number of permutations: 999\n",
       "\n",
       "Terms added sequentially (first to last)\n",
       "\n",
       "           Df SumsOfSqs MeanSqs F.Model      R2 Pr(>F)\n",
       "TURSMOKE    3     0.676 0.22529  1.0799 0.00542  0.187\n",
       "Residuals 594   123.919 0.20862         0.99458       \n",
       "Total     597   124.595                 1.00000       "
      ]
     },
     "metadata": {},
     "output_type": "display_data"
    },
    {
     "data": {
      "text/html": [
       "0.187"
      ],
      "text/latex": [
       "0.187"
      ],
      "text/markdown": [
       "0.187"
      ],
      "text/plain": [
       "[1] 0.187"
      ]
     },
     "metadata": {},
     "output_type": "display_data"
    }
   ],
   "source": [
    "# TURSMOKE\n",
    "set.seed(3120)\n",
    "(TURSMOKE = adonis(distance ~ TURSMOKE, data=mf))\n",
    "(TURSMOKE.pval = TURSMOKE$aov.tab$P[1])"
   ]
  },
  {
   "cell_type": "code",
   "execution_count": 9,
   "metadata": {},
   "outputs": [
    {
     "data": {
      "text/plain": [
       "\n",
       "Call:\n",
       "adonis(formula = distance ~ M1ADEPR, data = mf) \n",
       "\n",
       "Permutation: free\n",
       "Number of permutations: 999\n",
       "\n",
       "Terms added sequentially (first to last)\n",
       "\n",
       "           Df SumsOfSqs MeanSqs F.Model      R2 Pr(>F)   \n",
       "M1ADEPR     1     0.417 0.41701  2.0015 0.00335  0.002 **\n",
       "Residuals 596   124.178 0.20835         0.99665          \n",
       "Total     597   124.595                 1.00000          \n",
       "---\n",
       "Signif. codes:  0 ‘***’ 0.001 ‘**’ 0.01 ‘*’ 0.05 ‘.’ 0.1 ‘ ’ 1"
      ]
     },
     "metadata": {},
     "output_type": "display_data"
    },
    {
     "data": {
      "text/html": [
       "0.002"
      ],
      "text/latex": [
       "0.002"
      ],
      "text/markdown": [
       "0.002"
      ],
      "text/plain": [
       "[1] 0.002"
      ]
     },
     "metadata": {},
     "output_type": "display_data"
    }
   ],
   "source": [
    "# M1ADEPR\n",
    "set.seed(3120)\n",
    "(M1ADEPR = adonis(distance ~ M1ADEPR, data=mf))\n",
    "(M1ADEPR.pval = M1ADEPR$aov.tab$P[1])"
   ]
  },
  {
   "cell_type": "code",
   "execution_count": 10,
   "metadata": {},
   "outputs": [
    {
     "data": {
      "text/plain": [
       "\n",
       "Call:\n",
       "adonis(formula = distance ~ M1VITMND, data = mf) \n",
       "\n",
       "Permutation: free\n",
       "Number of permutations: 999\n",
       "\n",
       "Terms added sequentially (first to last)\n",
       "\n",
       "           Df SumsOfSqs MeanSqs F.Model      R2 Pr(>F)\n",
       "M1VITMND    1     0.198 0.19787 0.94801 0.00159  0.545\n",
       "Residuals 596   124.397 0.20872         0.99841       \n",
       "Total     597   124.595                 1.00000       "
      ]
     },
     "metadata": {},
     "output_type": "display_data"
    },
    {
     "data": {
      "text/html": [
       "0.545"
      ],
      "text/latex": [
       "0.545"
      ],
      "text/markdown": [
       "0.545"
      ],
      "text/plain": [
       "[1] 0.545"
      ]
     },
     "metadata": {},
     "output_type": "display_data"
    }
   ],
   "source": [
    "# M1VITMND\n",
    "set.seed(3120)\n",
    "(M1VITMND = adonis(distance ~ M1VITMND, data=mf))\n",
    "(M1VITMND.pval = M1VITMND$aov.tab$P[1])"
   ]
  },
  {
   "cell_type": "code",
   "execution_count": 11,
   "metadata": {},
   "outputs": [
    {
     "data": {
      "text/plain": [
       "\n",
       "Call:\n",
       "adonis(formula = distance ~ M1ANTIB, data = mf) \n",
       "\n",
       "Permutation: free\n",
       "Number of permutations: 999\n",
       "\n",
       "Terms added sequentially (first to last)\n",
       "\n",
       "           Df SumsOfSqs MeanSqs F.Model      R2 Pr(>F)   \n",
       "M1ANTIB     1     0.406 0.40616  1.9492 0.00326  0.002 **\n",
       "Residuals 596   124.189 0.20837         0.99674          \n",
       "Total     597   124.595                 1.00000          \n",
       "---\n",
       "Signif. codes:  0 ‘***’ 0.001 ‘**’ 0.01 ‘*’ 0.05 ‘.’ 0.1 ‘ ’ 1"
      ]
     },
     "metadata": {},
     "output_type": "display_data"
    },
    {
     "data": {
      "text/html": [
       "0.002"
      ],
      "text/latex": [
       "0.002"
      ],
      "text/markdown": [
       "0.002"
      ],
      "text/plain": [
       "[1] 0.002"
      ]
     },
     "metadata": {},
     "output_type": "display_data"
    }
   ],
   "source": [
    "# M1ANTIB\n",
    "set.seed(3120)\n",
    "(M1ANTIB = adonis(distance ~ M1ANTIB, data=mf))\n",
    "(M1ANTIB.pval = M1ANTIB$aov.tab$P[1])"
   ]
  },
  {
   "cell_type": "code",
   "execution_count": 12,
   "metadata": {},
   "outputs": [
    {
     "data": {
      "text/plain": [
       "\n",
       "Call:\n",
       "adonis(formula = distance ~ M1PROBI, data = mf) \n",
       "\n",
       "Permutation: free\n",
       "Number of permutations: 999\n",
       "\n",
       "Terms added sequentially (first to last)\n",
       "\n",
       "           Df SumsOfSqs MeanSqs F.Model      R2 Pr(>F)\n",
       "M1PROBI     1     0.208 0.20754  0.9944 0.00167  0.406\n",
       "Residuals 596   124.387 0.20870         0.99833       \n",
       "Total     597   124.595                 1.00000       "
      ]
     },
     "metadata": {},
     "output_type": "display_data"
    },
    {
     "data": {
      "text/html": [
       "0.406"
      ],
      "text/latex": [
       "0.406"
      ],
      "text/markdown": [
       "0.406"
      ],
      "text/plain": [
       "[1] 0.406"
      ]
     },
     "metadata": {},
     "output_type": "display_data"
    }
   ],
   "source": [
    "# M1PROBI\n",
    "set.seed(3120)\n",
    "(M1PROBI = adonis(distance ~ M1PROBI, data=mf))\n",
    "(M1PROBI.pval = M1PROBI$aov.tab$P[1])"
   ]
  },
  {
   "cell_type": "code",
   "execution_count": 13,
   "metadata": {},
   "outputs": [
    {
     "data": {
      "text/plain": [
       "\n",
       "Call:\n",
       "adonis(formula = distance ~ OHSEAS, data = mf) \n",
       "\n",
       "Permutation: free\n",
       "Number of permutations: 999\n",
       "\n",
       "Terms added sequentially (first to last)\n",
       "\n",
       "           Df SumsOfSqs MeanSqs F.Model     R2 Pr(>F)  \n",
       "OHSEAS      4     0.959 0.23971  1.1497 0.0077  0.069 .\n",
       "Residuals 593   123.636 0.20849         0.9923         \n",
       "Total     597   124.595                 1.0000         \n",
       "---\n",
       "Signif. codes:  0 ‘***’ 0.001 ‘**’ 0.01 ‘*’ 0.05 ‘.’ 0.1 ‘ ’ 1"
      ]
     },
     "metadata": {},
     "output_type": "display_data"
    },
    {
     "data": {
      "text/html": [
       "0.069"
      ],
      "text/latex": [
       "0.069"
      ],
      "text/markdown": [
       "0.069"
      ],
      "text/plain": [
       "[1] 0.069"
      ]
     },
     "metadata": {},
     "output_type": "display_data"
    }
   ],
   "source": [
    "# OHSEAS\n",
    "set.seed(3120)\n",
    "(OHSEAS = adonis(distance ~ OHSEAS, data=mf))\n",
    "(OHSEAS.pval = OHSEAS$aov.tab$P[1])"
   ]
  },
  {
   "cell_type": "code",
   "execution_count": 14,
   "metadata": {},
   "outputs": [
    {
     "data": {
      "text/plain": [
       "\n",
       "Call:\n",
       "adonis(formula = distance ~ QLCOMP, data = mf) \n",
       "\n",
       "Permutation: free\n",
       "Number of permutations: 999\n",
       "\n",
       "Terms added sequentially (first to last)\n",
       "\n",
       "           Df SumsOfSqs MeanSqs F.Model      R2 Pr(>F)  \n",
       "QLCOMP      1     0.257 0.25701   1.232 0.00206   0.09 .\n",
       "Residuals 596   124.338 0.20862         0.99794         \n",
       "Total     597   124.595                 1.00000         \n",
       "---\n",
       "Signif. codes:  0 ‘***’ 0.001 ‘**’ 0.01 ‘*’ 0.05 ‘.’ 0.1 ‘ ’ 1"
      ]
     },
     "metadata": {},
     "output_type": "display_data"
    },
    {
     "data": {
      "text/html": [
       "0.09"
      ],
      "text/latex": [
       "0.09"
      ],
      "text/markdown": [
       "0.09"
      ],
      "text/plain": [
       "[1] 0.09"
      ]
     },
     "metadata": {},
     "output_type": "display_data"
    }
   ],
   "source": [
    "# QLCOMP\n",
    "set.seed(3120)\n",
    "(QLCOMP = adonis(distance ~ QLCOMP, data=mf))\n",
    "(QLCOMP.pval = QLCOMP$aov.tab$P[1])"
   ]
  },
  {
   "cell_type": "code",
   "execution_count": 15,
   "metadata": {},
   "outputs": [
    {
     "data": {
      "text/plain": [
       "\n",
       "Call:\n",
       "adonis(formula = distance ~ VDstatus, data = mf) \n",
       "\n",
       "Permutation: free\n",
       "Number of permutations: 999\n",
       "\n",
       "Terms added sequentially (first to last)\n",
       "\n",
       "           Df SumsOfSqs MeanSqs F.Model      R2 Pr(>F)\n",
       "VDstatus    3     0.618 0.20585 0.98624 0.00496  0.461\n",
       "Residuals 594   123.977 0.20872         0.99504       \n",
       "Total     597   124.595                 1.00000       "
      ]
     },
     "metadata": {},
     "output_type": "display_data"
    },
    {
     "data": {
      "text/html": [
       "0.461"
      ],
      "text/latex": [
       "0.461"
      ],
      "text/markdown": [
       "0.461"
      ],
      "text/plain": [
       "[1] 0.461"
      ]
     },
     "metadata": {},
     "output_type": "display_data"
    }
   ],
   "source": [
    "# VDstatus\n",
    "set.seed(3120)\n",
    "(VDstatus = adonis(distance ~ VDstatus, data=mf))\n",
    "(VDstatus.pval = VDstatus$aov.tab$P[1])"
   ]
  },
  {
   "cell_type": "code",
   "execution_count": 16,
   "metadata": {},
   "outputs": [
    {
     "data": {
      "text/plain": [
       "\n",
       "Call:\n",
       "adonis(formula = distance ~ M1STATIN, data = mf) \n",
       "\n",
       "Permutation: free\n",
       "Number of permutations: 999\n",
       "\n",
       "Terms added sequentially (first to last)\n",
       "\n",
       "           Df SumsOfSqs MeanSqs F.Model      R2 Pr(>F)   \n",
       "M1STATIN    1     0.346 0.34644  1.6618 0.00278  0.006 **\n",
       "Residuals 596   124.248 0.20847         0.99722          \n",
       "Total     597   124.595                 1.00000          \n",
       "---\n",
       "Signif. codes:  0 ‘***’ 0.001 ‘**’ 0.01 ‘*’ 0.05 ‘.’ 0.1 ‘ ’ 1"
      ]
     },
     "metadata": {},
     "output_type": "display_data"
    },
    {
     "data": {
      "text/html": [
       "0.006"
      ],
      "text/latex": [
       "0.006"
      ],
      "text/markdown": [
       "0.006"
      ],
      "text/plain": [
       "[1] 0.006"
      ]
     },
     "metadata": {},
     "output_type": "display_data"
    }
   ],
   "source": [
    "# M1STATIN\n",
    "set.seed(3120)\n",
    "(M1STATIN = adonis(distance ~ M1STATIN, data=mf))\n",
    "(M1STATIN.pval = M1STATIN$aov.tab$P[1])"
   ]
  },
  {
   "cell_type": "code",
   "execution_count": 17,
   "metadata": {},
   "outputs": [
    {
     "data": {
      "text/plain": [
       "\n",
       "Call:\n",
       "adonis(formula = distance ~ Antihistamine, data = mf) \n",
       "\n",
       "Permutation: free\n",
       "Number of permutations: 999\n",
       "\n",
       "Terms added sequentially (first to last)\n",
       "\n",
       "               Df SumsOfSqs MeanSqs F.Model      R2 Pr(>F)\n",
       "Antihistamine   1     0.197 0.19709 0.94427 0.00158  0.537\n",
       "Residuals     596   124.398 0.20872         0.99842       \n",
       "Total         597   124.595                 1.00000       "
      ]
     },
     "metadata": {},
     "output_type": "display_data"
    },
    {
     "data": {
      "text/html": [
       "0.537"
      ],
      "text/latex": [
       "0.537"
      ],
      "text/markdown": [
       "0.537"
      ],
      "text/plain": [
       "[1] 0.537"
      ]
     },
     "metadata": {},
     "output_type": "display_data"
    }
   ],
   "source": [
    "# Antihistamine\n",
    "set.seed(3120)\n",
    "(Antihistamine = adonis(distance ~ Antihistamine, data=mf))\n",
    "(Antihistamine.pval = Antihistamine$aov.tab$P[1])"
   ]
  },
  {
   "cell_type": "code",
   "execution_count": 18,
   "metadata": {},
   "outputs": [
    {
     "data": {
      "text/plain": [
       "\n",
       "Call:\n",
       "adonis(formula = distance ~ Laxative, data = mf) \n",
       "\n",
       "Permutation: free\n",
       "Number of permutations: 999\n",
       "\n",
       "Terms added sequentially (first to last)\n",
       "\n",
       "           Df SumsOfSqs MeanSqs F.Model      R2 Pr(>F)\n",
       "Laxative    1     0.238 0.23811  1.1412 0.00191  0.154\n",
       "Residuals 596   124.357 0.20865         0.99809       \n",
       "Total     597   124.595                 1.00000       "
      ]
     },
     "metadata": {},
     "output_type": "display_data"
    },
    {
     "data": {
      "text/html": [
       "0.154"
      ],
      "text/latex": [
       "0.154"
      ],
      "text/markdown": [
       "0.154"
      ],
      "text/plain": [
       "[1] 0.154"
      ]
     },
     "metadata": {},
     "output_type": "display_data"
    }
   ],
   "source": [
    "# Laxative\n",
    "set.seed(3120)\n",
    "(Laxative = adonis(distance ~ Laxative, data=mf))\n",
    "(Laxative.pval = Laxative$aov.tab$P[1])"
   ]
  },
  {
   "cell_type": "code",
   "execution_count": 19,
   "metadata": {},
   "outputs": [
    {
     "data": {
      "text/plain": [
       "\n",
       "Call:\n",
       "adonis(formula = distance ~ M1PPUMP, data = mf) \n",
       "\n",
       "Permutation: free\n",
       "Number of permutations: 999\n",
       "\n",
       "Terms added sequentially (first to last)\n",
       "\n",
       "           Df SumsOfSqs MeanSqs F.Model      R2 Pr(>F)  \n",
       "M1PPUMP     1      0.34 0.34038  1.6327 0.00273  0.013 *\n",
       "Residuals 596    124.25 0.20848         0.99727         \n",
       "Total     597    124.59                 1.00000         \n",
       "---\n",
       "Signif. codes:  0 ‘***’ 0.001 ‘**’ 0.01 ‘*’ 0.05 ‘.’ 0.1 ‘ ’ 1"
      ]
     },
     "metadata": {},
     "output_type": "display_data"
    },
    {
     "data": {
      "text/html": [
       "0.013"
      ],
      "text/latex": [
       "0.013"
      ],
      "text/markdown": [
       "0.013"
      ],
      "text/plain": [
       "[1] 0.013"
      ]
     },
     "metadata": {},
     "output_type": "display_data"
    }
   ],
   "source": [
    "# M1PPUMP\n",
    "set.seed(3120)\n",
    "(M1PPUMP = adonis(distance ~ M1PPUMP, data=mf))\n",
    "(M1PPUMP.pval = M1PPUMP$aov.tab$P[1])"
   ]
  },
  {
   "cell_type": "markdown",
   "metadata": {},
   "source": [
    "#### Continuous variables"
   ]
  },
  {
   "cell_type": "code",
   "execution_count": 20,
   "metadata": {},
   "outputs": [
    {
     "data": {
      "text/plain": [
       "\n",
       "Call:\n",
       "adonis(formula = distance ~ Age, data = mf) \n",
       "\n",
       "Permutation: free\n",
       "Number of permutations: 999\n",
       "\n",
       "Terms added sequentially (first to last)\n",
       "\n",
       "           Df SumsOfSqs MeanSqs F.Model      R2 Pr(>F)  \n",
       "Age         1     0.298 0.29809  1.4293 0.00239  0.034 *\n",
       "Residuals 596   124.297 0.20855         0.99761         \n",
       "Total     597   124.595                 1.00000         \n",
       "---\n",
       "Signif. codes:  0 ‘***’ 0.001 ‘**’ 0.01 ‘*’ 0.05 ‘.’ 0.1 ‘ ’ 1"
      ]
     },
     "metadata": {},
     "output_type": "display_data"
    },
    {
     "data": {
      "text/html": [
       "0.034"
      ],
      "text/latex": [
       "0.034"
      ],
      "text/markdown": [
       "0.034"
      ],
      "text/plain": [
       "[1] 0.034"
      ]
     },
     "metadata": {},
     "output_type": "display_data"
    }
   ],
   "source": [
    "# Age\n",
    "set.seed(3120)\n",
    "(Age = adonis(distance ~ Age, data=mf))\n",
    "(Age.pval = Age$aov.tab$P[1])"
   ]
  },
  {
   "cell_type": "code",
   "execution_count": 21,
   "metadata": {},
   "outputs": [
    {
     "data": {
      "text/plain": [
       "\n",
       "Call:\n",
       "adonis(formula = distance ~ BMI, data = mf) \n",
       "\n",
       "Permutation: free\n",
       "Number of permutations: 999\n",
       "\n",
       "Terms added sequentially (first to last)\n",
       "\n",
       "           Df SumsOfSqs MeanSqs F.Model      R2 Pr(>F)  \n",
       "BMI         1     0.295 0.29525  1.4157 0.00237  0.036 *\n",
       "Residuals 596   124.300 0.20856         0.99763         \n",
       "Total     597   124.595                 1.00000         \n",
       "---\n",
       "Signif. codes:  0 ‘***’ 0.001 ‘**’ 0.01 ‘*’ 0.05 ‘.’ 0.1 ‘ ’ 1"
      ]
     },
     "metadata": {},
     "output_type": "display_data"
    },
    {
     "data": {
      "text/html": [
       "0.036"
      ],
      "text/latex": [
       "0.036"
      ],
      "text/markdown": [
       "0.036"
      ],
      "text/plain": [
       "[1] 0.036"
      ]
     },
     "metadata": {},
     "output_type": "display_data"
    }
   ],
   "source": [
    "# BMI\n",
    "set.seed(3120)\n",
    "(BMI = adonis(distance ~ BMI, data=mf))\n",
    "(BMI.pval = BMI$aov.tab$P[1])"
   ]
  },
  {
   "cell_type": "code",
   "execution_count": 22,
   "metadata": {},
   "outputs": [
    {
     "data": {
      "text/plain": [
       "\n",
       "Call:\n",
       "adonis(formula = distance ~ PASCORE, data = mf) \n",
       "\n",
       "Permutation: free\n",
       "Number of permutations: 999\n",
       "\n",
       "Terms added sequentially (first to last)\n",
       "\n",
       "           Df SumsOfSqs MeanSqs F.Model      R2 Pr(>F)   \n",
       "PASCORE     1     0.355 0.35492  1.7026 0.00285  0.006 **\n",
       "Residuals 596   124.240 0.20846         0.99715          \n",
       "Total     597   124.595                 1.00000          \n",
       "---\n",
       "Signif. codes:  0 ‘***’ 0.001 ‘**’ 0.01 ‘*’ 0.05 ‘.’ 0.1 ‘ ’ 1"
      ]
     },
     "metadata": {},
     "output_type": "display_data"
    },
    {
     "data": {
      "text/html": [
       "0.006"
      ],
      "text/latex": [
       "0.006"
      ],
      "text/markdown": [
       "0.006"
      ],
      "text/plain": [
       "[1] 0.006"
      ]
     },
     "metadata": {},
     "output_type": "display_data"
    }
   ],
   "source": [
    "# PASCORE\n",
    "set.seed(3120)\n",
    "(PASCORE = adonis(distance ~ PASCORE, data=mf))\n",
    "(PASCORE.pval = PASCORE$aov.tab$P[1])"
   ]
  },
  {
   "cell_type": "code",
   "execution_count": 25,
   "metadata": {},
   "outputs": [
    {
     "data": {
      "text/plain": [
       "\n",
       "Call:\n",
       "adonis(formula = dist_Rstarch_total ~ Rstarch_total, data = mf_Rstarch_total) \n",
       "\n",
       "Permutation: free\n",
       "Number of permutations: 999\n",
       "\n",
       "Terms added sequentially (first to last)\n",
       "\n",
       "               Df SumsOfSqs MeanSqs F.Model      R2 Pr(>F)    \n",
       "Rstarch_total   1     0.457 0.45742  2.1968 0.00377  0.001 ***\n",
       "Residuals     581   120.979 0.20823         0.99623           \n",
       "Total         582   121.436                 1.00000           \n",
       "---\n",
       "Signif. codes:  0 ‘***’ 0.001 ‘**’ 0.01 ‘*’ 0.05 ‘.’ 0.1 ‘ ’ 1"
      ]
     },
     "metadata": {},
     "output_type": "display_data"
    },
    {
     "data": {
      "text/html": [
       "0.001"
      ],
      "text/latex": [
       "0.001"
      ],
      "text/markdown": [
       "0.001"
      ],
      "text/plain": [
       "[1] 0.001"
      ]
     },
     "metadata": {},
     "output_type": "display_data"
    }
   ],
   "source": [
    "# Rstarch_total\n",
    "set.seed(3120)\n",
    "ind_Rstarch_total <- which(is.na(mf$Rstarch_total))\n",
    "dist_Rstarch_total <- distance[-ind_Rstarch_total, ]\n",
    "dist_Rstarch_total <- dist_Rstarch_total[, -ind_Rstarch_total]\n",
    "mf_Rstarch_total <- mf[!is.na(mf$Rstarch_total), ]\n",
    "(Rstarch_total  <- adonis(dist_Rstarch_total~Rstarch_total, data = mf_Rstarch_total))\n",
    "(Rstarch_total.pval = Rstarch_total$aov.tab$P[1])"
   ]
  },
  {
   "cell_type": "code",
   "execution_count": 26,
   "metadata": {},
   "outputs": [
    {
     "data": {
      "text/plain": [
       "\n",
       "Call:\n",
       "adonis(formula = dist_OHV1D3 ~ OHV1D3, data = mf_OHV1D3) \n",
       "\n",
       "Permutation: free\n",
       "Number of permutations: 999\n",
       "\n",
       "Terms added sequentially (first to last)\n",
       "\n",
       "           Df SumsOfSqs MeanSqs F.Model      R2 Pr(>F)    \n",
       "OHV1D3      1     0.879 0.87922  4.2484 0.00748  0.001 ***\n",
       "Residuals 564   116.722 0.20695         0.99252           \n",
       "Total     565   117.601                 1.00000           \n",
       "---\n",
       "Signif. codes:  0 ‘***’ 0.001 ‘**’ 0.01 ‘*’ 0.05 ‘.’ 0.1 ‘ ’ 1"
      ]
     },
     "metadata": {},
     "output_type": "display_data"
    },
    {
     "data": {
      "text/html": [
       "0.001"
      ],
      "text/latex": [
       "0.001"
      ],
      "text/markdown": [
       "0.001"
      ],
      "text/plain": [
       "[1] 0.001"
      ]
     },
     "metadata": {},
     "output_type": "display_data"
    }
   ],
   "source": [
    "# OHV1D3\n",
    "set.seed(3120)\n",
    "ind_OHV1D3 <- which(is.na(mf$OHV1D3))\n",
    "dist_OHV1D3 <- distance[-ind_OHV1D3, ]\n",
    "dist_OHV1D3 <- dist_OHV1D3[, -ind_OHV1D3]\n",
    "mf_OHV1D3 <- mf[!is.na(mf$OHV1D3), ]\n",
    "(OHV1D3  <- adonis(dist_OHV1D3~OHV1D3, data = mf_OHV1D3))\n",
    "(OHV1D3.pval = OHV1D3$aov.tab$P[1])"
   ]
  },
  {
   "cell_type": "code",
   "execution_count": 27,
   "metadata": {},
   "outputs": [
    {
     "data": {
      "text/plain": [
       "\n",
       "Call:\n",
       "adonis(formula = dist_OHVD3 ~ OHVD3, data = mf_OHVD3) \n",
       "\n",
       "Permutation: free\n",
       "Number of permutations: 999\n",
       "\n",
       "Terms added sequentially (first to last)\n",
       "\n",
       "           Df SumsOfSqs MeanSqs F.Model      R2 Pr(>F)\n",
       "OHVD3       1      0.22 0.22015  1.0572 0.00191  0.264\n",
       "Residuals 553    115.15 0.20823         0.99809       \n",
       "Total     554    115.37                 1.00000       "
      ]
     },
     "metadata": {},
     "output_type": "display_data"
    },
    {
     "data": {
      "text/html": [
       "0.264"
      ],
      "text/latex": [
       "0.264"
      ],
      "text/markdown": [
       "0.264"
      ],
      "text/plain": [
       "[1] 0.264"
      ]
     },
     "metadata": {},
     "output_type": "display_data"
    }
   ],
   "source": [
    "# OHVD3\n",
    "set.seed(3120)\n",
    "ind_OHVD3 <- which(is.na(mf$OHVD3))\n",
    "dist_OHVD3 <- distance[-ind_OHVD3, ]\n",
    "dist_OHVD3 <- dist_OHVD3[, -ind_OHVD3]\n",
    "mf_OHVD3 <- mf[!is.na(mf$OHVD3), ]\n",
    "(OHVD3  <- adonis(dist_OHVD3~OHVD3, data = mf_OHVD3))\n",
    "(OHVD3.pval = OHVD3$aov.tab$P[1])"
   ]
  },
  {
   "cell_type": "code",
   "execution_count": 28,
   "metadata": {},
   "outputs": [
    {
     "data": {
      "text/plain": [
       "\n",
       "Call:\n",
       "adonis(formula = dist_OHV24D3 ~ OHV24D3, data = mf_OHV24D3) \n",
       "\n",
       "Permutation: free\n",
       "Number of permutations: 999\n",
       "\n",
       "Terms added sequentially (first to last)\n",
       "\n",
       "           Df SumsOfSqs MeanSqs F.Model     R2 Pr(>F)   \n",
       "OHV24D3     1     0.435 0.43483  2.0931 0.0037  0.004 **\n",
       "Residuals 564   117.166 0.20774         0.9963          \n",
       "Total     565   117.601                 1.0000          \n",
       "---\n",
       "Signif. codes:  0 ‘***’ 0.001 ‘**’ 0.01 ‘*’ 0.05 ‘.’ 0.1 ‘ ’ 1"
      ]
     },
     "metadata": {},
     "output_type": "display_data"
    },
    {
     "data": {
      "text/html": [
       "0.004"
      ],
      "text/latex": [
       "0.004"
      ],
      "text/markdown": [
       "0.004"
      ],
      "text/plain": [
       "[1] 0.004"
      ]
     },
     "metadata": {},
     "output_type": "display_data"
    }
   ],
   "source": [
    "# OHV24D3\n",
    "set.seed(3120)\n",
    "ind_OHV24D3 <- which(is.na(mf$OHV24D3))\n",
    "dist_OHV24D3 <- distance[-ind_OHV24D3, ]\n",
    "dist_OHV24D3 <- dist_OHV24D3[, -ind_OHV24D3]\n",
    "mf_OHV24D3 <- mf[!is.na(mf$OHV24D3), ]\n",
    "(OHV24D3  <- adonis(dist_OHV24D3~OHV24D3, data = mf_OHV24D3))\n",
    "(OHV24D3.pval = OHV24D3$aov.tab$P[1])"
   ]
  },
  {
   "cell_type": "code",
   "execution_count": 29,
   "metadata": {},
   "outputs": [
    {
     "data": {
      "text/plain": [
       "\n",
       "Call:\n",
       "adonis(formula = dist_ratio_activation ~ ratio_activation, data = mf_ratio_activation) \n",
       "\n",
       "Permutation: free\n",
       "Number of permutations: 999\n",
       "\n",
       "Terms added sequentially (first to last)\n",
       "\n",
       "                  Df SumsOfSqs MeanSqs F.Model      R2 Pr(>F)    \n",
       "ratio_activation   1     0.584 0.58440  2.8154 0.00507  0.001 ***\n",
       "Residuals        553   114.787 0.20757         0.99493           \n",
       "Total            554   115.371                 1.00000           \n",
       "---\n",
       "Signif. codes:  0 ‘***’ 0.001 ‘**’ 0.01 ‘*’ 0.05 ‘.’ 0.1 ‘ ’ 1"
      ]
     },
     "metadata": {},
     "output_type": "display_data"
    },
    {
     "data": {
      "text/html": [
       "0.001"
      ],
      "text/latex": [
       "0.001"
      ],
      "text/markdown": [
       "0.001"
      ],
      "text/plain": [
       "[1] 0.001"
      ]
     },
     "metadata": {},
     "output_type": "display_data"
    }
   ],
   "source": [
    "# ratio_activation\n",
    "set.seed(3120)\n",
    "ind_ratio_activation <- which(is.na(mf$ratio_activation))\n",
    "dist_ratio_activation <- distance[-ind_ratio_activation, ]\n",
    "dist_ratio_activation <- dist_ratio_activation[, -ind_ratio_activation]\n",
    "mf_ratio_activation <- mf[!is.na(mf$ratio_activation), ]\n",
    "(ratio_activation  <- adonis(dist_ratio_activation~ratio_activation, data = mf_ratio_activation))\n",
    "(ratio_activation.pval = ratio_activation$aov.tab$P[1])"
   ]
  },
  {
   "cell_type": "code",
   "execution_count": 30,
   "metadata": {},
   "outputs": [
    {
     "data": {
      "text/plain": [
       "\n",
       "Call:\n",
       "adonis(formula = dist_ratio_catabolism ~ ratio_catabolism, data = mf_ratio_catabolism) \n",
       "\n",
       "Permutation: free\n",
       "Number of permutations: 999\n",
       "\n",
       "Terms added sequentially (first to last)\n",
       "\n",
       "                  Df SumsOfSqs MeanSqs F.Model      R2 Pr(>F)    \n",
       "ratio_catabolism   1     0.583 0.58281  2.8077 0.00505  0.001 ***\n",
       "Residuals        553   114.788 0.20757         0.99495           \n",
       "Total            554   115.371                 1.00000           \n",
       "---\n",
       "Signif. codes:  0 ‘***’ 0.001 ‘**’ 0.01 ‘*’ 0.05 ‘.’ 0.1 ‘ ’ 1"
      ]
     },
     "metadata": {},
     "output_type": "display_data"
    },
    {
     "data": {
      "text/html": [
       "0.001"
      ],
      "text/latex": [
       "0.001"
      ],
      "text/markdown": [
       "0.001"
      ],
      "text/plain": [
       "[1] 0.001"
      ]
     },
     "metadata": {},
     "output_type": "display_data"
    }
   ],
   "source": [
    "# ratio_catabolism\n",
    "set.seed(3120)\n",
    "ind_ratio_catabolism <- which(is.na(mf$ratio_catabolism))\n",
    "dist_ratio_catabolism <- distance[-ind_ratio_catabolism, ]\n",
    "dist_ratio_catabolism <- dist_ratio_catabolism[, -ind_ratio_catabolism]\n",
    "mf_ratio_catabolism <- mf[!is.na(mf$ratio_catabolism), ]\n",
    "(ratio_catabolism  <- adonis(dist_ratio_catabolism~ratio_catabolism, data = mf_ratio_catabolism))\n",
    "(ratio_catabolism.pval = ratio_catabolism$aov.tab$P[1])"
   ]
  },
  {
   "cell_type": "markdown",
   "metadata": {},
   "source": [
    "#### output results"
   ]
  },
  {
   "cell_type": "code",
   "execution_count": 31,
   "metadata": {},
   "outputs": [
    {
     "data": {
      "text/html": [
       "<table>\n",
       "<thead><tr><th></th><th scope=col>name</th><th scope=col>pval</th><th scope=col>qval</th></tr></thead>\n",
       "<tbody>\n",
       "\t<tr><th scope=row>1</th><td>GIERACE         </td><td>0.001           </td><td>0.0040          </td></tr>\n",
       "\t<tr><th scope=row>2</th><td>SITE            </td><td>0.001           </td><td>0.0040          </td></tr>\n",
       "\t<tr><th scope=row>19</th><td>Rstarch_total   </td><td>0.001           </td><td>0.0040          </td></tr>\n",
       "\t<tr><th scope=row>20</th><td>OHV1D3          </td><td>0.001           </td><td>0.0040          </td></tr>\n",
       "\t<tr><th scope=row>23</th><td>ratio_activation</td><td>0.001           </td><td>0.0040          </td></tr>\n",
       "\t<tr><th scope=row>24</th><td>ratio_catabolism</td><td>0.001           </td><td>0.0040          </td></tr>\n",
       "\t<tr><th scope=row>5</th><td>M1ADEPR         </td><td>0.002           </td><td>0.0060          </td></tr>\n",
       "\t<tr><th scope=row>7</th><td>M1ANTIB         </td><td>0.002           </td><td>0.0060          </td></tr>\n",
       "\t<tr><th scope=row>22</th><td>OHV24D3         </td><td>0.004           </td><td>0.0107          </td></tr>\n",
       "\t<tr><th scope=row>12</th><td>M1STATIN        </td><td>0.006           </td><td>0.0131          </td></tr>\n",
       "\t<tr><th scope=row>18</th><td>PASCORE         </td><td>0.006           </td><td>0.0131          </td></tr>\n",
       "\t<tr><th scope=row>15</th><td>M1PPUMP         </td><td>0.013           </td><td>0.0260          </td></tr>\n",
       "\t<tr><th scope=row>3</th><td>TUDRAMT         </td><td>0.019           </td><td>0.0351          </td></tr>\n",
       "\t<tr><th scope=row>16</th><td>Age             </td><td>0.034           </td><td>0.0576          </td></tr>\n",
       "\t<tr><th scope=row>17</th><td>BMI             </td><td>0.036           </td><td>0.0576          </td></tr>\n",
       "\t<tr><th scope=row>9</th><td>OHSEAS          </td><td>0.069           </td><td>0.1035          </td></tr>\n",
       "\t<tr><th scope=row>10</th><td>QLCOMP          </td><td>0.090           </td><td>0.1271          </td></tr>\n",
       "\t<tr><th scope=row>14</th><td>Laxative        </td><td>0.154           </td><td>0.2053          </td></tr>\n",
       "\t<tr><th scope=row>4</th><td>TURSMOKE        </td><td>0.187           </td><td>0.2362          </td></tr>\n",
       "\t<tr><th scope=row>21</th><td>OHVD3           </td><td>0.264           </td><td>0.3168          </td></tr>\n",
       "\t<tr><th scope=row>8</th><td>M1PROBI         </td><td>0.406           </td><td>0.4640          </td></tr>\n",
       "\t<tr><th scope=row>11</th><td>VDstatus        </td><td>0.461           </td><td>0.5029          </td></tr>\n",
       "\t<tr><th scope=row>6</th><td>M1VITMND        </td><td>0.545           </td><td>0.5450          </td></tr>\n",
       "\t<tr><th scope=row>13</th><td>Antihistamine   </td><td>0.537           </td><td>0.5450          </td></tr>\n",
       "</tbody>\n",
       "</table>\n"
      ],
      "text/latex": [
       "\\begin{tabular}{r|lll}\n",
       "  & name & pval & qval\\\\\n",
       "\\hline\n",
       "\t1 & GIERACE          & 0.001            & 0.0040          \\\\\n",
       "\t2 & SITE             & 0.001            & 0.0040          \\\\\n",
       "\t19 & Rstarch\\_total    & 0.001              & 0.0040            \\\\\n",
       "\t20 & OHV1D3           & 0.001            & 0.0040          \\\\\n",
       "\t23 & ratio\\_activation & 0.001              & 0.0040            \\\\\n",
       "\t24 & ratio\\_catabolism & 0.001              & 0.0040            \\\\\n",
       "\t5 & M1ADEPR          & 0.002            & 0.0060          \\\\\n",
       "\t7 & M1ANTIB          & 0.002            & 0.0060          \\\\\n",
       "\t22 & OHV24D3          & 0.004            & 0.0107          \\\\\n",
       "\t12 & M1STATIN         & 0.006            & 0.0131          \\\\\n",
       "\t18 & PASCORE          & 0.006            & 0.0131          \\\\\n",
       "\t15 & M1PPUMP          & 0.013            & 0.0260          \\\\\n",
       "\t3 & TUDRAMT          & 0.019            & 0.0351          \\\\\n",
       "\t16 & Age              & 0.034            & 0.0576          \\\\\n",
       "\t17 & BMI              & 0.036            & 0.0576          \\\\\n",
       "\t9 & OHSEAS           & 0.069            & 0.1035          \\\\\n",
       "\t10 & QLCOMP           & 0.090            & 0.1271          \\\\\n",
       "\t14 & Laxative         & 0.154            & 0.2053          \\\\\n",
       "\t4 & TURSMOKE         & 0.187            & 0.2362          \\\\\n",
       "\t21 & OHVD3            & 0.264            & 0.3168          \\\\\n",
       "\t8 & M1PROBI          & 0.406            & 0.4640          \\\\\n",
       "\t11 & VDstatus         & 0.461            & 0.5029          \\\\\n",
       "\t6 & M1VITMND         & 0.545            & 0.5450          \\\\\n",
       "\t13 & Antihistamine    & 0.537            & 0.5450          \\\\\n",
       "\\end{tabular}\n"
      ],
      "text/markdown": [
       "\n",
       "| <!--/--> | name | pval | qval |\n",
       "|---|---|---|---|\n",
       "| 1 | GIERACE          | 0.001            | 0.0040           |\n",
       "| 2 | SITE             | 0.001            | 0.0040           |\n",
       "| 19 | Rstarch_total    | 0.001            | 0.0040           |\n",
       "| 20 | OHV1D3           | 0.001            | 0.0040           |\n",
       "| 23 | ratio_activation | 0.001            | 0.0040           |\n",
       "| 24 | ratio_catabolism | 0.001            | 0.0040           |\n",
       "| 5 | M1ADEPR          | 0.002            | 0.0060           |\n",
       "| 7 | M1ANTIB          | 0.002            | 0.0060           |\n",
       "| 22 | OHV24D3          | 0.004            | 0.0107           |\n",
       "| 12 | M1STATIN         | 0.006            | 0.0131           |\n",
       "| 18 | PASCORE          | 0.006            | 0.0131           |\n",
       "| 15 | M1PPUMP          | 0.013            | 0.0260           |\n",
       "| 3 | TUDRAMT          | 0.019            | 0.0351           |\n",
       "| 16 | Age              | 0.034            | 0.0576           |\n",
       "| 17 | BMI              | 0.036            | 0.0576           |\n",
       "| 9 | OHSEAS           | 0.069            | 0.1035           |\n",
       "| 10 | QLCOMP           | 0.090            | 0.1271           |\n",
       "| 14 | Laxative         | 0.154            | 0.2053           |\n",
       "| 4 | TURSMOKE         | 0.187            | 0.2362           |\n",
       "| 21 | OHVD3            | 0.264            | 0.3168           |\n",
       "| 8 | M1PROBI          | 0.406            | 0.4640           |\n",
       "| 11 | VDstatus         | 0.461            | 0.5029           |\n",
       "| 6 | M1VITMND         | 0.545            | 0.5450           |\n",
       "| 13 | Antihistamine    | 0.537            | 0.5450           |\n",
       "\n"
      ],
      "text/plain": [
       "   name             pval  qval  \n",
       "1  GIERACE          0.001 0.0040\n",
       "2  SITE             0.001 0.0040\n",
       "19 Rstarch_total    0.001 0.0040\n",
       "20 OHV1D3           0.001 0.0040\n",
       "23 ratio_activation 0.001 0.0040\n",
       "24 ratio_catabolism 0.001 0.0040\n",
       "5  M1ADEPR          0.002 0.0060\n",
       "7  M1ANTIB          0.002 0.0060\n",
       "22 OHV24D3          0.004 0.0107\n",
       "12 M1STATIN         0.006 0.0131\n",
       "18 PASCORE          0.006 0.0131\n",
       "15 M1PPUMP          0.013 0.0260\n",
       "3  TUDRAMT          0.019 0.0351\n",
       "16 Age              0.034 0.0576\n",
       "17 BMI              0.036 0.0576\n",
       "9  OHSEAS           0.069 0.1035\n",
       "10 QLCOMP           0.090 0.1271\n",
       "14 Laxative         0.154 0.2053\n",
       "4  TURSMOKE         0.187 0.2362\n",
       "21 OHVD3            0.264 0.3168\n",
       "8  M1PROBI          0.406 0.4640\n",
       "11 VDstatus         0.461 0.5029\n",
       "6  M1VITMND         0.545 0.5450\n",
       "13 Antihistamine    0.537 0.5450"
      ]
     },
     "metadata": {},
     "output_type": "display_data"
    }
   ],
   "source": [
    "name <- c('GIERACE', 'SITE', 'TUDRAMT', 'TURSMOKE', 'M1ADEPR', 'M1VITMND', 'M1ANTIB', 'M1PROBI',\n",
    "          'OHSEAS','QLCOMP','VDstatus','M1STATIN','Antihistamine','Laxative','M1PPUMP',\n",
    "          'Age','BMI','PASCORE', 'Rstarch_total', 'OHV1D3','OHVD3','OHV24D3','ratio_activation','ratio_catabolism')\n",
    "\n",
    "pval <- c(GIERACE.pval, SITE.pval, TUDRAMT.pval, TURSMOKE.pval, M1ADEPR.pval, M1VITMND.pval, M1ANTIB.pval,\n",
    "          M1PROBI.pval, OHSEAS.pval, QLCOMP.pval, VDstatus.pval, M1STATIN.pval, Antihistamine.pval, Laxative.pval, M1PPUMP.pval,\n",
    "          Age.pval, BMI.pval, PASCORE.pval, Rstarch_total.pval, OHV1D3.pval, OHVD3.pval, OHV24D3.pval, ratio_activation.pval, ratio_catabolism.pval)\n",
    "d <- cbind(name, pval)\n",
    "d <-data.frame(name, pval, stringsAsFactors = F)\n",
    "\n",
    "d <- cbind(d, round(p.adjust(d$pval, \"BH\"), 4))\n",
    "colnames(d)[3] <- \"qval\"\n",
    "d[order(d$qval), ]"
   ]
  },
  {
   "cell_type": "code",
   "execution_count": 32,
   "metadata": {},
   "outputs": [
    {
     "data": {
      "text/plain": [
       "\n",
       "                              .                  0:None drinker \n",
       "                              2                             229 \n",
       "1: Less than one drink per week           2: 1-2drinks per week \n",
       "                             78                              66 \n",
       "         3: 3-5 drinks per week         4: 6-13 drinks per week \n",
       "                             90                             106 \n",
       "  5: 14 or more drinks per week \n",
       "                             27 "
      ]
     },
     "metadata": {},
     "output_type": "display_data"
    }
   ],
   "source": [
    "table(mf$TUDRAMT)"
   ]
  },
  {
   "cell_type": "code",
   "execution_count": null,
   "metadata": {},
   "outputs": [],
   "source": []
  }
 ],
 "metadata": {
  "kernelspec": {
   "display_name": "R",
   "language": "R",
   "name": "ir"
  },
  "language_info": {
   "codemirror_mode": "r",
   "file_extension": ".r",
   "mimetype": "text/x-r-source",
   "name": "R",
   "pygments_lexer": "r",
   "version": "3.6.1"
  }
 },
 "nbformat": 4,
 "nbformat_minor": 2
}
